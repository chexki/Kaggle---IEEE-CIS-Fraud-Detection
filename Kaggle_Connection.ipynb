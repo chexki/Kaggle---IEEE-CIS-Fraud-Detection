{
  "nbformat": 4,
  "nbformat_minor": 0,
  "metadata": {
    "colab": {
      "name": "Kaggle_Connection.ipynb",
      "provenance": [],
      "collapsed_sections": [],
      "authorship_tag": "ABX9TyOrWrxuOunEdy15/K/RMrE7",
      "include_colab_link": true
    },
    "kernelspec": {
      "name": "python3",
      "display_name": "Python 3"
    },
    "accelerator": "GPU",
    "widgets": {
      "application/vnd.jupyter.widget-state+json": {
        "1b3a7a1012a74c3e83cd42f6610a8a28": {
          "model_module": "@jupyter-widgets/controls",
          "model_name": "IntProgressModel",
          "state": {
            "_view_name": "ProgressView",
            "style": "IPY_MODEL_519aac516bd7461bad55374d1081fda2",
            "_dom_classes": [],
            "description": "Processing: ",
            "_model_name": "IntProgressModel",
            "bar_style": "",
            "max": 4,
            "_view_module": "@jupyter-widgets/controls",
            "_model_module_version": "1.5.0",
            "value": 3,
            "_view_count": null,
            "_view_module_version": "1.5.0",
            "orientation": "horizontal",
            "min": 0,
            "description_tooltip": null,
            "_model_module": "@jupyter-widgets/controls",
            "layout": "IPY_MODEL_4aa66daae1124b6b92891271e66211bf"
          }
        },
        "519aac516bd7461bad55374d1081fda2": {
          "model_module": "@jupyter-widgets/controls",
          "model_name": "ProgressStyleModel",
          "state": {
            "_view_name": "StyleView",
            "_model_name": "ProgressStyleModel",
            "description_width": "",
            "_view_module": "@jupyter-widgets/base",
            "_model_module_version": "1.5.0",
            "_view_count": null,
            "_view_module_version": "1.2.0",
            "bar_color": null,
            "_model_module": "@jupyter-widgets/controls"
          }
        },
        "4aa66daae1124b6b92891271e66211bf": {
          "model_module": "@jupyter-widgets/base",
          "model_name": "LayoutModel",
          "state": {
            "_view_name": "LayoutView",
            "grid_template_rows": null,
            "right": null,
            "justify_content": null,
            "_view_module": "@jupyter-widgets/base",
            "overflow": null,
            "_model_module_version": "1.2.0",
            "_view_count": null,
            "flex_flow": null,
            "width": null,
            "min_width": null,
            "border": null,
            "align_items": null,
            "bottom": null,
            "_model_module": "@jupyter-widgets/base",
            "top": null,
            "grid_column": null,
            "overflow_y": null,
            "overflow_x": null,
            "grid_auto_flow": null,
            "grid_area": null,
            "grid_template_columns": null,
            "flex": null,
            "_model_name": "LayoutModel",
            "justify_items": null,
            "grid_row": null,
            "max_height": null,
            "align_content": null,
            "visibility": null,
            "align_self": null,
            "height": null,
            "min_height": null,
            "padding": null,
            "grid_auto_rows": null,
            "grid_gap": null,
            "max_width": null,
            "order": null,
            "_view_module_version": "1.2.0",
            "grid_template_areas": null,
            "object_position": null,
            "object_fit": null,
            "grid_auto_columns": null,
            "margin": null,
            "display": null,
            "left": null
          }
        },
        "fae12386945a4034b4866a23066b03d6": {
          "model_module": "@jupyter-widgets/controls",
          "model_name": "TextModel",
          "state": {
            "_view_name": "TextView",
            "style": "IPY_MODEL_f4da9042097044e1b99fb0daa7432df7",
            "_dom_classes": [],
            "description": "",
            "_model_name": "TextModel",
            "placeholder": "​",
            "_view_module": "@jupyter-widgets/controls",
            "_model_module_version": "1.5.0",
            "value": "Following data types have been inferred automatically, if they are correct press enter to continue or type 'quit' otherwise.",
            "_view_count": null,
            "disabled": false,
            "_view_module_version": "1.5.0",
            "continuous_update": true,
            "description_tooltip": null,
            "_model_module": "@jupyter-widgets/controls",
            "layout": "IPY_MODEL_9165b49d7d0d4f978e8944df9efe6f76"
          }
        },
        "f4da9042097044e1b99fb0daa7432df7": {
          "model_module": "@jupyter-widgets/controls",
          "model_name": "DescriptionStyleModel",
          "state": {
            "_view_name": "StyleView",
            "_model_name": "DescriptionStyleModel",
            "description_width": "",
            "_view_module": "@jupyter-widgets/base",
            "_model_module_version": "1.5.0",
            "_view_count": null,
            "_view_module_version": "1.2.0",
            "_model_module": "@jupyter-widgets/controls"
          }
        },
        "9165b49d7d0d4f978e8944df9efe6f76": {
          "model_module": "@jupyter-widgets/base",
          "model_name": "LayoutModel",
          "state": {
            "_view_name": "LayoutView",
            "grid_template_rows": null,
            "right": null,
            "justify_content": null,
            "_view_module": "@jupyter-widgets/base",
            "overflow": null,
            "_model_module_version": "1.2.0",
            "_view_count": null,
            "flex_flow": null,
            "width": "100%",
            "min_width": null,
            "border": null,
            "align_items": null,
            "bottom": null,
            "_model_module": "@jupyter-widgets/base",
            "top": null,
            "grid_column": null,
            "overflow_y": null,
            "overflow_x": null,
            "grid_auto_flow": null,
            "grid_area": null,
            "grid_template_columns": null,
            "flex": null,
            "_model_name": "LayoutModel",
            "justify_items": null,
            "grid_row": null,
            "max_height": null,
            "align_content": null,
            "visibility": null,
            "align_self": null,
            "height": null,
            "min_height": null,
            "padding": null,
            "grid_auto_rows": null,
            "grid_gap": null,
            "max_width": null,
            "order": null,
            "_view_module_version": "1.2.0",
            "grid_template_areas": null,
            "object_position": null,
            "object_fit": null,
            "grid_auto_columns": null,
            "margin": null,
            "display": null,
            "left": null
          }
        },
        "6bc29713bef142b1bf63801342873df1": {
          "model_module": "@jupyter-widgets/controls",
          "model_name": "IntProgressModel",
          "state": {
            "_view_name": "ProgressView",
            "style": "IPY_MODEL_bd3f75291d1c42b0a1acd95747510d42",
            "_dom_classes": [],
            "description": "Processing: ",
            "_model_name": "IntProgressModel",
            "bar_style": "",
            "max": 25,
            "_view_module": "@jupyter-widgets/controls",
            "_model_module_version": "1.5.0",
            "value": 24,
            "_view_count": null,
            "_view_module_version": "1.5.0",
            "orientation": "horizontal",
            "min": 0,
            "description_tooltip": null,
            "_model_module": "@jupyter-widgets/controls",
            "layout": "IPY_MODEL_753915300a7a40c1908ecd2957a87b74"
          }
        },
        "bd3f75291d1c42b0a1acd95747510d42": {
          "model_module": "@jupyter-widgets/controls",
          "model_name": "ProgressStyleModel",
          "state": {
            "_view_name": "StyleView",
            "_model_name": "ProgressStyleModel",
            "description_width": "",
            "_view_module": "@jupyter-widgets/base",
            "_model_module_version": "1.5.0",
            "_view_count": null,
            "_view_module_version": "1.2.0",
            "bar_color": null,
            "_model_module": "@jupyter-widgets/controls"
          }
        },
        "753915300a7a40c1908ecd2957a87b74": {
          "model_module": "@jupyter-widgets/base",
          "model_name": "LayoutModel",
          "state": {
            "_view_name": "LayoutView",
            "grid_template_rows": null,
            "right": null,
            "justify_content": null,
            "_view_module": "@jupyter-widgets/base",
            "overflow": null,
            "_model_module_version": "1.2.0",
            "_view_count": null,
            "flex_flow": null,
            "width": null,
            "min_width": null,
            "border": null,
            "align_items": null,
            "bottom": null,
            "_model_module": "@jupyter-widgets/base",
            "top": null,
            "grid_column": null,
            "overflow_y": null,
            "overflow_x": null,
            "grid_auto_flow": null,
            "grid_area": null,
            "grid_template_columns": null,
            "flex": null,
            "_model_name": "LayoutModel",
            "justify_items": null,
            "grid_row": null,
            "max_height": null,
            "align_content": null,
            "visibility": null,
            "align_self": null,
            "height": null,
            "min_height": null,
            "padding": null,
            "grid_auto_rows": null,
            "grid_gap": null,
            "max_width": null,
            "order": null,
            "_view_module_version": "1.2.0",
            "grid_template_areas": null,
            "object_position": null,
            "object_fit": null,
            "grid_auto_columns": null,
            "margin": null,
            "display": null,
            "left": null
          }
        },
        "6c287935f46d4e3181231faed18e6d0b": {
          "model_module": "@jupyter-widgets/output",
          "model_name": "OutputModel",
          "state": {
            "_view_name": "OutputView",
            "msg_id": "",
            "_dom_classes": [],
            "_model_name": "OutputModel",
            "outputs": [],
            "_view_module": "@jupyter-widgets/output",
            "_model_module_version": "1.0.0",
            "_view_count": null,
            "_view_module_version": "1.0.0",
            "layout": "IPY_MODEL_f4e22f2e210c4386b38fa83213bca583",
            "_model_module": "@jupyter-widgets/output"
          }
        },
        "f4e22f2e210c4386b38fa83213bca583": {
          "model_module": "@jupyter-widgets/base",
          "model_name": "LayoutModel",
          "state": {
            "_view_name": "LayoutView",
            "grid_template_rows": null,
            "right": null,
            "justify_content": null,
            "_view_module": "@jupyter-widgets/base",
            "overflow": null,
            "_model_module_version": "1.2.0",
            "_view_count": null,
            "flex_flow": null,
            "width": null,
            "min_width": null,
            "border": null,
            "align_items": null,
            "bottom": null,
            "_model_module": "@jupyter-widgets/base",
            "top": null,
            "grid_column": null,
            "overflow_y": null,
            "overflow_x": null,
            "grid_auto_flow": null,
            "grid_area": null,
            "grid_template_columns": null,
            "flex": null,
            "_model_name": "LayoutModel",
            "justify_items": null,
            "grid_row": null,
            "max_height": null,
            "align_content": null,
            "visibility": null,
            "align_self": null,
            "height": null,
            "min_height": null,
            "padding": null,
            "grid_auto_rows": null,
            "grid_gap": null,
            "max_width": null,
            "order": null,
            "_view_module_version": "1.2.0",
            "grid_template_areas": null,
            "object_position": null,
            "object_fit": null,
            "grid_auto_columns": null,
            "margin": null,
            "display": null,
            "left": null
          }
        }
      }
    }
  },
  "cells": [
    {
      "cell_type": "markdown",
      "metadata": {
        "id": "view-in-github",
        "colab_type": "text"
      },
      "source": [
        "<a href=\"https://colab.research.google.com/github/chexki/Kaggle---IEEE-CIS-Fraud-Detection/blob/master/Kaggle_Connection.ipynb\" target=\"_parent\"><img src=\"https://colab.research.google.com/assets/colab-badge.svg\" alt=\"Open In Colab\"/></a>"
      ]
    },
    {
      "cell_type": "code",
      "metadata": {
        "id": "SXB-EkXj0p8x",
        "colab_type": "code",
        "outputId": "ab1063c2-841d-4673-d31e-3432b00d91c9",
        "colab": {
          "base_uri": "https://localhost:8080/",
          "height": 129
        }
      },
      "source": [
        "from google.colab import drive\n",
        "drive.mount('/content/drive')"
      ],
      "execution_count": 1,
      "outputs": [
        {
          "output_type": "stream",
          "text": [
            "Go to this URL in a browser: https://accounts.google.com/o/oauth2/auth?client_id=947318989803-6bn6qk8qdgf4n4g3pfee6491hc0brc4i.apps.googleusercontent.com&redirect_uri=urn%3aietf%3awg%3aoauth%3a2.0%3aoob&response_type=code&scope=email%20https%3a%2f%2fwww.googleapis.com%2fauth%2fdocs.test%20https%3a%2f%2fwww.googleapis.com%2fauth%2fdrive%20https%3a%2f%2fwww.googleapis.com%2fauth%2fdrive.photos.readonly%20https%3a%2f%2fwww.googleapis.com%2fauth%2fpeopleapi.readonly\n",
            "\n",
            "Enter your authorization code:\n",
            "··········\n",
            "Mounted at /content/drive\n"
          ],
          "name": "stdout"
        }
      ]
    },
    {
      "cell_type": "code",
      "metadata": {
        "id": "-qPLa-p_2n_A",
        "colab_type": "code",
        "colab": {}
      },
      "source": [
        "# !pip install kaggle\n",
        "# !mkdir .kaggle\n",
        "# import json\n",
        "# token = \n",
        "# with open('/content/.kaggle/kaggle.json', 'w') as file:\n",
        "#     json.dump(token, file)\n",
        "# !cp /content/.kaggle/kaggle.json ~/.kaggle/kaggle.json\n",
        "# !kaggle config set -n path -v{/content}\n",
        "# !chmod 600 /root/.kaggle/kaggle.json\n",
        "# !kaggle competitions download -c ieee-fraud-detection -p /gdrive "
      ],
      "execution_count": 0,
      "outputs": []
    },
    {
      "cell_type": "code",
      "metadata": {
        "id": "pAtI2EOf_sKM",
        "colab_type": "code",
        "colab": {}
      },
      "source": [
        "! cd /content/drive"
      ],
      "execution_count": 0,
      "outputs": []
    },
    {
      "cell_type": "code",
      "metadata": {
        "id": "Z86_dtQEKDUb",
        "colab_type": "code",
        "colab": {}
      },
      "source": [
        "!unzip -q \"/content/drive/My Drive/Projects/Kaggle - IEEE-CIS Fraud Detection/ieee-fraud-detection.zip\""
      ],
      "execution_count": 0,
      "outputs": []
    },
    {
      "cell_type": "code",
      "metadata": {
        "id": "pieukAsZ5Dr-",
        "colab_type": "code",
        "colab": {}
      },
      "source": [
        "import pandas as pd"
      ],
      "execution_count": 0,
      "outputs": []
    },
    {
      "cell_type": "code",
      "metadata": {
        "id": "TPQYW2Qk44La",
        "colab_type": "code",
        "colab": {}
      },
      "source": [
        "# Data Imported\n",
        "train_transaction = pd.read_csv(r'/content/train_transaction.csv')\n",
        "train_identity = pd.read_csv(r'/content/train_identity.csv')\n",
        "#test_transaction = pd.read_csv(r'/content/test_transaction.csv')\n",
        "#test_identity = pd.read_csv(r'/content/test_identity.csv')"
      ],
      "execution_count": 0,
      "outputs": []
    },
    {
      "cell_type": "markdown",
      "metadata": {
        "id": "GqmnIZ474Mib",
        "colab_type": "text"
      },
      "source": [
        "> **Exploratory_Data Analysis**"
      ]
    },
    {
      "cell_type": "code",
      "metadata": {
        "trusted": true,
        "id": "bjFo86zx4Mid",
        "colab_type": "code",
        "outputId": "53ac1635-d231-49b8-cf27-04e489671bbf",
        "colab": {
          "base_uri": "https://localhost:8080/",
          "height": 256
        }
      },
      "source": [
        "train_transaction.head(5)"
      ],
      "execution_count": 0,
      "outputs": [
        {
          "output_type": "execute_result",
          "data": {
            "text/html": [
              "<div>\n",
              "<style scoped>\n",
              "    .dataframe tbody tr th:only-of-type {\n",
              "        vertical-align: middle;\n",
              "    }\n",
              "\n",
              "    .dataframe tbody tr th {\n",
              "        vertical-align: top;\n",
              "    }\n",
              "\n",
              "    .dataframe thead th {\n",
              "        text-align: right;\n",
              "    }\n",
              "</style>\n",
              "<table border=\"1\" class=\"dataframe\">\n",
              "  <thead>\n",
              "    <tr style=\"text-align: right;\">\n",
              "      <th></th>\n",
              "      <th>TransactionID</th>\n",
              "      <th>isFraud</th>\n",
              "      <th>TransactionDT</th>\n",
              "      <th>TransactionAmt</th>\n",
              "      <th>ProductCD</th>\n",
              "      <th>card1</th>\n",
              "      <th>card2</th>\n",
              "      <th>card3</th>\n",
              "      <th>card4</th>\n",
              "      <th>card5</th>\n",
              "      <th>card6</th>\n",
              "      <th>addr1</th>\n",
              "      <th>addr2</th>\n",
              "      <th>dist1</th>\n",
              "      <th>dist2</th>\n",
              "      <th>P_emaildomain</th>\n",
              "      <th>R_emaildomain</th>\n",
              "      <th>C1</th>\n",
              "      <th>C2</th>\n",
              "      <th>C3</th>\n",
              "      <th>C4</th>\n",
              "      <th>C5</th>\n",
              "      <th>C6</th>\n",
              "      <th>C7</th>\n",
              "      <th>C8</th>\n",
              "      <th>C9</th>\n",
              "      <th>C10</th>\n",
              "      <th>C11</th>\n",
              "      <th>C12</th>\n",
              "      <th>C13</th>\n",
              "      <th>C14</th>\n",
              "      <th>D1</th>\n",
              "      <th>D2</th>\n",
              "      <th>D3</th>\n",
              "      <th>D4</th>\n",
              "      <th>D5</th>\n",
              "      <th>D6</th>\n",
              "      <th>D7</th>\n",
              "      <th>D8</th>\n",
              "      <th>D9</th>\n",
              "      <th>...</th>\n",
              "      <th>V300</th>\n",
              "      <th>V301</th>\n",
              "      <th>V302</th>\n",
              "      <th>V303</th>\n",
              "      <th>V304</th>\n",
              "      <th>V305</th>\n",
              "      <th>V306</th>\n",
              "      <th>V307</th>\n",
              "      <th>V308</th>\n",
              "      <th>V309</th>\n",
              "      <th>V310</th>\n",
              "      <th>V311</th>\n",
              "      <th>V312</th>\n",
              "      <th>V313</th>\n",
              "      <th>V314</th>\n",
              "      <th>V315</th>\n",
              "      <th>V316</th>\n",
              "      <th>V317</th>\n",
              "      <th>V318</th>\n",
              "      <th>V319</th>\n",
              "      <th>V320</th>\n",
              "      <th>V321</th>\n",
              "      <th>V322</th>\n",
              "      <th>V323</th>\n",
              "      <th>V324</th>\n",
              "      <th>V325</th>\n",
              "      <th>V326</th>\n",
              "      <th>V327</th>\n",
              "      <th>V328</th>\n",
              "      <th>V329</th>\n",
              "      <th>V330</th>\n",
              "      <th>V331</th>\n",
              "      <th>V332</th>\n",
              "      <th>V333</th>\n",
              "      <th>V334</th>\n",
              "      <th>V335</th>\n",
              "      <th>V336</th>\n",
              "      <th>V337</th>\n",
              "      <th>V338</th>\n",
              "      <th>V339</th>\n",
              "    </tr>\n",
              "  </thead>\n",
              "  <tbody>\n",
              "    <tr>\n",
              "      <th>0</th>\n",
              "      <td>2987000</td>\n",
              "      <td>0</td>\n",
              "      <td>86400</td>\n",
              "      <td>68.5</td>\n",
              "      <td>W</td>\n",
              "      <td>13926</td>\n",
              "      <td>NaN</td>\n",
              "      <td>150.0</td>\n",
              "      <td>discover</td>\n",
              "      <td>142.0</td>\n",
              "      <td>credit</td>\n",
              "      <td>315.0</td>\n",
              "      <td>87.0</td>\n",
              "      <td>19.0</td>\n",
              "      <td>NaN</td>\n",
              "      <td>NaN</td>\n",
              "      <td>NaN</td>\n",
              "      <td>1.0</td>\n",
              "      <td>1.0</td>\n",
              "      <td>0.0</td>\n",
              "      <td>0.0</td>\n",
              "      <td>0.0</td>\n",
              "      <td>1.0</td>\n",
              "      <td>0.0</td>\n",
              "      <td>0.0</td>\n",
              "      <td>1.0</td>\n",
              "      <td>0.0</td>\n",
              "      <td>2.0</td>\n",
              "      <td>0.0</td>\n",
              "      <td>1.0</td>\n",
              "      <td>1.0</td>\n",
              "      <td>14.0</td>\n",
              "      <td>NaN</td>\n",
              "      <td>13.0</td>\n",
              "      <td>NaN</td>\n",
              "      <td>NaN</td>\n",
              "      <td>NaN</td>\n",
              "      <td>NaN</td>\n",
              "      <td>NaN</td>\n",
              "      <td>NaN</td>\n",
              "      <td>...</td>\n",
              "      <td>0.0</td>\n",
              "      <td>0.0</td>\n",
              "      <td>0.0</td>\n",
              "      <td>0.0</td>\n",
              "      <td>0.0</td>\n",
              "      <td>1.0</td>\n",
              "      <td>0.0</td>\n",
              "      <td>117.0</td>\n",
              "      <td>0.0</td>\n",
              "      <td>0.0</td>\n",
              "      <td>0.0</td>\n",
              "      <td>0.0</td>\n",
              "      <td>0.0</td>\n",
              "      <td>0.0</td>\n",
              "      <td>0.0</td>\n",
              "      <td>0.0</td>\n",
              "      <td>0.0</td>\n",
              "      <td>117.0</td>\n",
              "      <td>0.0</td>\n",
              "      <td>0.0</td>\n",
              "      <td>0.0</td>\n",
              "      <td>0.0</td>\n",
              "      <td>NaN</td>\n",
              "      <td>NaN</td>\n",
              "      <td>NaN</td>\n",
              "      <td>NaN</td>\n",
              "      <td>NaN</td>\n",
              "      <td>NaN</td>\n",
              "      <td>NaN</td>\n",
              "      <td>NaN</td>\n",
              "      <td>NaN</td>\n",
              "      <td>NaN</td>\n",
              "      <td>NaN</td>\n",
              "      <td>NaN</td>\n",
              "      <td>NaN</td>\n",
              "      <td>NaN</td>\n",
              "      <td>NaN</td>\n",
              "      <td>NaN</td>\n",
              "      <td>NaN</td>\n",
              "      <td>NaN</td>\n",
              "    </tr>\n",
              "    <tr>\n",
              "      <th>1</th>\n",
              "      <td>2987001</td>\n",
              "      <td>0</td>\n",
              "      <td>86401</td>\n",
              "      <td>29.0</td>\n",
              "      <td>W</td>\n",
              "      <td>2755</td>\n",
              "      <td>404.0</td>\n",
              "      <td>150.0</td>\n",
              "      <td>mastercard</td>\n",
              "      <td>102.0</td>\n",
              "      <td>credit</td>\n",
              "      <td>325.0</td>\n",
              "      <td>87.0</td>\n",
              "      <td>NaN</td>\n",
              "      <td>NaN</td>\n",
              "      <td>gmail.com</td>\n",
              "      <td>NaN</td>\n",
              "      <td>1.0</td>\n",
              "      <td>1.0</td>\n",
              "      <td>0.0</td>\n",
              "      <td>0.0</td>\n",
              "      <td>0.0</td>\n",
              "      <td>1.0</td>\n",
              "      <td>0.0</td>\n",
              "      <td>0.0</td>\n",
              "      <td>0.0</td>\n",
              "      <td>0.0</td>\n",
              "      <td>1.0</td>\n",
              "      <td>0.0</td>\n",
              "      <td>1.0</td>\n",
              "      <td>1.0</td>\n",
              "      <td>0.0</td>\n",
              "      <td>NaN</td>\n",
              "      <td>NaN</td>\n",
              "      <td>0.0</td>\n",
              "      <td>NaN</td>\n",
              "      <td>NaN</td>\n",
              "      <td>NaN</td>\n",
              "      <td>NaN</td>\n",
              "      <td>NaN</td>\n",
              "      <td>...</td>\n",
              "      <td>0.0</td>\n",
              "      <td>0.0</td>\n",
              "      <td>0.0</td>\n",
              "      <td>0.0</td>\n",
              "      <td>0.0</td>\n",
              "      <td>1.0</td>\n",
              "      <td>0.0</td>\n",
              "      <td>0.0</td>\n",
              "      <td>0.0</td>\n",
              "      <td>0.0</td>\n",
              "      <td>0.0</td>\n",
              "      <td>0.0</td>\n",
              "      <td>0.0</td>\n",
              "      <td>0.0</td>\n",
              "      <td>0.0</td>\n",
              "      <td>0.0</td>\n",
              "      <td>0.0</td>\n",
              "      <td>0.0</td>\n",
              "      <td>0.0</td>\n",
              "      <td>0.0</td>\n",
              "      <td>0.0</td>\n",
              "      <td>0.0</td>\n",
              "      <td>NaN</td>\n",
              "      <td>NaN</td>\n",
              "      <td>NaN</td>\n",
              "      <td>NaN</td>\n",
              "      <td>NaN</td>\n",
              "      <td>NaN</td>\n",
              "      <td>NaN</td>\n",
              "      <td>NaN</td>\n",
              "      <td>NaN</td>\n",
              "      <td>NaN</td>\n",
              "      <td>NaN</td>\n",
              "      <td>NaN</td>\n",
              "      <td>NaN</td>\n",
              "      <td>NaN</td>\n",
              "      <td>NaN</td>\n",
              "      <td>NaN</td>\n",
              "      <td>NaN</td>\n",
              "      <td>NaN</td>\n",
              "    </tr>\n",
              "    <tr>\n",
              "      <th>2</th>\n",
              "      <td>2987002</td>\n",
              "      <td>0</td>\n",
              "      <td>86469</td>\n",
              "      <td>59.0</td>\n",
              "      <td>W</td>\n",
              "      <td>4663</td>\n",
              "      <td>490.0</td>\n",
              "      <td>150.0</td>\n",
              "      <td>visa</td>\n",
              "      <td>166.0</td>\n",
              "      <td>debit</td>\n",
              "      <td>330.0</td>\n",
              "      <td>87.0</td>\n",
              "      <td>287.0</td>\n",
              "      <td>NaN</td>\n",
              "      <td>outlook.com</td>\n",
              "      <td>NaN</td>\n",
              "      <td>1.0</td>\n",
              "      <td>1.0</td>\n",
              "      <td>0.0</td>\n",
              "      <td>0.0</td>\n",
              "      <td>0.0</td>\n",
              "      <td>1.0</td>\n",
              "      <td>0.0</td>\n",
              "      <td>0.0</td>\n",
              "      <td>1.0</td>\n",
              "      <td>0.0</td>\n",
              "      <td>1.0</td>\n",
              "      <td>0.0</td>\n",
              "      <td>1.0</td>\n",
              "      <td>1.0</td>\n",
              "      <td>0.0</td>\n",
              "      <td>NaN</td>\n",
              "      <td>NaN</td>\n",
              "      <td>0.0</td>\n",
              "      <td>NaN</td>\n",
              "      <td>NaN</td>\n",
              "      <td>NaN</td>\n",
              "      <td>NaN</td>\n",
              "      <td>NaN</td>\n",
              "      <td>...</td>\n",
              "      <td>0.0</td>\n",
              "      <td>0.0</td>\n",
              "      <td>0.0</td>\n",
              "      <td>0.0</td>\n",
              "      <td>0.0</td>\n",
              "      <td>1.0</td>\n",
              "      <td>0.0</td>\n",
              "      <td>0.0</td>\n",
              "      <td>0.0</td>\n",
              "      <td>0.0</td>\n",
              "      <td>0.0</td>\n",
              "      <td>0.0</td>\n",
              "      <td>0.0</td>\n",
              "      <td>0.0</td>\n",
              "      <td>0.0</td>\n",
              "      <td>0.0</td>\n",
              "      <td>0.0</td>\n",
              "      <td>0.0</td>\n",
              "      <td>0.0</td>\n",
              "      <td>0.0</td>\n",
              "      <td>0.0</td>\n",
              "      <td>0.0</td>\n",
              "      <td>NaN</td>\n",
              "      <td>NaN</td>\n",
              "      <td>NaN</td>\n",
              "      <td>NaN</td>\n",
              "      <td>NaN</td>\n",
              "      <td>NaN</td>\n",
              "      <td>NaN</td>\n",
              "      <td>NaN</td>\n",
              "      <td>NaN</td>\n",
              "      <td>NaN</td>\n",
              "      <td>NaN</td>\n",
              "      <td>NaN</td>\n",
              "      <td>NaN</td>\n",
              "      <td>NaN</td>\n",
              "      <td>NaN</td>\n",
              "      <td>NaN</td>\n",
              "      <td>NaN</td>\n",
              "      <td>NaN</td>\n",
              "    </tr>\n",
              "    <tr>\n",
              "      <th>3</th>\n",
              "      <td>2987003</td>\n",
              "      <td>0</td>\n",
              "      <td>86499</td>\n",
              "      <td>50.0</td>\n",
              "      <td>W</td>\n",
              "      <td>18132</td>\n",
              "      <td>567.0</td>\n",
              "      <td>150.0</td>\n",
              "      <td>mastercard</td>\n",
              "      <td>117.0</td>\n",
              "      <td>debit</td>\n",
              "      <td>476.0</td>\n",
              "      <td>87.0</td>\n",
              "      <td>NaN</td>\n",
              "      <td>NaN</td>\n",
              "      <td>yahoo.com</td>\n",
              "      <td>NaN</td>\n",
              "      <td>2.0</td>\n",
              "      <td>5.0</td>\n",
              "      <td>0.0</td>\n",
              "      <td>0.0</td>\n",
              "      <td>0.0</td>\n",
              "      <td>4.0</td>\n",
              "      <td>0.0</td>\n",
              "      <td>0.0</td>\n",
              "      <td>1.0</td>\n",
              "      <td>0.0</td>\n",
              "      <td>1.0</td>\n",
              "      <td>0.0</td>\n",
              "      <td>25.0</td>\n",
              "      <td>1.0</td>\n",
              "      <td>112.0</td>\n",
              "      <td>112.0</td>\n",
              "      <td>0.0</td>\n",
              "      <td>94.0</td>\n",
              "      <td>0.0</td>\n",
              "      <td>NaN</td>\n",
              "      <td>NaN</td>\n",
              "      <td>NaN</td>\n",
              "      <td>NaN</td>\n",
              "      <td>...</td>\n",
              "      <td>0.0</td>\n",
              "      <td>0.0</td>\n",
              "      <td>0.0</td>\n",
              "      <td>0.0</td>\n",
              "      <td>0.0</td>\n",
              "      <td>1.0</td>\n",
              "      <td>50.0</td>\n",
              "      <td>1758.0</td>\n",
              "      <td>925.0</td>\n",
              "      <td>0.0</td>\n",
              "      <td>354.0</td>\n",
              "      <td>0.0</td>\n",
              "      <td>135.0</td>\n",
              "      <td>0.0</td>\n",
              "      <td>0.0</td>\n",
              "      <td>0.0</td>\n",
              "      <td>50.0</td>\n",
              "      <td>1404.0</td>\n",
              "      <td>790.0</td>\n",
              "      <td>0.0</td>\n",
              "      <td>0.0</td>\n",
              "      <td>0.0</td>\n",
              "      <td>NaN</td>\n",
              "      <td>NaN</td>\n",
              "      <td>NaN</td>\n",
              "      <td>NaN</td>\n",
              "      <td>NaN</td>\n",
              "      <td>NaN</td>\n",
              "      <td>NaN</td>\n",
              "      <td>NaN</td>\n",
              "      <td>NaN</td>\n",
              "      <td>NaN</td>\n",
              "      <td>NaN</td>\n",
              "      <td>NaN</td>\n",
              "      <td>NaN</td>\n",
              "      <td>NaN</td>\n",
              "      <td>NaN</td>\n",
              "      <td>NaN</td>\n",
              "      <td>NaN</td>\n",
              "      <td>NaN</td>\n",
              "    </tr>\n",
              "    <tr>\n",
              "      <th>4</th>\n",
              "      <td>2987004</td>\n",
              "      <td>0</td>\n",
              "      <td>86506</td>\n",
              "      <td>50.0</td>\n",
              "      <td>H</td>\n",
              "      <td>4497</td>\n",
              "      <td>514.0</td>\n",
              "      <td>150.0</td>\n",
              "      <td>mastercard</td>\n",
              "      <td>102.0</td>\n",
              "      <td>credit</td>\n",
              "      <td>420.0</td>\n",
              "      <td>87.0</td>\n",
              "      <td>NaN</td>\n",
              "      <td>NaN</td>\n",
              "      <td>gmail.com</td>\n",
              "      <td>NaN</td>\n",
              "      <td>1.0</td>\n",
              "      <td>1.0</td>\n",
              "      <td>0.0</td>\n",
              "      <td>0.0</td>\n",
              "      <td>0.0</td>\n",
              "      <td>1.0</td>\n",
              "      <td>0.0</td>\n",
              "      <td>1.0</td>\n",
              "      <td>0.0</td>\n",
              "      <td>1.0</td>\n",
              "      <td>1.0</td>\n",
              "      <td>0.0</td>\n",
              "      <td>1.0</td>\n",
              "      <td>1.0</td>\n",
              "      <td>0.0</td>\n",
              "      <td>NaN</td>\n",
              "      <td>NaN</td>\n",
              "      <td>NaN</td>\n",
              "      <td>NaN</td>\n",
              "      <td>NaN</td>\n",
              "      <td>NaN</td>\n",
              "      <td>NaN</td>\n",
              "      <td>NaN</td>\n",
              "      <td>...</td>\n",
              "      <td>0.0</td>\n",
              "      <td>0.0</td>\n",
              "      <td>1.0</td>\n",
              "      <td>1.0</td>\n",
              "      <td>1.0</td>\n",
              "      <td>1.0</td>\n",
              "      <td>0.0</td>\n",
              "      <td>0.0</td>\n",
              "      <td>0.0</td>\n",
              "      <td>0.0</td>\n",
              "      <td>0.0</td>\n",
              "      <td>0.0</td>\n",
              "      <td>0.0</td>\n",
              "      <td>0.0</td>\n",
              "      <td>0.0</td>\n",
              "      <td>0.0</td>\n",
              "      <td>0.0</td>\n",
              "      <td>0.0</td>\n",
              "      <td>0.0</td>\n",
              "      <td>0.0</td>\n",
              "      <td>0.0</td>\n",
              "      <td>0.0</td>\n",
              "      <td>0.0</td>\n",
              "      <td>0.0</td>\n",
              "      <td>0.0</td>\n",
              "      <td>0.0</td>\n",
              "      <td>0.0</td>\n",
              "      <td>0.0</td>\n",
              "      <td>0.0</td>\n",
              "      <td>0.0</td>\n",
              "      <td>0.0</td>\n",
              "      <td>0.0</td>\n",
              "      <td>0.0</td>\n",
              "      <td>0.0</td>\n",
              "      <td>0.0</td>\n",
              "      <td>0.0</td>\n",
              "      <td>0.0</td>\n",
              "      <td>0.0</td>\n",
              "      <td>0.0</td>\n",
              "      <td>0.0</td>\n",
              "    </tr>\n",
              "  </tbody>\n",
              "</table>\n",
              "<p>5 rows × 394 columns</p>\n",
              "</div>"
            ],
            "text/plain": [
              "   TransactionID  isFraud  TransactionDT  ...  V337 V338  V339\n",
              "0        2987000        0          86400  ...   NaN  NaN   NaN\n",
              "1        2987001        0          86401  ...   NaN  NaN   NaN\n",
              "2        2987002        0          86469  ...   NaN  NaN   NaN\n",
              "3        2987003        0          86499  ...   NaN  NaN   NaN\n",
              "4        2987004        0          86506  ...   0.0  0.0   0.0\n",
              "\n",
              "[5 rows x 394 columns]"
            ]
          },
          "metadata": {
            "tags": []
          },
          "execution_count": 16
        }
      ]
    },
    {
      "cell_type": "code",
      "metadata": {
        "trusted": true,
        "id": "UMYvseQ64Miq",
        "colab_type": "code",
        "outputId": "6e1315d5-69da-47b9-a6a4-a5c316c13356",
        "colab": {
          "base_uri": "https://localhost:8080/",
          "height": 365
        }
      },
      "source": [
        "train_identity.head(5)"
      ],
      "execution_count": 0,
      "outputs": [
        {
          "output_type": "execute_result",
          "data": {
            "text/html": [
              "<div>\n",
              "<style scoped>\n",
              "    .dataframe tbody tr th:only-of-type {\n",
              "        vertical-align: middle;\n",
              "    }\n",
              "\n",
              "    .dataframe tbody tr th {\n",
              "        vertical-align: top;\n",
              "    }\n",
              "\n",
              "    .dataframe thead th {\n",
              "        text-align: right;\n",
              "    }\n",
              "</style>\n",
              "<table border=\"1\" class=\"dataframe\">\n",
              "  <thead>\n",
              "    <tr style=\"text-align: right;\">\n",
              "      <th></th>\n",
              "      <th>TransactionID</th>\n",
              "      <th>id_01</th>\n",
              "      <th>id_02</th>\n",
              "      <th>id_03</th>\n",
              "      <th>id_04</th>\n",
              "      <th>id_05</th>\n",
              "      <th>id_06</th>\n",
              "      <th>id_07</th>\n",
              "      <th>id_08</th>\n",
              "      <th>id_09</th>\n",
              "      <th>id_10</th>\n",
              "      <th>id_11</th>\n",
              "      <th>id_12</th>\n",
              "      <th>id_13</th>\n",
              "      <th>id_14</th>\n",
              "      <th>id_15</th>\n",
              "      <th>id_16</th>\n",
              "      <th>id_17</th>\n",
              "      <th>id_18</th>\n",
              "      <th>id_19</th>\n",
              "      <th>id_20</th>\n",
              "      <th>id_21</th>\n",
              "      <th>id_22</th>\n",
              "      <th>id_23</th>\n",
              "      <th>id_24</th>\n",
              "      <th>id_25</th>\n",
              "      <th>id_26</th>\n",
              "      <th>id_27</th>\n",
              "      <th>id_28</th>\n",
              "      <th>id_29</th>\n",
              "      <th>id_30</th>\n",
              "      <th>id_31</th>\n",
              "      <th>id_32</th>\n",
              "      <th>id_33</th>\n",
              "      <th>id_34</th>\n",
              "      <th>id_35</th>\n",
              "      <th>id_36</th>\n",
              "      <th>id_37</th>\n",
              "      <th>id_38</th>\n",
              "      <th>DeviceType</th>\n",
              "      <th>DeviceInfo</th>\n",
              "    </tr>\n",
              "  </thead>\n",
              "  <tbody>\n",
              "    <tr>\n",
              "      <th>0</th>\n",
              "      <td>2987004</td>\n",
              "      <td>0.0</td>\n",
              "      <td>70787.0</td>\n",
              "      <td>NaN</td>\n",
              "      <td>NaN</td>\n",
              "      <td>NaN</td>\n",
              "      <td>NaN</td>\n",
              "      <td>NaN</td>\n",
              "      <td>NaN</td>\n",
              "      <td>NaN</td>\n",
              "      <td>NaN</td>\n",
              "      <td>100.0</td>\n",
              "      <td>NotFound</td>\n",
              "      <td>NaN</td>\n",
              "      <td>-480.0</td>\n",
              "      <td>New</td>\n",
              "      <td>NotFound</td>\n",
              "      <td>166.0</td>\n",
              "      <td>NaN</td>\n",
              "      <td>542.0</td>\n",
              "      <td>144.0</td>\n",
              "      <td>NaN</td>\n",
              "      <td>NaN</td>\n",
              "      <td>NaN</td>\n",
              "      <td>NaN</td>\n",
              "      <td>NaN</td>\n",
              "      <td>NaN</td>\n",
              "      <td>NaN</td>\n",
              "      <td>New</td>\n",
              "      <td>NotFound</td>\n",
              "      <td>Android 7.0</td>\n",
              "      <td>samsung browser 6.2</td>\n",
              "      <td>32.0</td>\n",
              "      <td>2220x1080</td>\n",
              "      <td>match_status:2</td>\n",
              "      <td>T</td>\n",
              "      <td>F</td>\n",
              "      <td>T</td>\n",
              "      <td>T</td>\n",
              "      <td>mobile</td>\n",
              "      <td>SAMSUNG SM-G892A Build/NRD90M</td>\n",
              "    </tr>\n",
              "    <tr>\n",
              "      <th>1</th>\n",
              "      <td>2987008</td>\n",
              "      <td>-5.0</td>\n",
              "      <td>98945.0</td>\n",
              "      <td>NaN</td>\n",
              "      <td>NaN</td>\n",
              "      <td>0.0</td>\n",
              "      <td>-5.0</td>\n",
              "      <td>NaN</td>\n",
              "      <td>NaN</td>\n",
              "      <td>NaN</td>\n",
              "      <td>NaN</td>\n",
              "      <td>100.0</td>\n",
              "      <td>NotFound</td>\n",
              "      <td>49.0</td>\n",
              "      <td>-300.0</td>\n",
              "      <td>New</td>\n",
              "      <td>NotFound</td>\n",
              "      <td>166.0</td>\n",
              "      <td>NaN</td>\n",
              "      <td>621.0</td>\n",
              "      <td>500.0</td>\n",
              "      <td>NaN</td>\n",
              "      <td>NaN</td>\n",
              "      <td>NaN</td>\n",
              "      <td>NaN</td>\n",
              "      <td>NaN</td>\n",
              "      <td>NaN</td>\n",
              "      <td>NaN</td>\n",
              "      <td>New</td>\n",
              "      <td>NotFound</td>\n",
              "      <td>iOS 11.1.2</td>\n",
              "      <td>mobile safari 11.0</td>\n",
              "      <td>32.0</td>\n",
              "      <td>1334x750</td>\n",
              "      <td>match_status:1</td>\n",
              "      <td>T</td>\n",
              "      <td>F</td>\n",
              "      <td>F</td>\n",
              "      <td>T</td>\n",
              "      <td>mobile</td>\n",
              "      <td>iOS Device</td>\n",
              "    </tr>\n",
              "    <tr>\n",
              "      <th>2</th>\n",
              "      <td>2987010</td>\n",
              "      <td>-5.0</td>\n",
              "      <td>191631.0</td>\n",
              "      <td>0.0</td>\n",
              "      <td>0.0</td>\n",
              "      <td>0.0</td>\n",
              "      <td>0.0</td>\n",
              "      <td>NaN</td>\n",
              "      <td>NaN</td>\n",
              "      <td>0.0</td>\n",
              "      <td>0.0</td>\n",
              "      <td>100.0</td>\n",
              "      <td>NotFound</td>\n",
              "      <td>52.0</td>\n",
              "      <td>NaN</td>\n",
              "      <td>Found</td>\n",
              "      <td>Found</td>\n",
              "      <td>121.0</td>\n",
              "      <td>NaN</td>\n",
              "      <td>410.0</td>\n",
              "      <td>142.0</td>\n",
              "      <td>NaN</td>\n",
              "      <td>NaN</td>\n",
              "      <td>NaN</td>\n",
              "      <td>NaN</td>\n",
              "      <td>NaN</td>\n",
              "      <td>NaN</td>\n",
              "      <td>NaN</td>\n",
              "      <td>Found</td>\n",
              "      <td>Found</td>\n",
              "      <td>NaN</td>\n",
              "      <td>chrome 62.0</td>\n",
              "      <td>NaN</td>\n",
              "      <td>NaN</td>\n",
              "      <td>NaN</td>\n",
              "      <td>F</td>\n",
              "      <td>F</td>\n",
              "      <td>T</td>\n",
              "      <td>T</td>\n",
              "      <td>desktop</td>\n",
              "      <td>Windows</td>\n",
              "    </tr>\n",
              "    <tr>\n",
              "      <th>3</th>\n",
              "      <td>2987011</td>\n",
              "      <td>-5.0</td>\n",
              "      <td>221832.0</td>\n",
              "      <td>NaN</td>\n",
              "      <td>NaN</td>\n",
              "      <td>0.0</td>\n",
              "      <td>-6.0</td>\n",
              "      <td>NaN</td>\n",
              "      <td>NaN</td>\n",
              "      <td>NaN</td>\n",
              "      <td>NaN</td>\n",
              "      <td>100.0</td>\n",
              "      <td>NotFound</td>\n",
              "      <td>52.0</td>\n",
              "      <td>NaN</td>\n",
              "      <td>New</td>\n",
              "      <td>NotFound</td>\n",
              "      <td>225.0</td>\n",
              "      <td>NaN</td>\n",
              "      <td>176.0</td>\n",
              "      <td>507.0</td>\n",
              "      <td>NaN</td>\n",
              "      <td>NaN</td>\n",
              "      <td>NaN</td>\n",
              "      <td>NaN</td>\n",
              "      <td>NaN</td>\n",
              "      <td>NaN</td>\n",
              "      <td>NaN</td>\n",
              "      <td>New</td>\n",
              "      <td>NotFound</td>\n",
              "      <td>NaN</td>\n",
              "      <td>chrome 62.0</td>\n",
              "      <td>NaN</td>\n",
              "      <td>NaN</td>\n",
              "      <td>NaN</td>\n",
              "      <td>F</td>\n",
              "      <td>F</td>\n",
              "      <td>T</td>\n",
              "      <td>T</td>\n",
              "      <td>desktop</td>\n",
              "      <td>NaN</td>\n",
              "    </tr>\n",
              "    <tr>\n",
              "      <th>4</th>\n",
              "      <td>2987016</td>\n",
              "      <td>0.0</td>\n",
              "      <td>7460.0</td>\n",
              "      <td>0.0</td>\n",
              "      <td>0.0</td>\n",
              "      <td>1.0</td>\n",
              "      <td>0.0</td>\n",
              "      <td>NaN</td>\n",
              "      <td>NaN</td>\n",
              "      <td>0.0</td>\n",
              "      <td>0.0</td>\n",
              "      <td>100.0</td>\n",
              "      <td>NotFound</td>\n",
              "      <td>NaN</td>\n",
              "      <td>-300.0</td>\n",
              "      <td>Found</td>\n",
              "      <td>Found</td>\n",
              "      <td>166.0</td>\n",
              "      <td>15.0</td>\n",
              "      <td>529.0</td>\n",
              "      <td>575.0</td>\n",
              "      <td>NaN</td>\n",
              "      <td>NaN</td>\n",
              "      <td>NaN</td>\n",
              "      <td>NaN</td>\n",
              "      <td>NaN</td>\n",
              "      <td>NaN</td>\n",
              "      <td>NaN</td>\n",
              "      <td>Found</td>\n",
              "      <td>Found</td>\n",
              "      <td>Mac OS X 10_11_6</td>\n",
              "      <td>chrome 62.0</td>\n",
              "      <td>24.0</td>\n",
              "      <td>1280x800</td>\n",
              "      <td>match_status:2</td>\n",
              "      <td>T</td>\n",
              "      <td>F</td>\n",
              "      <td>T</td>\n",
              "      <td>T</td>\n",
              "      <td>desktop</td>\n",
              "      <td>MacOS</td>\n",
              "    </tr>\n",
              "  </tbody>\n",
              "</table>\n",
              "</div>"
            ],
            "text/plain": [
              "   TransactionID  id_01  ...  DeviceType                     DeviceInfo\n",
              "0        2987004    0.0  ...      mobile  SAMSUNG SM-G892A Build/NRD90M\n",
              "1        2987008   -5.0  ...      mobile                     iOS Device\n",
              "2        2987010   -5.0  ...     desktop                        Windows\n",
              "3        2987011   -5.0  ...     desktop                            NaN\n",
              "4        2987016    0.0  ...     desktop                          MacOS\n",
              "\n",
              "[5 rows x 41 columns]"
            ]
          },
          "metadata": {
            "tags": []
          },
          "execution_count": 17
        }
      ]
    },
    {
      "cell_type": "code",
      "metadata": {
        "trusted": true,
        "id": "POmsOJhm4Mi1",
        "colab_type": "code",
        "colab": {}
      },
      "source": [
        "train = train_transaction.merge(train_identity,on='TransactionID',how=\"outer\")\n",
        "#test = test_transaction.merge(test_identity,on='TransactionID',how=\"outer\")"
      ],
      "execution_count": 0,
      "outputs": []
    },
    {
      "cell_type": "code",
      "metadata": {
        "trusted": true,
        "id": "BaNCm_8e4Mi8",
        "colab_type": "code",
        "outputId": "6c826b8d-735d-4278-de2b-6ef462d9e7e1",
        "colab": {
          "base_uri": "https://localhost:8080/",
          "height": 72
        }
      },
      "source": [
        "print(\" train_transaction : \", train_transaction.shape,'\\n',\n",
        "      \"train_identity : \",  train_identity.shape,'\\n',\n",
        "      \"train : \", train.shape)"
      ],
      "execution_count": 0,
      "outputs": [
        {
          "output_type": "stream",
          "text": [
            " train_transaction :  (590540, 394) \n",
            " train_identity :  (144233, 41) \n",
            " train :  (590540, 434)\n"
          ],
          "name": "stdout"
        }
      ]
    },
    {
      "cell_type": "code",
      "metadata": {
        "trusted": true,
        "id": "8L-J8CqR4MjO",
        "colab_type": "code",
        "outputId": "719e91c2-5b61-485a-d45c-b6d68a47014a",
        "colab": {
          "base_uri": "https://localhost:8080/",
          "height": 400
        }
      },
      "source": [
        "from pandas_profiling import ProfileReport\n",
        "#train.ProfileReport(minimal=True)\n",
        "#profile = ProfileReport(train) #, title=\"I_EEE_Fraud_Detect\"\n",
        "#profile.to_file(output_file=Path(\"I_EEE_Fraud_Detect.html\"))"
      ],
      "execution_count": 0,
      "outputs": [
        {
          "output_type": "error",
          "ename": "TypeError",
          "evalue": "ignored",
          "traceback": [
            "\u001b[0;31m---------------------------------------------------------------------------\u001b[0m",
            "\u001b[0;31mTypeError\u001b[0m                                 Traceback (most recent call last)",
            "\u001b[0;32m<ipython-input-13-1ec25db24271>\u001b[0m in \u001b[0;36m<module>\u001b[0;34m()\u001b[0m\n\u001b[1;32m      1\u001b[0m \u001b[0;32mfrom\u001b[0m \u001b[0mpandas_profiling\u001b[0m \u001b[0;32mimport\u001b[0m \u001b[0mProfileReport\u001b[0m\u001b[0;34m\u001b[0m\u001b[0;34m\u001b[0m\u001b[0m\n\u001b[1;32m      2\u001b[0m \u001b[0;31m#train.ProfileReport(minimal=True)\u001b[0m\u001b[0;34m\u001b[0m\u001b[0;34m\u001b[0m\u001b[0;34m\u001b[0m\u001b[0m\n\u001b[0;32m----> 3\u001b[0;31m \u001b[0mprofile\u001b[0m \u001b[0;34m=\u001b[0m \u001b[0mProfileReport\u001b[0m\u001b[0;34m(\u001b[0m\u001b[0mtrain\u001b[0m\u001b[0;34m)\u001b[0m \u001b[0;31m#, title=\"I_EEE_Fraud_Detect\"\u001b[0m\u001b[0;34m\u001b[0m\u001b[0;34m\u001b[0m\u001b[0m\n\u001b[0m\u001b[1;32m      4\u001b[0m \u001b[0mprofile\u001b[0m\u001b[0;34m.\u001b[0m\u001b[0mto_file\u001b[0m\u001b[0;34m(\u001b[0m\u001b[0moutput_file\u001b[0m\u001b[0;34m=\u001b[0m\u001b[0mPath\u001b[0m\u001b[0;34m(\u001b[0m\u001b[0;34m\"I_EEE_Fraud_Detect.html\"\u001b[0m\u001b[0;34m)\u001b[0m\u001b[0;34m)\u001b[0m\u001b[0;34m\u001b[0m\u001b[0;34m\u001b[0m\u001b[0m\n",
            "\u001b[0;32m/usr/local/lib/python3.6/dist-packages/pandas_profiling/__init__.py\u001b[0m in \u001b[0;36m__init__\u001b[0;34m(self, df, **kwargs)\u001b[0m\n\u001b[1;32m     64\u001b[0m         \u001b[0msample\u001b[0m \u001b[0;34m=\u001b[0m \u001b[0mkwargs\u001b[0m\u001b[0;34m.\u001b[0m\u001b[0mget\u001b[0m\u001b[0;34m(\u001b[0m\u001b[0;34m'sample'\u001b[0m\u001b[0;34m,\u001b[0m \u001b[0mdf\u001b[0m\u001b[0;34m.\u001b[0m\u001b[0mhead\u001b[0m\u001b[0;34m(\u001b[0m\u001b[0;34m)\u001b[0m\u001b[0;34m)\u001b[0m\u001b[0;34m\u001b[0m\u001b[0;34m\u001b[0m\u001b[0m\n\u001b[1;32m     65\u001b[0m \u001b[0;34m\u001b[0m\u001b[0m\n\u001b[0;32m---> 66\u001b[0;31m         \u001b[0mdescription_set\u001b[0m \u001b[0;34m=\u001b[0m \u001b[0mdescribe\u001b[0m\u001b[0;34m(\u001b[0m\u001b[0mdf\u001b[0m\u001b[0;34m,\u001b[0m \u001b[0;34m**\u001b[0m\u001b[0mkwargs\u001b[0m\u001b[0;34m)\u001b[0m\u001b[0;34m\u001b[0m\u001b[0;34m\u001b[0m\u001b[0m\n\u001b[0m\u001b[1;32m     67\u001b[0m \u001b[0;34m\u001b[0m\u001b[0m\n\u001b[1;32m     68\u001b[0m         self.html = to_html(sample,\n",
            "\u001b[0;32m/usr/local/lib/python3.6/dist-packages/pandas_profiling/describe.py\u001b[0m in \u001b[0;36mdescribe\u001b[0;34m(df, bins, check_correlation, correlation_threshold, correlation_overrides, check_recoded, pool_size, **kwargs)\u001b[0m\n\u001b[1;32m    390\u001b[0m             \u001b[0;32mif\u001b[0m \u001b[0mname\u001b[0m \u001b[0;32mnot\u001b[0m \u001b[0;32min\u001b[0m \u001b[0mnames\u001b[0m\u001b[0;34m:\u001b[0m\u001b[0;34m\u001b[0m\u001b[0;34m\u001b[0m\u001b[0m\n\u001b[1;32m    391\u001b[0m                 \u001b[0mnames\u001b[0m\u001b[0;34m.\u001b[0m\u001b[0mappend\u001b[0m\u001b[0;34m(\u001b[0m\u001b[0mname\u001b[0m\u001b[0;34m)\u001b[0m\u001b[0;34m\u001b[0m\u001b[0;34m\u001b[0m\u001b[0m\n\u001b[0;32m--> 392\u001b[0;31m     \u001b[0mvariable_stats\u001b[0m \u001b[0;34m=\u001b[0m \u001b[0mpd\u001b[0m\u001b[0;34m.\u001b[0m\u001b[0mconcat\u001b[0m\u001b[0;34m(\u001b[0m\u001b[0mldesc\u001b[0m\u001b[0;34m,\u001b[0m \u001b[0mjoin_axes\u001b[0m\u001b[0;34m=\u001b[0m\u001b[0mpd\u001b[0m\u001b[0;34m.\u001b[0m\u001b[0mIndex\u001b[0m\u001b[0;34m(\u001b[0m\u001b[0;34m[\u001b[0m\u001b[0mnames\u001b[0m\u001b[0;34m]\u001b[0m\u001b[0;34m)\u001b[0m\u001b[0;34m,\u001b[0m \u001b[0maxis\u001b[0m\u001b[0;34m=\u001b[0m\u001b[0;36m1\u001b[0m\u001b[0;34m)\u001b[0m\u001b[0;34m\u001b[0m\u001b[0;34m\u001b[0m\u001b[0m\n\u001b[0m\u001b[1;32m    393\u001b[0m     \u001b[0mvariable_stats\u001b[0m\u001b[0;34m.\u001b[0m\u001b[0mcolumns\u001b[0m\u001b[0;34m.\u001b[0m\u001b[0mnames\u001b[0m \u001b[0;34m=\u001b[0m \u001b[0mdf\u001b[0m\u001b[0;34m.\u001b[0m\u001b[0mcolumns\u001b[0m\u001b[0;34m.\u001b[0m\u001b[0mnames\u001b[0m\u001b[0;34m\u001b[0m\u001b[0;34m\u001b[0m\u001b[0m\n\u001b[1;32m    394\u001b[0m \u001b[0;34m\u001b[0m\u001b[0m\n",
            "\u001b[0;31mTypeError\u001b[0m: concat() got an unexpected keyword argument 'join_axes'"
          ]
        }
      ]
    },
    {
      "cell_type": "code",
      "metadata": {
        "trusted": true,
        "id": "nydTLxtV4MjX",
        "colab_type": "code",
        "colab": {}
      },
      "source": [
        "# Finding Correlation With Target Variables\n",
        "# Correlation = train.corr()"
      ],
      "execution_count": 0,
      "outputs": []
    },
    {
      "cell_type": "code",
      "metadata": {
        "trusted": true,
        "id": "waGCOxSv4Mjg",
        "colab_type": "code",
        "colab": {}
      },
      "source": [
        "# Correlation[['isFraud']].sort_values(by='isFraud',ascending=False).T"
      ],
      "execution_count": 0,
      "outputs": []
    },
    {
      "cell_type": "code",
      "metadata": {
        "id": "bBJqNCbZ508b",
        "colab_type": "code",
        "colab": {}
      },
      "source": [
        "!pip install pycaret"
      ],
      "execution_count": 0,
      "outputs": []
    },
    {
      "cell_type": "code",
      "metadata": {
        "trusted": true,
        "id": "yaqmugdV4Mjt",
        "colab_type": "code",
        "colab": {}
      },
      "source": [
        "#import anomaly detection module from pycaret\n",
        "from pycaret.anomaly import *\n",
        "#intialize the setup"
      ],
      "execution_count": 0,
      "outputs": []
    },
    {
      "cell_type": "code",
      "metadata": {
        "trusted": true,
        "id": "2Smx1IhJ4Mj3",
        "colab_type": "code",
        "outputId": "86e84188-3f98-43a0-aece-dbe39b634ebd",
        "colab": {
          "base_uri": "https://localhost:8080/",
          "height": 590,
          "referenced_widgets": [
            "1b3a7a1012a74c3e83cd42f6610a8a28",
            "519aac516bd7461bad55374d1081fda2",
            "4aa66daae1124b6b92891271e66211bf",
            "fae12386945a4034b4866a23066b03d6",
            "f4da9042097044e1b99fb0daa7432df7",
            "9165b49d7d0d4f978e8944df9efe6f76"
          ]
        }
      },
      "source": [
        "exp_ano = setup(train[:1000], categorical_features = None, categorical_imputation = 'constant', ordinal_features = None, \n",
        "          high_cardinality_features = None, numeric_features = None, numeric_imputation = 'mean', \n",
        "          date_features = None, ignore_features = None, normalize = False, normalize_method = 'zscore', \n",
        "          transformation = False, transformation_method = 'yeo-johnson', handle_unknown_categorical = True, \n",
        "          unknown_categorical_method = 'least_frequent', pca = False, pca_method = 'linear', \n",
        "          pca_components = None, ignore_low_variance = False, combine_rare_levels = False,\n",
        "          rare_level_threshold = 0.10, bin_numeric_features = None, remove_multicollinearity = False, \n",
        "          multicollinearity_threshold = 0.9, group_features = None, group_names = None, supervised = False, \n",
        "          supervised_target = None, session_id = None, profile = False, verbose=True)"
      ],
      "execution_count": 0,
      "outputs": [
        {
          "output_type": "stream",
          "text": [
            "\n",
            "Setup Succesfully Completed!\n"
          ],
          "name": "stdout"
        },
        {
          "output_type": "display_data",
          "data": {
            "text/html": [
              "<style  type=\"text/css\" >\n",
              "    #T_3e48f29a_86ba_11ea_b594_0242ac1c0002row2_col1 {\n",
              "            background-color:  lightgreen;\n",
              "        }</style><table id=\"T_3e48f29a_86ba_11ea_b594_0242ac1c0002\" ><thead>    <tr>        <th class=\"blank level0\" ></th>        <th class=\"col_heading level0 col0\" >Description</th>        <th class=\"col_heading level0 col1\" >Value</th>    </tr></thead><tbody>\n",
              "                <tr>\n",
              "                        <th id=\"T_3e48f29a_86ba_11ea_b594_0242ac1c0002level0_row0\" class=\"row_heading level0 row0\" >0</th>\n",
              "                        <td id=\"T_3e48f29a_86ba_11ea_b594_0242ac1c0002row0_col0\" class=\"data row0 col0\" >session_id </td>\n",
              "                        <td id=\"T_3e48f29a_86ba_11ea_b594_0242ac1c0002row0_col1\" class=\"data row0 col1\" >7770</td>\n",
              "            </tr>\n",
              "            <tr>\n",
              "                        <th id=\"T_3e48f29a_86ba_11ea_b594_0242ac1c0002level0_row1\" class=\"row_heading level0 row1\" >1</th>\n",
              "                        <td id=\"T_3e48f29a_86ba_11ea_b594_0242ac1c0002row1_col0\" class=\"data row1 col0\" >Original Data </td>\n",
              "                        <td id=\"T_3e48f29a_86ba_11ea_b594_0242ac1c0002row1_col1\" class=\"data row1 col1\" >(1000, 434)</td>\n",
              "            </tr>\n",
              "            <tr>\n",
              "                        <th id=\"T_3e48f29a_86ba_11ea_b594_0242ac1c0002level0_row2\" class=\"row_heading level0 row2\" >2</th>\n",
              "                        <td id=\"T_3e48f29a_86ba_11ea_b594_0242ac1c0002row2_col0\" class=\"data row2 col0\" >Missing Values </td>\n",
              "                        <td id=\"T_3e48f29a_86ba_11ea_b594_0242ac1c0002row2_col1\" class=\"data row2 col1\" >True</td>\n",
              "            </tr>\n",
              "            <tr>\n",
              "                        <th id=\"T_3e48f29a_86ba_11ea_b594_0242ac1c0002level0_row3\" class=\"row_heading level0 row3\" >3</th>\n",
              "                        <td id=\"T_3e48f29a_86ba_11ea_b594_0242ac1c0002row3_col0\" class=\"data row3 col0\" >Numeric Features </td>\n",
              "                        <td id=\"T_3e48f29a_86ba_11ea_b594_0242ac1c0002row3_col1\" class=\"data row3 col1\" >156</td>\n",
              "            </tr>\n",
              "            <tr>\n",
              "                        <th id=\"T_3e48f29a_86ba_11ea_b594_0242ac1c0002level0_row4\" class=\"row_heading level0 row4\" >4</th>\n",
              "                        <td id=\"T_3e48f29a_86ba_11ea_b594_0242ac1c0002row4_col0\" class=\"data row4 col0\" >Categorical Features </td>\n",
              "                        <td id=\"T_3e48f29a_86ba_11ea_b594_0242ac1c0002row4_col1\" class=\"data row4 col1\" >278</td>\n",
              "            </tr>\n",
              "            <tr>\n",
              "                        <th id=\"T_3e48f29a_86ba_11ea_b594_0242ac1c0002level0_row5\" class=\"row_heading level0 row5\" >5</th>\n",
              "                        <td id=\"T_3e48f29a_86ba_11ea_b594_0242ac1c0002row5_col0\" class=\"data row5 col0\" >Ordinal Features </td>\n",
              "                        <td id=\"T_3e48f29a_86ba_11ea_b594_0242ac1c0002row5_col1\" class=\"data row5 col1\" >False</td>\n",
              "            </tr>\n",
              "            <tr>\n",
              "                        <th id=\"T_3e48f29a_86ba_11ea_b594_0242ac1c0002level0_row6\" class=\"row_heading level0 row6\" >6</th>\n",
              "                        <td id=\"T_3e48f29a_86ba_11ea_b594_0242ac1c0002row6_col0\" class=\"data row6 col0\" >High Cardinality Features </td>\n",
              "                        <td id=\"T_3e48f29a_86ba_11ea_b594_0242ac1c0002row6_col1\" class=\"data row6 col1\" >False</td>\n",
              "            </tr>\n",
              "            <tr>\n",
              "                        <th id=\"T_3e48f29a_86ba_11ea_b594_0242ac1c0002level0_row7\" class=\"row_heading level0 row7\" >7</th>\n",
              "                        <td id=\"T_3e48f29a_86ba_11ea_b594_0242ac1c0002row7_col0\" class=\"data row7 col0\" >Transformed Data </td>\n",
              "                        <td id=\"T_3e48f29a_86ba_11ea_b594_0242ac1c0002row7_col1\" class=\"data row7 col1\" >(1000, 1730)</td>\n",
              "            </tr>\n",
              "            <tr>\n",
              "                        <th id=\"T_3e48f29a_86ba_11ea_b594_0242ac1c0002level0_row8\" class=\"row_heading level0 row8\" >8</th>\n",
              "                        <td id=\"T_3e48f29a_86ba_11ea_b594_0242ac1c0002row8_col0\" class=\"data row8 col0\" >Numeric Imputer </td>\n",
              "                        <td id=\"T_3e48f29a_86ba_11ea_b594_0242ac1c0002row8_col1\" class=\"data row8 col1\" >mean</td>\n",
              "            </tr>\n",
              "            <tr>\n",
              "                        <th id=\"T_3e48f29a_86ba_11ea_b594_0242ac1c0002level0_row9\" class=\"row_heading level0 row9\" >9</th>\n",
              "                        <td id=\"T_3e48f29a_86ba_11ea_b594_0242ac1c0002row9_col0\" class=\"data row9 col0\" >Categorical Imputer </td>\n",
              "                        <td id=\"T_3e48f29a_86ba_11ea_b594_0242ac1c0002row9_col1\" class=\"data row9 col1\" >constant</td>\n",
              "            </tr>\n",
              "            <tr>\n",
              "                        <th id=\"T_3e48f29a_86ba_11ea_b594_0242ac1c0002level0_row10\" class=\"row_heading level0 row10\" >10</th>\n",
              "                        <td id=\"T_3e48f29a_86ba_11ea_b594_0242ac1c0002row10_col0\" class=\"data row10 col0\" >Normalize </td>\n",
              "                        <td id=\"T_3e48f29a_86ba_11ea_b594_0242ac1c0002row10_col1\" class=\"data row10 col1\" >False</td>\n",
              "            </tr>\n",
              "            <tr>\n",
              "                        <th id=\"T_3e48f29a_86ba_11ea_b594_0242ac1c0002level0_row11\" class=\"row_heading level0 row11\" >11</th>\n",
              "                        <td id=\"T_3e48f29a_86ba_11ea_b594_0242ac1c0002row11_col0\" class=\"data row11 col0\" >Normalize Method </td>\n",
              "                        <td id=\"T_3e48f29a_86ba_11ea_b594_0242ac1c0002row11_col1\" class=\"data row11 col1\" >None</td>\n",
              "            </tr>\n",
              "            <tr>\n",
              "                        <th id=\"T_3e48f29a_86ba_11ea_b594_0242ac1c0002level0_row12\" class=\"row_heading level0 row12\" >12</th>\n",
              "                        <td id=\"T_3e48f29a_86ba_11ea_b594_0242ac1c0002row12_col0\" class=\"data row12 col0\" >Transformation </td>\n",
              "                        <td id=\"T_3e48f29a_86ba_11ea_b594_0242ac1c0002row12_col1\" class=\"data row12 col1\" >False</td>\n",
              "            </tr>\n",
              "            <tr>\n",
              "                        <th id=\"T_3e48f29a_86ba_11ea_b594_0242ac1c0002level0_row13\" class=\"row_heading level0 row13\" >13</th>\n",
              "                        <td id=\"T_3e48f29a_86ba_11ea_b594_0242ac1c0002row13_col0\" class=\"data row13 col0\" >Transformation Method </td>\n",
              "                        <td id=\"T_3e48f29a_86ba_11ea_b594_0242ac1c0002row13_col1\" class=\"data row13 col1\" >None</td>\n",
              "            </tr>\n",
              "            <tr>\n",
              "                        <th id=\"T_3e48f29a_86ba_11ea_b594_0242ac1c0002level0_row14\" class=\"row_heading level0 row14\" >14</th>\n",
              "                        <td id=\"T_3e48f29a_86ba_11ea_b594_0242ac1c0002row14_col0\" class=\"data row14 col0\" >PCA </td>\n",
              "                        <td id=\"T_3e48f29a_86ba_11ea_b594_0242ac1c0002row14_col1\" class=\"data row14 col1\" >False</td>\n",
              "            </tr>\n",
              "            <tr>\n",
              "                        <th id=\"T_3e48f29a_86ba_11ea_b594_0242ac1c0002level0_row15\" class=\"row_heading level0 row15\" >15</th>\n",
              "                        <td id=\"T_3e48f29a_86ba_11ea_b594_0242ac1c0002row15_col0\" class=\"data row15 col0\" >PCA Method </td>\n",
              "                        <td id=\"T_3e48f29a_86ba_11ea_b594_0242ac1c0002row15_col1\" class=\"data row15 col1\" >None</td>\n",
              "            </tr>\n",
              "            <tr>\n",
              "                        <th id=\"T_3e48f29a_86ba_11ea_b594_0242ac1c0002level0_row16\" class=\"row_heading level0 row16\" >16</th>\n",
              "                        <td id=\"T_3e48f29a_86ba_11ea_b594_0242ac1c0002row16_col0\" class=\"data row16 col0\" >PCA components </td>\n",
              "                        <td id=\"T_3e48f29a_86ba_11ea_b594_0242ac1c0002row16_col1\" class=\"data row16 col1\" >None</td>\n",
              "            </tr>\n",
              "            <tr>\n",
              "                        <th id=\"T_3e48f29a_86ba_11ea_b594_0242ac1c0002level0_row17\" class=\"row_heading level0 row17\" >17</th>\n",
              "                        <td id=\"T_3e48f29a_86ba_11ea_b594_0242ac1c0002row17_col0\" class=\"data row17 col0\" >Ignore Low Variance </td>\n",
              "                        <td id=\"T_3e48f29a_86ba_11ea_b594_0242ac1c0002row17_col1\" class=\"data row17 col1\" >False</td>\n",
              "            </tr>\n",
              "            <tr>\n",
              "                        <th id=\"T_3e48f29a_86ba_11ea_b594_0242ac1c0002level0_row18\" class=\"row_heading level0 row18\" >18</th>\n",
              "                        <td id=\"T_3e48f29a_86ba_11ea_b594_0242ac1c0002row18_col0\" class=\"data row18 col0\" >Combine Rare Levels </td>\n",
              "                        <td id=\"T_3e48f29a_86ba_11ea_b594_0242ac1c0002row18_col1\" class=\"data row18 col1\" >False</td>\n",
              "            </tr>\n",
              "            <tr>\n",
              "                        <th id=\"T_3e48f29a_86ba_11ea_b594_0242ac1c0002level0_row19\" class=\"row_heading level0 row19\" >19</th>\n",
              "                        <td id=\"T_3e48f29a_86ba_11ea_b594_0242ac1c0002row19_col0\" class=\"data row19 col0\" >Rare Level Threshold </td>\n",
              "                        <td id=\"T_3e48f29a_86ba_11ea_b594_0242ac1c0002row19_col1\" class=\"data row19 col1\" >None</td>\n",
              "            </tr>\n",
              "            <tr>\n",
              "                        <th id=\"T_3e48f29a_86ba_11ea_b594_0242ac1c0002level0_row20\" class=\"row_heading level0 row20\" >20</th>\n",
              "                        <td id=\"T_3e48f29a_86ba_11ea_b594_0242ac1c0002row20_col0\" class=\"data row20 col0\" >Numeric Binning </td>\n",
              "                        <td id=\"T_3e48f29a_86ba_11ea_b594_0242ac1c0002row20_col1\" class=\"data row20 col1\" >False</td>\n",
              "            </tr>\n",
              "            <tr>\n",
              "                        <th id=\"T_3e48f29a_86ba_11ea_b594_0242ac1c0002level0_row21\" class=\"row_heading level0 row21\" >21</th>\n",
              "                        <td id=\"T_3e48f29a_86ba_11ea_b594_0242ac1c0002row21_col0\" class=\"data row21 col0\" >Remove Multicollinearity </td>\n",
              "                        <td id=\"T_3e48f29a_86ba_11ea_b594_0242ac1c0002row21_col1\" class=\"data row21 col1\" >False</td>\n",
              "            </tr>\n",
              "            <tr>\n",
              "                        <th id=\"T_3e48f29a_86ba_11ea_b594_0242ac1c0002level0_row22\" class=\"row_heading level0 row22\" >22</th>\n",
              "                        <td id=\"T_3e48f29a_86ba_11ea_b594_0242ac1c0002row22_col0\" class=\"data row22 col0\" >Multicollinearity Threshold </td>\n",
              "                        <td id=\"T_3e48f29a_86ba_11ea_b594_0242ac1c0002row22_col1\" class=\"data row22 col1\" >None</td>\n",
              "            </tr>\n",
              "            <tr>\n",
              "                        <th id=\"T_3e48f29a_86ba_11ea_b594_0242ac1c0002level0_row23\" class=\"row_heading level0 row23\" >23</th>\n",
              "                        <td id=\"T_3e48f29a_86ba_11ea_b594_0242ac1c0002row23_col0\" class=\"data row23 col0\" >Group Features </td>\n",
              "                        <td id=\"T_3e48f29a_86ba_11ea_b594_0242ac1c0002row23_col1\" class=\"data row23 col1\" >False</td>\n",
              "            </tr>\n",
              "    </tbody></table>"
            ],
            "text/plain": [
              "<pandas.io.formats.style.Styler at 0x7f44501f8e10>"
            ]
          },
          "metadata": {
            "tags": []
          }
        }
      ]
    },
    {
      "cell_type": "code",
      "metadata": {
        "id": "rhsTocdX6FZz",
        "colab_type": "code",
        "colab": {}
      },
      "source": [
        "knn = create_model('knn')"
      ],
      "execution_count": 0,
      "outputs": []
    },
    {
      "cell_type": "code",
      "metadata": {
        "id": "G8gKIQ0V7rnQ",
        "colab_type": "code",
        "colab": {}
      },
      "source": [
        "# assign a model \n",
        "knn_df = assign_model(knn)"
      ],
      "execution_count": 0,
      "outputs": []
    },
    {
      "cell_type": "code",
      "metadata": {
        "id": "SAeyypCr71oO",
        "colab_type": "code",
        "outputId": "60b05f40-0564-4b80-f6de-52ac4e77fd2c",
        "colab": {
          "base_uri": "https://localhost:8080/",
          "height": 817
        }
      },
      "source": [
        "# plot a model\n",
        "exp = plot_model(knn)"
      ],
      "execution_count": 0,
      "outputs": [
        {
          "output_type": "display_data",
          "data": {
            "text/html": [
              "        <script type=\"text/javascript\">\n",
              "        window.PlotlyConfig = {MathJaxConfig: 'local'};\n",
              "        if (window.MathJax) {MathJax.Hub.Config({SVG: {font: \"STIX-Web\"}});}\n",
              "        if (typeof require !== 'undefined') {\n",
              "        require.undef(\"plotly\");\n",
              "        requirejs.config({\n",
              "            paths: {\n",
              "                'plotly': ['https://cdn.plot.ly/plotly-latest.min']\n",
              "            }\n",
              "        });\n",
              "        require(['plotly'], function(Plotly) {\n",
              "            window._Plotly = Plotly;\n",
              "        });\n",
              "        }\n",
              "        </script>\n",
              "        "
            ]
          },
          "metadata": {
            "tags": []
          }
        },
        {
          "output_type": "display_data",
          "data": {
            "text/html": [
              "<div>\n",
              "        \n",
              "        \n",
              "            <div id=\"51497485-7645-412b-8073-c4bce1b3f4ee\" class=\"plotly-graph-div\" style=\"height:800px; width:900px;\"></div>\n",
              "            <script type=\"text/javascript\">\n",
              "                require([\"plotly\"], function(Plotly) {\n",
              "                    window.PLOTLYENV=window.PLOTLYENV || {};\n",
              "                    \n",
              "                if (document.getElementById(\"51497485-7645-412b-8073-c4bce1b3f4ee\")) {\n",
              "                    Plotly.newPlot(\n",
              "                        '51497485-7645-412b-8073-c4bce1b3f4ee',\n",
              "                        [{\"customdata\": [[2987000], [2987001], [2987002], [2987003], [2987004], [2987005], [2987006], [2987007], [2987008], [2987009], [2987010], [2987011], [2987012], [2987013], [2987014], [2987015], [2987016], [2987017], [2987018], [2987019], [2987020], [2987021], [2987022], [2987023], [2987024], [2987025], [2987026], [2987027], [2987028], [2987029], [2987030], [2987031], [2987032], [2987033], [2987034], [2987035], [2987036], [2987037], [2987038], [2987039], [2987040], [2987041], [2987042], [2987043], [2987044], [2987045], [2987046], [2987047], [2987048], [2987049], [2987050], [2987051], [2987052], [2987053], [2987054], [2987055], [2987056], [2987057], [2987058], [2987059], [2987060], [2987061], [2987062], [2987063], [2987064], [2987065], [2987066], [2987067], [2987068], [2987069], [2987070], [2987071], [2987072], [2987073], [2987074], [2987075], [2987076], [2987077], [2987078], [2987079], [2987080], [2987081], [2987082], [2987083], [2987084], [2987085], [2987086], [2987087], [2987088], [2987089], [2987090], [2987091], [2987092], [2987093], [2987094], [2987095], [2987096], [2987097], [2987098], [2987099], [2987100], [2987101], [2987102], [2987103], [2987104], [2987105], [2987106], [2987107], [2987108], [2987109], [2987110], [2987111], [2987112], [2987113], [2987114], [2987115], [2987116], [2987117], [2987118], [2987119], [2987120], [2987121], [2987122], [2987123], [2987124], [2987125], [2987126], [2987127], [2987128], [2987129], [2987130], [2987131], [2987132], [2987133], [2987134], [2987135], [2987136], [2987137], [2987138], [2987139], [2987140], [2987141], [2987142], [2987143], [2987144], [2987145], [2987146], [2987147], [2987148], [2987149], [2987150], [2987151], [2987152], [2987153], [2987154], [2987155], [2987156], [2987157], [2987158], [2987159], [2987160], [2987161], [2987162], [2987163], [2987164], [2987165], [2987166], [2987167], [2987168], [2987169], [2987170], [2987171], [2987172], [2987173], [2987174], [2987175], [2987176], [2987177], [2987178], [2987179], [2987180], [2987181], [2987182], [2987183], [2987184], [2987185], [2987186], [2987187], [2987188], [2987189], [2987190], [2987191], [2987192], [2987193], [2987194], [2987195], [2987196], [2987197], [2987198], [2987199], [2987200], [2987201], [2987202], [2987203], [2987204], [2987205], [2987206], [2987207], [2987208], [2987209], [2987210], [2987211], [2987212], [2987213], [2987214], [2987215], [2987216], [2987217], [2987218], [2987219], [2987220], [2987221], [2987222], [2987223], [2987224], [2987225], [2987226], [2987227], [2987228], [2987229], [2987230], [2987231], [2987232], [2987233], [2987234], [2987235], [2987236], [2987237], [2987238], [2987239], [2987240], [2987241], [2987242], [2987243], [2987244], [2987245], [2987246], [2987247], [2987248], [2987249], [2987250], [2987251], [2987252], [2987253], [2987254], [2987255], [2987256], [2987257], [2987258], [2987259], [2987260], [2987261], [2987262], [2987263], [2987264], [2987265], [2987266], [2987267], [2987268], [2987269], [2987270], [2987271], [2987272], [2987273], [2987274], [2987275], [2987276], [2987277], [2987278], [2987279], [2987280], [2987281], [2987282], [2987283], [2987284], [2987285], [2987286], [2987287], [2987288], [2987289], [2987290], [2987291], [2987292], [2987293], [2987294], [2987295], [2987296], [2987297], [2987298], [2987299], [2987300], [2987301], [2987302], [2987303], [2987304], [2987305], [2987306], [2987307], [2987308], [2987309], [2987310], [2987311], [2987312], [2987313], [2987314], [2987315], [2987316], [2987317], [2987318], [2987319], [2987320], [2987321], [2987322], [2987323], [2987324], [2987325], [2987326], [2987327], [2987328], [2987329], [2987330], [2987331], [2987332], [2987333], [2987334], [2987335], [2987336], [2987337], [2987338], [2987339], [2987340], [2987341], [2987342], [2987343], [2987344], [2987345], [2987346], [2987347], [2987348], [2987349], [2987350], [2987351], [2987352], [2987353], [2987354], [2987355], [2987356], [2987357], [2987358], [2987359], [2987360], [2987361], [2987362], [2987363], [2987364], [2987365], [2987366], [2987367], [2987368], [2987369], [2987370], [2987371], [2987372], [2987373], [2987374], [2987375], [2987376], [2987377], [2987378], [2987379], [2987380], [2987381], [2987382], [2987383], [2987384], [2987385], [2987386], [2987387], [2987388], [2987389], [2987390], [2987391], [2987392], [2987393], [2987394], [2987395], [2987396], [2987397], [2987398], [2987399], [2987400], [2987401], [2987402], [2987403], [2987404], [2987405], [2987406], [2987407], [2987408], [2987409], [2987410], [2987411], [2987412], [2987413], [2987414], [2987415], [2987416], [2987417], [2987418], [2987419], [2987420], [2987421], [2987422], [2987423], [2987424], [2987425], [2987426], [2987427], [2987428], [2987429], [2987430], [2987431], [2987432], [2987433], [2987434], [2987435], [2987436], [2987437], [2987438], [2987439], [2987440], [2987441], [2987442], [2987443], [2987444], [2987445], [2987446], [2987447], [2987448], [2987449], [2987450], [2987451], [2987452], [2987453], [2987454], [2987455], [2987456], [2987457], [2987458], [2987459], [2987460], [2987461], [2987462], [2987463], [2987464], [2987465], [2987466], [2987467], [2987468], [2987469], [2987470], [2987471], [2987472], [2987473], [2987474], [2987475], [2987476], [2987477], [2987478], [2987479], [2987480], [2987481], [2987482], [2987483], [2987484], [2987485], [2987486], [2987487], [2987488], [2987489], [2987490], [2987491], [2987492], [2987493], [2987494], [2987495], [2987496], [2987497], [2987498], [2987499], [2987500], [2987501], [2987502], [2987503], [2987504], [2987505], [2987506], [2987507], [2987508], [2987509], [2987510], [2987511], [2987512], [2987513], [2987514], [2987515], [2987516], [2987517], [2987518], [2987519], [2987520], [2987521], [2987522], [2987523], [2987524], [2987525], [2987526], [2987527], [2987528], [2987529], [2987530], [2987531], [2987532], [2987533], [2987534], [2987535], [2987536], [2987537], [2987538], [2987539], [2987540], [2987541], [2987542], [2987543], [2987544], [2987545], [2987546], [2987547], [2987548], [2987549], [2987550], [2987551], [2987552], [2987553], [2987554], [2987555], [2987556], [2987557], [2987558], [2987559], [2987560], [2987561], [2987562], [2987563], [2987564], [2987565], [2987566], [2987567], [2987568], [2987569], [2987570], [2987571], [2987572], [2987573], [2987574], [2987575], [2987576], [2987577], [2987578], [2987579], [2987580], [2987581], [2987582], [2987583], [2987584], [2987585], [2987586], [2987587], [2987588], [2987589], [2987590], [2987591], [2987592], [2987593], [2987594], [2987595], [2987596], [2987597], [2987598], [2987599], [2987600], [2987601], [2987602], [2987603], [2987604], [2987605], [2987606], [2987607], [2987608], [2987609], [2987610], [2987611], [2987612], [2987613], [2987614], [2987615], [2987616], [2987617], [2987618], [2987619], [2987620], [2987621], [2987622], [2987623], [2987624], [2987625], [2987626], [2987627], [2987628], [2987629], [2987630], [2987631], [2987632], [2987633], [2987634], [2987635], [2987636], [2987637], [2987638], [2987639], [2987640], [2987641], [2987642], [2987643], [2987644], [2987645], [2987646], [2987647], [2987648], [2987649], [2987650], [2987651], [2987652], [2987653], [2987654], [2987655], [2987656], [2987657], [2987658], [2987659], [2987660], [2987661], [2987662], [2987663], [2987664], [2987665], [2987666], [2987667], [2987668], [2987669], [2987670], [2987671], [2987672], [2987673], [2987674], [2987675], [2987676], [2987677], [2987678], [2987679], [2987680], [2987681], [2987682], [2987683], [2987684], [2987685], [2987686], [2987687], [2987688], [2987689], [2987690], [2987691], [2987692], [2987693], [2987694], [2987695], [2987696], [2987697], [2987698], [2987699], [2987700], [2987701], [2987702], [2987703], [2987704], [2987705], [2987706], [2987707], [2987708], [2987709], [2987710], [2987711], [2987712], [2987713], [2987714], [2987715], [2987716], [2987717], [2987718], [2987719], [2987720], [2987721], [2987722], [2987723], [2987724], [2987725], [2987726], [2987727], [2987728], [2987729], [2987730], [2987731], [2987732], [2987733], [2987734], [2987735], [2987736], [2987737], [2987738], [2987739], [2987740], [2987741], [2987742], [2987743], [2987744], [2987745], [2987746], [2987747], [2987748], [2987749], [2987750], [2987751], [2987752], [2987753], [2987754], [2987755], [2987756], [2987757], [2987758], [2987759], [2987760], [2987761], [2987762], [2987763], [2987764], [2987765], [2987766], [2987767], [2987768], [2987769], [2987770], [2987771], [2987772], [2987773], [2987774], [2987775], [2987776], [2987777], [2987778], [2987779], [2987780], [2987781], [2987782], [2987783], [2987784], [2987785], [2987786], [2987787], [2987788], [2987789], [2987790], [2987791], [2987792], [2987793], [2987794], [2987795], [2987796], [2987797], [2987798], [2987799], [2987800], [2987801], [2987802], [2987803], [2987804], [2987805], [2987806], [2987807], [2987808], [2987809], [2987810], [2987811], [2987812], [2987813], [2987814], [2987815], [2987816], [2987817], [2987818], [2987819], [2987820], [2987821], [2987822], [2987823], [2987824], [2987825], [2987826], [2987827], [2987828], [2987829], [2987830], [2987831], [2987832], [2987833], [2987834], [2987835], [2987836], [2987837], [2987838], [2987839], [2987840], [2987841], [2987842], [2987843], [2987844], [2987845], [2987846], [2987847], [2987848], [2987849], [2987850], [2987851], [2987852], [2987853], [2987854], [2987855], [2987856], [2987857], [2987858], [2987859], [2987860], [2987861], [2987862], [2987863], [2987864], [2987865], [2987866], [2987867], [2987868], [2987869], [2987870], [2987871], [2987872], [2987873], [2987874], [2987875], [2987876], [2987877], [2987878], [2987879], [2987880], [2987881], [2987882], [2987883], [2987884], [2987885], [2987886], [2987887], [2987888], [2987889], [2987890], [2987891], [2987892], [2987893], [2987894], [2987895], [2987896], [2987897], [2987898], [2987899], [2987900], [2987901], [2987902], [2987903], [2987904], [2987905], [2987906], [2987907], [2987908], [2987909], [2987910], [2987911], [2987912], [2987913], [2987914], [2987915], [2987916], [2987917], [2987918], [2987919], [2987920], [2987921], [2987922], [2987923], [2987924], [2987925], [2987926], [2987927], [2987928], [2987929], [2987930], [2987931], [2987932], [2987933], [2987934], [2987935], [2987936], [2987937], [2987938], [2987939], [2987940], [2987941], [2987942], [2987943], [2987944], [2987945], [2987946], [2987947], [2987948], [2987949], [2987950], [2987951], [2987952], [2987953], [2987954], [2987955], [2987956], [2987957], [2987958], [2987959], [2987960], [2987961], [2987962], [2987963], [2987964], [2987965], [2987966], [2987967], [2987968], [2987969], [2987970], [2987971], [2987972], [2987973], [2987974], [2987975], [2987976], [2987977], [2987978], [2987979], [2987980], [2987981], [2987982], [2987983], [2987984], [2987985], [2987986], [2987987], [2987988], [2987989], [2987990], [2987991], [2987992], [2987993], [2987994], [2987995], [2987996], [2987997], [2987998], [2987999]], \"hoverlabel\": {\"namelength\": 0}, \"hovertemplate\": \"0=%{x}<br>1=%{y}<br>2=%{z}<br>Feature=%{customdata[0]}<br>Label=%{marker.color}\", \"legendgroup\": \"\", \"marker\": {\"color\": [0, 0, 0, 0, 0, 0, 0, 0, 0, 0, 0, 0, 0, 0, 0, 0, 0, 0, 0, 0, 0, 0, 1, 0, 0, 0, 0, 0, 0, 0, 0, 0, 0, 0, 0, 0, 0, 0, 0, 0, 0, 0, 0, 0, 0, 0, 0, 0, 0, 0, 0, 0, 0, 0, 0, 0, 0, 0, 0, 0, 0, 0, 0, 0, 0, 0, 0, 0, 0, 0, 0, 0, 0, 0, 1, 0, 0, 0, 0, 0, 0, 0, 0, 0, 1, 0, 0, 0, 0, 0, 0, 0, 0, 0, 0, 0, 0, 0, 0, 0, 1, 0, 0, 0, 0, 0, 0, 0, 0, 0, 0, 0, 0, 0, 0, 0, 0, 0, 0, 0, 0, 0, 0, 0, 0, 0, 0, 0, 0, 0, 0, 0, 0, 0, 0, 0, 0, 0, 0, 0, 0, 0, 0, 0, 0, 0, 0, 0, 0, 0, 0, 0, 0, 0, 0, 0, 0, 0, 0, 0, 0, 0, 0, 0, 0, 0, 0, 0, 0, 0, 0, 0, 0, 0, 0, 0, 0, 0, 0, 0, 0, 0, 0, 0, 0, 0, 0, 0, 0, 0, 0, 0, 0, 0, 0, 0, 0, 0, 0, 0, 0, 0, 0, 0, 0, 0, 0, 0, 0, 0, 0, 0, 0, 0, 0, 0, 0, 0, 0, 0, 0, 0, 0, 0, 0, 0, 0, 0, 0, 0, 0, 0, 0, 0, 0, 0, 0, 0, 0, 0, 0, 0, 0, 0, 0, 0, 0, 0, 0, 0, 0, 0, 0, 0, 0, 0, 0, 0, 0, 0, 0, 0, 1, 0, 0, 0, 0, 0, 0, 0, 0, 0, 0, 0, 0, 0, 0, 0, 0, 0, 0, 0, 0, 0, 0, 0, 0, 0, 0, 0, 0, 0, 0, 0, 0, 0, 0, 0, 0, 0, 0, 0, 0, 0, 0, 0, 0, 0, 0, 0, 0, 0, 0, 0, 0, 0, 1, 0, 0, 1, 0, 0, 0, 0, 0, 0, 0, 0, 0, 0, 0, 0, 0, 0, 0, 0, 0, 1, 1, 0, 0, 0, 0, 0, 0, 0, 0, 0, 0, 0, 0, 0, 0, 0, 0, 0, 0, 0, 0, 0, 0, 0, 0, 0, 0, 0, 0, 0, 0, 0, 0, 0, 0, 0, 0, 0, 0, 0, 0, 0, 1, 0, 0, 0, 1, 0, 0, 0, 0, 0, 0, 0, 0, 0, 0, 0, 0, 0, 0, 0, 0, 0, 0, 0, 0, 1, 0, 0, 0, 0, 0, 0, 1, 0, 0, 0, 0, 0, 0, 0, 0, 0, 0, 0, 0, 0, 0, 0, 0, 0, 0, 0, 0, 0, 0, 0, 0, 0, 0, 0, 0, 0, 0, 0, 0, 0, 0, 0, 0, 0, 0, 0, 0, 0, 0, 0, 0, 0, 0, 0, 0, 0, 0, 0, 0, 0, 0, 0, 0, 0, 0, 0, 0, 0, 0, 0, 0, 0, 0, 0, 0, 0, 0, 0, 0, 1, 0, 0, 0, 1, 0, 0, 0, 0, 0, 0, 0, 0, 0, 0, 0, 0, 0, 0, 0, 1, 0, 0, 1, 0, 0, 0, 0, 0, 0, 0, 0, 0, 0, 0, 0, 0, 0, 0, 0, 0, 0, 0, 0, 0, 0, 0, 0, 0, 0, 0, 0, 0, 0, 0, 0, 0, 0, 0, 1, 0, 0, 0, 0, 0, 0, 0, 1, 0, 0, 0, 1, 0, 0, 0, 1, 0, 0, 0, 0, 0, 0, 0, 0, 0, 0, 0, 0, 0, 0, 0, 0, 0, 0, 0, 0, 0, 0, 0, 1, 0, 0, 0, 0, 0, 0, 0, 1, 0, 0, 0, 1, 0, 0, 0, 0, 0, 0, 0, 0, 0, 0, 1, 0, 0, 0, 0, 0, 0, 0, 0, 0, 0, 0, 0, 0, 0, 0, 1, 0, 0, 0, 0, 0, 0, 1, 0, 0, 1, 0, 0, 0, 0, 0, 1, 0, 1, 0, 0, 0, 0, 0, 0, 0, 0, 0, 0, 0, 0, 0, 0, 0, 0, 0, 0, 0, 0, 0, 0, 1, 0, 0, 0, 0, 0, 0, 0, 0, 0, 0, 0, 0, 0, 0, 0, 0, 0, 0, 1, 0, 0, 0, 0, 0, 0, 0, 0, 0, 0, 0, 0, 0, 0, 0, 0, 0, 0, 0, 0, 0, 0, 0, 0, 0, 0, 0, 0, 0, 0, 0, 0, 0, 0, 0, 0, 0, 0, 0, 0, 0, 0, 0, 0, 0, 0, 0, 0, 0, 0, 0, 0, 0, 0, 0, 0, 0, 1, 0, 0, 0, 0, 0, 0, 0, 0, 0, 1, 1, 0, 1, 0, 0, 0, 0, 0, 0, 0, 0, 1, 0, 0, 0, 0, 0, 0, 0, 0, 0, 0, 0, 0, 0, 1, 0, 0, 0, 0, 0, 0, 0, 0, 0, 0, 0, 0, 0, 1, 1, 0, 0, 0, 0, 0, 0, 0, 0, 0, 0, 0, 0, 0, 0, 0, 0, 0, 0, 0, 0, 0, 0, 0, 0, 0, 0, 0, 0, 0, 0, 0, 0, 0, 0, 0, 1, 0, 0, 1, 0, 0, 0, 0, 0, 0, 0, 0, 0, 0, 0, 0, 1, 0, 0, 0, 0, 0, 0, 0, 0, 0, 1, 0, 0, 0, 0, 0, 0, 0, 0, 0, 0, 0, 0, 0, 1, 0, 0, 0, 0, 0, 0, 0, 0, 0, 0, 0, 0, 0, 0, 0, 0, 0, 0, 0, 0, 0, 0, 0, 0, 0, 0, 0, 0, 0, 0, 0, 0, 1, 0, 0, 0, 0, 0, 1, 0, 0, 0, 0, 0, 0, 0, 0, 0, 0, 0, 0, 0, 0, 0, 0, 0, 0, 1, 0, 1, 0, 0, 0, 0, 0, 0, 0, 0, 0, 0, 0, 0, 0, 0, 0, 0, 0, 0, 0, 0, 0, 0, 0, 0, 0, 0, 0, 0, 0, 0, 0, 0, 0, 0, 0, 0, 1, 0, 0, 0, 0, 0, 0, 0, 0, 0, 0, 0, 0, 0, 0, 0, 0, 0, 0, 0, 0, 0, 0, 0, 0, 0, 0, 0, 0, 0, 0, 0, 0, 0, 0], \"coloraxis\": \"coloraxis\", \"opacity\": 0.7, \"symbol\": \"circle\"}, \"mode\": \"markers\", \"name\": \"\", \"scene\": \"scene\", \"showlegend\": false, \"type\": \"scatter3d\", \"x\": [7.550800323486328, -2.484679698944092, -1.510237455368042, 13.183670043945312, -2.528773784637451, -0.5556994080543518, 6.28996467590332, 6.622552394866943, -0.7824262976646423, 12.71983528137207, 4.025535583496094, 4.528707504272461, -1.9770594835281372, 6.7591233253479, 5.8625874519348145, 0.5358896255493164, -6.119266986846924, -3.042736768722534, -1.582192301750183, 0.507268488407135, 1.3174376487731934, 5.326204299926758, 1.6077384948730469, -2.768759250640869, 3.615485191345215, 10.490365028381348, 12.865010261535645, 5.167439937591553, 1.7847695350646973, 6.786933898925781, 7.14811897277832, 0.13319166004657745, 1.802866816520691, 1.9315686225891113, 12.548384666442871, 3.0911428928375244, -1.5828818082809448, 7.09445858001709, -18.672815322875977, 6.44061803817749, -7.225373268127441, 2.2562155723571777, 6.894017219543457, 4.30204439163208, 2.624347686767578, 11.265417098999023, 6.362760066986084, -1.9552128314971924, 5.62651252746582, 6.207337379455566, 3.364654779434204, 1.8031336069107056, 1.1345809698104858, 12.927206993103027, 12.96603012084961, -2.255155563354492, -2.711195468902588, -1.1759910583496094, 11.722821235656738, 3.011080265045166, -4.156511306762695, 6.29094934463501, 12.786554336547852, 12.846019744873047, -1.4282469749450684, 12.096461296081543, -3.38865327835083, -2.0453779697418213, 8.083297729492188, -16.731388092041016, 0.7205826044082642, -3.3837573528289795, 6.017357349395752, -2.7647807598114014, 7.408782005310059, -1.7920364141464233, 12.7225980758667, -1.380117654800415, 9.350433349609375, -2.066638469696045, 0.4700177013874054, 12.067970275878906, 10.112863540649414, 8.993800163269043, 7.525539875030518, 10.508166313171387, 5.342947959899902, -3.54341983795166, 12.817310333251953, 11.934206008911133, 10.450421333312988, 8.231420516967773, -143.7728729248047, -18.53611183166504, -1.6674385070800781, -3.2733426094055176, 9.59520435333252, -3.2415084838867188, -0.6947798132896423, -14.63286018371582, 5.357361793518066, -4.004846096038818, -2.3952178955078125, 12.676576614379883, -5.005136013031006, 3.980931043624878, 6.204631805419922, 2.3690850734710693, -13.657916069030762, -3.3203225135803223, -3.986490488052368, 5.478531360626221, 9.82509994506836, 10.278579711914062, 3.971980571746826, 4.749587535858154, 3.5198748111724854, 2.725386142730713, 10.245501518249512, -19.08089828491211, 2.5919010639190674, -5.820500373840332, 2.2555782794952393, -1.055168628692627, 6.305840015411377, -5.185098171234131, 4.538323402404785, -3.4055817127227783, -2.696547508239746, 1.212554693222046, 6.661242961883545, 12.390914916992188, 1.4369819164276123, 8.522615432739258, 1.2363239526748657, -4.322659969329834, -3.5841400623321533, -3.821422576904297, -2.4005777835845947, 1.751828670501709, 2.814242362976074, -15.165409088134766, 10.092171669006348, -3.822916030883789, -13.963982582092285, -14.667154312133789, 10.074350357055664, 4.4852728843688965, 0.4658445119857788, 6.24741268157959, 6.07455587387085, 5.897801876068115, 9.389582633972168, 7.904098987579346, 8.424674034118652, -1.6898090839385986, -17.456714630126953, 7.725525856018066, 2.5748183727264404, 11.39406681060791, 1.0929312705993652, 2.021303653717041, 10.088866233825684, 11.459847450256348, 7.159859657287598, -3.9726719856262207, 5.1349358558654785, 0.44767671823501587, 9.404990196228027, -1.1219817399978638, 3.913912534713745, -3.347348690032959, -1.0649701356887817, -15.070371627807617, 1.7977596521377563, 12.052773475646973, 8.842692375183105, 7.364498615264893, 7.882256507873535, 9.309542655944824, -3.114093780517578, 10.574426651000977, 9.290982246398926, -1.6905015707015991, -1.0455518960952759, -1.86018967628479, -3.6632463932037354, 10.915380477905273, -18.90379524230957, 6.893239498138428, -4.518949031829834, 7.3254570960998535, 6.37904691696167, -3.1452748775482178, 4.198518753051758, 11.253684997558594, 4.332569599151611, -16.63751220703125, -4.050203323364258, -5.244161605834961, 5.751123905181885, 3.9667105674743652, -2.76537823677063, 11.798091888427734, 6.625755786895752, -4.452465534210205, -1.6960121393203735, -1.5541300773620605, -3.052971363067627, -8.5100679397583, 8.573285102844238, 1.466891884803772, -4.185122966766357, -1.4751423597335815, -3.265136957168579, 1.1339399814605713, 2.088391065597534, 8.028776168823242, 5.425644874572754, 2.055948257446289, 7.6702961921691895, 5.588191032409668, -1.5625560283660889, -4.2366228103637695, 9.631810188293457, 1.4901502132415771, -1.6517670154571533, 4.034665584564209, -0.998491108417511, 11.560131072998047, -2.1997389793395996, -3.281756639480591, 7.8333234786987305, -3.3730359077453613, 9.865001678466797, 6.89445161819458, -17.50899314880371, 7.390762805938721, 10.853581428527832, 2.5452425479888916, 6.268505096435547, -2.6675045490264893, -4.55365514755249, 4.2705078125, 1.1068331003189087, 5.878854274749756, 10.901718139648438, 9.124653816223145, 1.2759498357772827, 5.475517749786377, -0.9305758476257324, 1.915746808052063, -6.326645851135254, -3.6232047080993652, 10.97923469543457, 1.3151767253875732, 1.2614073753356934, 11.823213577270508, -7.88784646987915, -8.471135139465332, 2.6634156703948975, 1.694893717765808, 8.419119834899902, 8.317007064819336, -4.733122825622559, -18.168031692504883, 4.784770965576172, 5.270947456359863, 5.517590045928955, -3.2568418979644775, -17.910327911376953, -15.75079345703125, 2.9919111728668213, -2.4885802268981934, 1.7509832382202148, -1.0228915214538574, 2.2771241664886475, -4.102126121520996, -3.318331718444824, 1.5518529415130615, -2.8774073123931885, -16.676450729370117, -4.675734519958496, -3.083977222442627, 5.642720699310303, 2.2196693420410156, -1.2032371759414673, -1.1794373989105225, 5.559519290924072, 8.19201374053955, 7.15138578414917, -4.7276763916015625, -0.0530557706952095, 10.217016220092773, -5.01483154296875, -2.140918493270874, 1.3116052150726318, -4.895553112030029, 10.617951393127441, 8.689315795898438, -4.978115081787109, -7.760745048522949, -5.008734226226807, 3.0839614868164062, -0.28837019205093384, -5.045373916625977, 4.990045547485352, 4.92138671875, -3.378246545791626, -5.062546730041504, -1.2793830633163452, -15.697829246520996, 1.4897851943969727, -4.903631687164307, 9.830702781677246, 8.688078880310059, 8.002939224243164, 3.2210476398468018, 6.7651047706604, -14.279226303100586, -1.3411980867385864, 0.7897402048110962, 4.032675743103027, 8.718607902526855, 2.1769180297851562, 9.09245491027832, 0.730815052986145, -0.7952684760093689, 4.288980960845947, -5.089247703552246, 4.688801288604736, 8.022472381591797, -16.051734924316406, -4.636270046234131, -5.54490327835083, -14.471882820129395, -13.999842643737793, 8.719818115234375, -12.633764266967773, 6.633231163024902, 9.904128074645996, -5.337558269500732, -3.1427700519561768, 9.852896690368652, -5.222383975982666, 0.7292497754096985, 1.5582786798477173, 4.843353748321533, 2.027848482131958, -5.0854644775390625, -5.12751579284668, 6.595878601074219, -4.188607692718506, -1.9880852699279785, -5.193410873413086, -16.286205291748047, 0.21205322444438934, 7.785113334655762, 4.216184616088867, 1.54280424118042, -5.392322063446045, -14.042540550231934, 1.8205134868621826, 0.629734218120575, 2.5352466106414795, 8.470179557800293, -19.002870559692383, -14.31788444519043, 7.070108413696289, -5.079219818115234, 1.0050009489059448, -5.225231170654297, -1.5497452020645142, -1.9486089944839478, -17.08350944519043, 8.301501274108887, -15.613605499267578, -1.124355673789978, 1.978752613067627, -0.47406911849975586, 6.59053373336792, 9.806900024414062, -5.250118732452393, 10.074074745178223, 8.662338256835938, -5.098815441131592, -6.4138360023498535, -2.648174285888672, 8.228757858276367, -17.107765197753906, -3.2070374488830566, 7.817560195922852, -0.8391152620315552, -5.215190887451172, 9.41508960723877, -5.2982659339904785, -2.4376819133758545, -2.007215976715088, 4.4752516746521, -5.193604946136475, -4.734503746032715, 3.0953989028930664, -1.168407678604126, -1.5963187217712402, -1.9125908613204956, 8.27725601196289, 0.2719023823738098, -2.6189141273498535, -4.750988483428955, 9.132152557373047, 4.942406177520752, -6.012755393981934, 8.146310806274414, -1.5899754762649536, 4.216864585876465, -1.626937747001648, -0.9475115537643433, -4.802998065948486, -5.920104026794434, 1.5918534994125366, -4.787802219390869, 8.991599082946777, 7.361259460449219, 1.6945505142211914, -5.838567733764648, -0.6987740993499756, 7.814404010772705, 7.633455276489258, 6.961225986480713, 6.570774555206299, -5.061067581176758, 6.90406608581543, 4.059161186218262, -15.886431694030762, -1.9445856809616089, -5.570992946624756, 6.884597301483154, -4.323260307312012, 3.9920594692230225, -6.369105815887451, 1.523874282836914, 6.646662712097168, -6.512722969055176, -6.370006084442139, 2.2899391651153564, 8.402504920959473, -14.17529582977295, 3.437979221343994, -1.3203238248825073, -3.1093454360961914, -3.2148239612579346, -2.5139920711517334, -5.124752044677734, -1.8059173822402954, 2.327420234680176, -1.573164939880371, -4.978736877441406, -2.281019926071167, -2.814870834350586, -3.232980251312256, 6.234558582305908, -17.327280044555664, -4.439971923828125, -4.5009965896606445, -5.184650897979736, 3.726288318634033, -16.550291061401367, -4.902234077453613, -5.128104209899902, -19.244064331054688, 2.1082093715667725, 8.961084365844727, 4.5693359375, 8.502299308776855, -5.277711391448975, 6.501367568969727, 7.158468246459961, -4.989861965179443, 2.3260107040405273, 3.9805073738098145, 1.793413758277893, 7.4151930809021, -5.666318416595459, -5.082678318023682, 2.2653555870056152, 5.690420627593994, -5.100215911865234, 3.6297104358673096, 6.00789737701416, 7.723917484283447, -4.622162818908691, 5.181689262390137, -2.846327781677246, 7.853822231292725, 6.252297401428223, -1.0212527513504028, 8.29551887512207, 3.701709508895874, -1.9345687627792358, 4.672369956970215, 6.602829456329346, -4.424821376800537, -5.0731658935546875, 1.186156988143921, -1.7179127931594849, 5.521738529205322, -2.3200600147247314, 9.08039379119873, 8.321554183959961, -6.751344680786133, -2.6410577297210693, 3.75105881690979, 4.6889967918396, -4.677508354187012, -16.382543563842773, -15.91411018371582, 6.190413951873779, 5.4635138511657715, 7.191797256469727, 0.455030232667923, -13.70398998260498, -18.968414306640625, 9.115701675415039, -18.224132537841797, 0.17757049202919006, -4.937527179718018, -1.4477578401565552, 2.3537650108337402, 0.27226880192756653, -18.777130126953125, 6.920587062835693, -15.679506301879883, -16.841022491455078, 1.1018452644348145, 7.118000030517578, 7.194119453430176, 3.339838743209839, 7.113973617553711, -1.6673784255981445, -1.941367506980896, 7.1057024002075195, 1.1669316291809082, -1.8817559480667114, 1.2207906246185303, -13.1925048828125, -4.839835166931152, 7.42102575302124, 4.2919793128967285, -0.6866441369056702, 0.3191508948802948, -5.080809116363525, 4.160911560058594, 1.1508231163024902, 3.092545747756958, 3.2489161491394043, 1.061885952949524, 8.62867546081543, 7.824038982391357, -16.130741119384766, 3.1582956314086914, 7.860523700714111, 6.410579681396484, 7.010493278503418, -17.515512466430664, -4.821714401245117, 6.783260345458984, -2.5817556381225586, -2.3920936584472656, 7.650415420532227, -0.055087119340896606, 1.469136118888855, -7.232222557067871, -4.430819988250732, 7.654696464538574, 7.6238694190979, 6.780551910400391, -18.521665573120117, 4.291765213012695, -4.137541770935059, -6.5687336921691895, 7.65806770324707, -4.789363861083984, -17.027271270751953, 6.687519550323486, 8.32981014251709, -15.843886375427246, -1.4734808206558228, -2.384082317352295, 7.028179168701172, -1.6819180250167847, -16.335689544677734, 0.5916916131973267, 8.708255767822266, 6.114227294921875, 0.5506760478019714, 0.8215048313140869, -9.181527137756348, 6.088651180267334, 3.2143852710723877, 5.3534016609191895, 3.269534111022949, -2.362152338027954, -19.616769790649414, -16.553974151611328, 5.619935035705566, -19.418527603149414, 0.8951786160469055, 8.693208694458008, -18.972373962402344, -4.608293056488037, -19.281368255615234, 0.7256032228469849, 3.763519525527954, 5.016142845153809, -4.1303606033325195, -3.981139659881592, 1.1773618459701538, 3.5840060710906982, -7.857305526733398, 3.9831740856170654, -5.881153106689453, -0.6414845585823059, 1.4484893083572388, 8.24537181854248, 4.544239044189453, -4.886030673980713, 0.3190176486968994, 5.711137294769287, -4.570573329925537, -0.503348708152771, -9.275219917297363, -3.8422603607177734, -0.04156585410237312, 1.6202422380447388, -3.674914836883545, -15.989933967590332, -4.809749603271484, -8.773752212524414, -7.291347980499268, 7.891139507293701, -4.729157447814941, -9.45108413696289, 2.811314821243286, -19.56361961364746, -4.038715362548828, 0.5704948306083679, -1.8924747705459595, 6.358554363250732, -18.940176010131836, -2.615100622177124, -4.496625900268555, 5.6444854736328125, -2.71567964553833, 5.5710673332214355, 4.895341873168945, -1.4636332988739014, -1.8748595714569092, 0.8768655061721802, -3.9756879806518555, -0.3292614817619324, -4.1303391456604, -2.2280914783477783, -1.7393341064453125, 4.714025497436523, 6.7720160484313965, -1.8876783847808838, -4.2947611808776855, 5.949338912963867, 5.895697593688965, -1.9948139190673828, 2.2308084964752197, 5.969977855682373, 6.3080153465271, 0.05142580717802048, 0.5181043744087219, -0.6750651001930237, 2.279836893081665, -1.9037582874298096, 0.6195145845413208, -4.090919017791748, -4.33659029006958, 3.022336721420288, 5.865434646606445, -9.664604187011719, 5.8959503173828125, 2.6027278900146484, 6.951608657836914, 1.9106011390686035, 5.718214511871338, -5.311438083648682, -0.0454564206302166, 4.527299880981445, -6.318726062774658, 5.281850337982178, -16.5872802734375, 1.434116244316101, -5.786983013153076, 1.2983691692352295, -15.889031410217285, 4.154051780700684, -1.9031623601913452, 4.832339763641357, 3.182925224304199, 1.484862208366394, -3.819117784500122, -0.522281289100647, -3.9652011394500732, 3.6903820037841797, 1.9306188821792603, -4.074100971221924, 3.005502939224243, -4.327980995178223, -18.094268798828125, 2.0209484100341797, -0.20571178197860718, -1.6265541315078735, 1.7660866975784302, 1.4293221235275269, -3.925463914871216, -1.2981816530227661, -3.6032910346984863, 3.947845935821533, 1.9579148292541504, -4.223727226257324, -16.830928802490234, 3.172786235809326, -5.278724193572998, -1.2531695365905762, 0.18789198994636536, 4.249167442321777, 7.056028842926025, -3.520251989364624, -19.039907455444336, -5.545807838439941, -4.2296223640441895, 4.625329494476318, 3.8563380241394043, -3.815279245376587, 4.59611701965332, -4.330509185791016, -4.408303260803223, -12.427690505981445, 3.8754000663757324, -18.981807708740234, 1.6040024757385254, 2.8153979778289795, 3.661025047302246, 6.146703243255615, -5.472632884979248, 5.170043468475342, -6.994247913360596, -12.09740924835205, -9.032809257507324, -3.6565794944763184, -12.220088958740234, 1.4927574396133423, -0.9768579602241516, -0.05220523104071617, -1.5745049715042114, -4.2056450843811035, -1.4971617460250854, 4.940371990203857, 1.5035008192062378, 10.887185096740723, 4.542150974273682, -3.4178833961486816, 3.874586582183838, 4.546292304992676, -8.12475299835205, 7.287585735321045, 3.5890541076660156, -2.250248670578003, -2.58223295211792, 0.004183465149253607, -16.09426498413086, -2.8361330032348633, -0.04516434669494629, 8.536602973937988, 1.0643280744552612, -19.195114135742188, -18.020334243774414, -18.009437561035156, -0.3802799880504608, 3.8474977016448975, 3.746553659439087, -1.044458270072937, -2.822636842727661, -0.11965557932853699, -4.603255271911621, 2.85221791267395, -2.152888774871826, 7.4850897789001465, 8.104361534118652, 3.107468843460083, -3.989797592163086, 0.3020966351032257, -0.37016260623931885, 1.10645592212677, 4.351438522338867, -4.1061787605285645, 7.620389938354492, -4.043134689331055, -0.45375555753707886, -4.801202774047852, 6.206282138824463, 0.8314828872680664, 2.8117573261260986, -4.134329319000244, 3.317826271057129, 3.9943737983703613, -2.835059642791748, -4.273041248321533, -4.183296203613281, -2.6785361766815186, 3.1253881454467773, 4.767911434173584, 0.21539843082427979, 0.803417980670929, -4.095055103302002, 4.635400295257568, -3.424250841140747, -15.340845108032227, -4.204860210418701, -3.133517026901245, 4.388376235961914, 4.663193702697754, -4.1675615310668945, -3.2284393310546875, 8.24465560913086, -18.69772720336914, -0.08290459960699081, -12.607325553894043, 0.9673159122467041, -1.9568324089050293, -17.882461547851562, 2.695993661880493, -3.2213056087493896, 1.1420162916183472, 1.9076471328735352, 0.5489966869354248, -3.2769179344177246, 2.177156925201416, 1.8698502779006958, -1.8315752744674683, 8.113543510437012, -4.318899154663086, -2.6444599628448486, -16.53318214416504, 4.8095197677612305, -8.08717155456543, -4.063342571258545, 2.067744016647339, 2.963127374649048, -6.023439884185791, 8.464015007019043, -0.5121692419052124, 2.3036952018737793, -6.0780930519104, 2.171126365661621, -4.084474086761475, 2.1208770275115967, -3.412224531173706, -4.571813583374023, 0.6748479604721069, -1.0137243270874023, -3.308387517929077, -2.8547232151031494, -3.4628090858459473, 6.804442882537842, -1.1446088552474976, -0.7726442813873291, -3.1668572425842285, 3.2213809490203857, -1.6139769554138184, -4.049097061157227, -0.688312828540802, 1.9724994897842407, 2.18660306930542, -1.9463862180709839, 2.4652743339538574, -2.2384655475616455, 1.9460759162902832, -1.6807349920272827, 2.0309276580810547, 2.3373467922210693, 3.275942325592041, 0.7485319972038269, 7.308184623718262, -3.647757053375244, 1.4750478267669678, -3.611762285232544, -4.697599411010742, -4.397440433502197, 0.7231545448303223, -4.045521259307861, 5.65217399597168, 1.8164379596710205, -3.648172378540039, -4.492375373840332, -0.9707978367805481, 1.3809788227081299, 7.640786647796631, 0.9331905841827393, -1.286882996559143, -3.700014114379883, 0.02900993824005127, -1.6265289783477783, 1.7333956956863403, -2.9240736961364746, 1.7007170915603638, 1.1408977508544922, -0.09337390214204788, 1.5993051528930664, -1.0717779397964478, -1.7237422466278076, -1.3105026483535767, -4.661623954772949, 1.5706149339675903, -1.352362871170044, -4.828917503356934, -1.4595420360565186, -0.9805127382278442, -1.262393832206726, -3.8251075744628906, -0.23986105620861053, -1.4882854223251343, 7.960766315460205, -1.9638781547546387, 7.705005645751953, 3.2353675365448, -0.6355811953544617, -1.320878028869629, -4.070390224456787, -1.2795732021331787, -0.9517011642456055, -1.9755361080169678, -1.8539942502975464, 2.089951276779175, -18.10820770263672, -0.5921979546546936, -3.37060546875, -2.0127792358398438, -2.034733295440674, -1.1505441665649414, -1.4759970903396606, -1.7711998224258423, -2.358555555343628, -1.7902512550354004, 2.033679246902466, -0.8721988201141357, -3.3823885917663574, 7.208873748779297, -1.9328597784042358, -4.844327926635742, -1.2933709621429443, -0.38086003065109253, -2.0097463130950928, -7.71140718460083, -1.8645892143249512, -1.1682974100112915, -3.191105604171753, -1.766930341720581, -2.3779544830322266, -1.547922968864441, -8.296746253967285, 1.9418730735778809, 0.5422702431678772, -1.7074536085128784, 2.196063995361328, -15.454440116882324, -1.4735112190246582, 0.9663640856742859, -4.711826324462891, -2.960423231124878, 0.9375397562980652, -1.445656657218933, -1.7782201766967773, -3.362917900085449, -1.4901647567749023, -0.7265004515647888, -1.7899913787841797, -0.8384519219398499, -4.842001438140869, -0.8380443453788757, -1.4824031591415405, -1.9046359062194824, -0.7528077363967896, 0.3110022246837616, 0.9165295958518982, -6.973172664642334, 0.1305619329214096, -1.7035273313522339, -1.4514247179031372, 0.5638737082481384, -1.6556568145751953, -4.967101097106934, -1.725447177886963, -5.0362091064453125, -1.5915037393569946, -3.357374429702759], \"y\": [-0.27437782287597656, 4.774738311767578, 3.6698694229125977, -2.312681198120117, 16.76266860961914, 2.7613558769226074, -0.08837440609931946, -0.10918451100587845, 15.653947830200195, -1.3897508382797241, 2.6308507919311523, 5.355565547943115, 4.157502174377441, -0.17820101976394653, -0.07261760532855988, 1.9717954397201538, 18.82011604309082, 17.51168441772461, 3.6234681606292725, 2.0465943813323975, 1.272047519683838, 0.026855118572711945, 14.269194602966309, 4.960147857666016, 0.27152976393699646, -1.622019648551941, -1.5756021738052368, -0.1145450547337532, 0.9144447445869446, -0.32818400859832764, -0.3963274657726288, 2.091151237487793, 2.879962205886841, 0.7714444398880005, -1.5584746599197388, 0.2848283648490906, 3.3987390995025635, -0.4284791052341461, -2.547299861907959, -0.4248722493648529, -9.644325256347656, 0.3600803017616272, -0.4754132926464081, -0.08871950954198837, 0.3556835353374481, -1.2893911600112915, -0.4848040044307709, 3.7100846767425537, 7.255413055419922, 8.438796997070312, 0.06326647102832794, 2.880131244659424, 1.0806150436401367, -1.7409178018569946, -1.7250561714172363, 4.19019079208374, 5.6816301345825195, 16.25655746459961, -1.4018340110778809, -0.005859793163836002, 5.552995204925537, -0.7055537104606628, -1.7873893976211548, -2.00565242767334, 5.444508075714111, -1.3060029745101929, 17.898319244384766, 5.946254730224609, -0.8794726729393005, -0.33548611402511597, 14.997865676879883, 5.262844085693359, 7.970853805541992, 5.809779644012451, 12.157090187072754, 3.1836001873016357, -1.8391649723052979, 5.463520526885986, -0.5594560503959656, 3.331113815307617, 1.069003701210022, -1.2241719961166382, -2.439086437225342, -1.2093268632888794, 12.428925514221191, -1.448938250541687, -1.002829909324646, 5.326836109161377, -2.2869977951049805, -1.7334567308425903, -1.4816169738769531, -1.1754013299942017, 13.462227821350098, -2.394855499267578, 2.4644415378570557, 4.735780715942383, -1.3446266651153564, 4.717861175537109, 1.4438055753707886, 2.7928812503814697, 10.015165328979492, 17.809282302856445, 3.367609977722168, -2.046144485473633, 18.864591598510742, 2.6946895122528076, -1.3571381568908691, -0.5660302639007568, 3.6737217903137207, 4.5735883712768555, 5.501937389373779, 7.077880382537842, -1.4432647228240967, -1.6553126573562622, 2.607614278793335, -1.3480055332183838, -1.0321696996688843, -1.1271859407424927, -1.6897588968276978, -2.899888038635254, -0.8110311031341553, 18.598026275634766, -0.7469174861907959, 0.9654396772384644, -1.5176193714141846, 18.207265853881836, -1.4089577198028564, 4.512546062469482, 3.2147581577301025, -0.2991650402545929, -0.7564943432807922, -2.276411294937134, -0.5191473960876465, -0.3995852470397949, -0.398330956697464, 5.5775580406188965, 4.674749374389648, 5.118975639343262, 17.37259864807129, -0.7283543944358826, -1.4688178300857544, 2.1308465003967285, -1.8768078088760376, 5.111764907836914, 3.433748483657837, 2.749767541885376, -1.909205436706543, -1.5293713808059692, 15.251687049865723, -1.7255916595458984, -1.7550698518753052, -1.829197645187378, -4.32132625579834, -1.7790242433547974, -1.8173696994781494, 0.9204723238945007, -1.007176399230957, -1.8875761032104492, -1.3527089357376099, -2.5998952388763428, -0.6802188158035278, -1.2329668998718262, -2.765671730041504, -2.416917085647583, -1.9450384378433228, 4.840703964233398, -1.9078987836837769, 15.187143325805664, -4.319790363311768, -0.724845826625824, -1.786147117614746, 3.3572499752044678, 0.03760338947176933, 2.2799155712127686, -1.7795745134353638, -2.6490347385406494, -2.155215263366699, -4.3451128005981445, -2.0943944454193115, -2.2116317749023438, 2.4141411781311035, -2.7429330348968506, -2.2684574127197266, 16.716962814331055, -0.7314420938491821, 0.44534188508987427, 3.542285919189453, -2.7691102027893066, -3.5945687294006348, 10.84625244140625, -7.706519603729248, -2.2530999183654785, 8.960847854614258, 2.1359245777130127, -3.8081274032592773, -2.8645825386047363, 4.856705188751221, 0.43885287642478943, 17.795631408691406, -8.466184616088867, -2.4029955863952637, -4.1331305503845215, 1.3287146091461182, -2.9127628803253174, -2.400075912475586, 4.943113327026367, 0.00713817123323679, 16.204198837280273, 0.6886005997657776, -10.241474151611328, -0.4227471351623535, 14.394766807556152, 4.080318450927734, -0.25374215841293335, 1.3055542707443237, -1.8087440729141235, -2.5385897159576416, -2.5344362258911133, -3.178187131881714, -2.5600788593292236, -2.4912850856781006, -2.6284191608428955, -0.1892322450876236, 4.010737895965576, -2.798280715942383, -2.2243900299072266, -0.16963033378124237, -4.092406749725342, -0.8061501383781433, -3.0974793434143066, 0.2897942364215851, 1.801353096961975, -2.6274468898773193, 1.1991019248962402, -3.03869366645813, -2.7800207138061523, -1.3163686990737915, -2.8566794395446777, -3.145634651184082, -3.033155918121338, -1.999709129333496, 0.7451520562171936, 4.326252460479736, 5.28229284286499, -2.2650532722473145, 7.813351631164551, -3.2322018146514893, -3.0189225673675537, 14.562761306762695, -2.96811580657959, -1.1723089218139648, -2.9629766941070557, -9.105157852172852, 1.9728678464889526, -3.2730116844177246, -2.538543939590454, -2.74412202835083, -3.1447670459747314, -9.773652076721191, -10.280901908874512, -3.2436819076538086, -3.710247278213501, 13.915987014770508, -3.01739764213562, 4.38671350479126, -2.6361594200134277, 6.110507011413574, -3.2567527294158936, -3.114201784133911, 1.196022629737854, -2.0674781799316406, 1.4596413373947144, -3.338167428970337, 17.439617156982422, -3.130645751953125, 15.776583671569824, -3.3470280170440674, 2.358734607696533, 0.3159063160419464, -3.082019090652466, 0.5127742290496826, 0.7579432129859924, 3.387834310531616, 0.8562316298484802, 7.871860504150391, -3.352509021759033, -1.4146836996078491, -1.8209614753723145, 7.300907135009766, -3.574150323867798, -3.4289159774780273, 3.1322450637817383, -2.3150320053100586, -3.706509590148926, 4.38685941696167, -0.5032331943511963, -3.1766645908355713, 3.4777023792266846, -3.7005839347839355, -3.7001614570617676, 3.984616994857788, -9.915284156799316, 3.9889252185821533, -4.087896823883057, -2.282633066177368, 3.999514579772949, -3.559493064880371, -3.699044704437256, 0.9816895127296448, 4.097536563873291, -1.6304680109024048, 0.7702745795249939, -3.390864372253418, 2.1972134113311768, -3.849569082260132, -3.8393476009368896, 13.171323776245117, -3.7698612213134766, -3.7399184703826904, 4.214059829711914, -1.7136175632476807, -3.1551129817962646, -3.719506025314331, -4.016913890838623, -3.7077596187591553, -3.962270975112915, -3.1393160820007324, 16.474491119384766, 5.00020170211792, 3.6597366333007812, -3.692812204360962, -3.956516742706299, 1.0581951141357422, 18.795900344848633, 3.2069172859191895, 2.951993227005005, 3.403069257736206, 13.843307495117188, 4.320656776428223, -3.8984293937683105, -4.114030361175537, 2.970391035079956, -1.1572660207748413, -4.140811920166016, 4.074213027954102, -3.3407082557678223, -3.8875911235809326, -3.9534335136413574, -3.789372444152832, 2.7970430850982666, 2.88545823097229, -3.966947555541992, -7.681888103485107, -1.674204707145691, 3.1164650917053223, 1.3290400505065918, -3.0801613330841064, -4.285754203796387, -4.240459442138672, -3.903613805770874, 3.2723500728607178, 3.3626248836517334, -3.859631299972534, -3.328730583190918, -3.9690825939178467, -4.359364986419678, -4.083466529846191, 3.1123533248901367, 11.302553176879883, 4.11573600769043, -3.5614242553710938, 2.7473878860473633, -2.1364009380340576, -1.8912533521652222, 0.15446415543556213, -4.464534759521484, 2.422323703765869, -2.428964614868164, -3.933553457260132, -2.8176021575927734, 9.680429458618164, -4.37739896774292, 3.209977626800537, -4.188915252685547, 13.863687515258789, 4.023918151855469, -9.216713905334473, 16.910676956176758, -4.5426859855651855, -0.1486002802848816, 17.414289474487305, -4.570766925811768, -2.6953532695770264, 2.5439186096191406, -5.592835903167725, 3.578312397003174, -2.2366859912872314, -1.916667103767395, 5.757420063018799, 2.819502353668213, 1.0594907999038696, -4.245264053344727, -2.5009279251098633, -2.2406742572784424, 16.606290817260742, 13.967143058776855, 15.468764305114746, -1.5538678169250488, 18.971940994262695, -4.714822769165039, -4.522700309753418, 3.5386204719543457, 13.3739595413208, -2.260870933532715, -4.494568347930908, -2.2251973152160645, 16.351375579833984, 1.128041386604309, 3.3250608444213867, -3.9580259323120117, 1.2237374782562256, -4.776622772216797, -4.910976409912109, -4.041605472564697, 2.0944676399230957, 16.359237670898438, -5.661424160003662, -5.125229835510254, -4.962326526641846, 9.619284629821777, 3.2034666538238525, -4.997311115264893, -4.598437786102295, 0.22022482752799988, 16.503873825073242, 18.94841957092285, -5.000840187072754, 18.148706436157227, 4.988572120666504, -9.23304271697998, -3.0493311882019043, -5.002895832061768, 2.2165722846984863, -9.184760093688965, -5.001312255859375, -5.067775249481201, 3.241480827331543, -4.579785346984863, -2.702974796295166, 17.47014617919922, -1.554199457168579, -1.6031705141067505, 2.4698381423950195, -2.194228172302246, -4.3776702880859375, 16.644685745239258, 0.5245963931083679, 16.748157501220703, 3.8719704151153564, -1.5399564504623413, -5.0252251625061035, -1.1237086057662964, 18.349594116210938, 18.223155975341797, 2.6370697021484375, 4.205157279968262, 1.0535436868667603, 18.259798049926758, 3.2961654663085938, -4.114738464355469, -4.3167405128479, -5.043343544006348, -4.799769878387451, -5.158139228820801, 2.416544198989868, -5.147395610809326, 11.454089164733887, 1.8164628744125366, -4.649107456207275, -4.7487263679504395, -4.247961044311523, -5.278111457824707, 19.3024845123291, 2.3044886589050293, -4.403286933898926, 10.30024528503418, 2.4569311141967773, -4.736025333404541, 8.246293067932129, 12.415671348571777, 18.289955139160156, -4.969926357269287, -1.2423195838928223, -6.506006240844727, -5.130453109741211, -2.361604928970337, -5.347570419311523, -4.751193523406982, -2.1563796997070312, 6.182573318481445, -5.267911911010742, -7.779707908630371, 2.2374675273895264, -3.597390651702881, 16.86349868774414, 10.127852439880371, -1.7951343059539795, -6.801921367645264, 14.079596519470215, 2.5899465084075928, -1.5442229509353638, -4.820855140686035, -4.969449043273926, 1.443030595779419, 0.24352174997329712, 0.8003395795822144, -4.699430465698242, 7.5731964111328125, -5.515162467956543, -3.678230047225952, 3.632646083831787, -4.1892852783203125, -6.888648509979248, -2.4493656158447266, 15.439310073852539, 2.0247862339019775, -2.4313278198242188, -4.169562339782715, 15.456789016723633, -3.047065019607544, -5.571440696716309, 2.4945967197418213, -0.28873762488365173, -4.047889709472656, -5.675238609313965, 11.274190902709961, -4.837848663330078, -6.103018760681152, -2.278407573699951, -2.1735968589782715, -5.9279866218566895, -3.9792120456695557, -2.233808755874634, 14.60731315612793, 3.971630573272705, 1.8594326972961426, -5.810000419616699, 6.667139530181885, -1.571653962135315, -3.6565420627593994, 0.318972110748291, 5.125678539276123, 14.678191184997559, 2.0655689239501953, -4.88251256942749, 14.741562843322754, 14.172447204589844, -6.095188617706299, 0.7416800260543823, -4.8815693855285645, 12.686760902404785, -5.054671764373779, -5.786211967468262, -1.3087822198867798, 1.866163969039917, -5.881251335144043, -1.511626958847046, -1.7262603044509888, -6.101560115814209, -3.499807119369507, -4.32684850692749, -9.792946815490723, 1.1931958198547363, -6.12954044342041, -6.087687015533447, -5.932643413543701, -2.991246223449707, 6.663321018218994, 0.737817108631134, -9.34814167022705, -6.171995162963867, 1.8099002838134766, 0.16103899478912354, -5.941675186157227, 14.174914360046387, 1.2043882608413696, -2.540419816970825, -1.7467591762542725, -6.075405120849609, -2.3027429580688477, -0.03540094196796417, -3.97976016998291, 13.871256828308105, -5.942925930023193, -3.9533069133758545, -4.109888076782227, -10.563815116882324, -5.917904853820801, 2.284226655960083, -5.7910847663879395, -5.0909528732299805, 17.468608856201172, -3.9086430072784424, 0.36535924673080444, -5.8903489112854, -3.6925623416900635, -4.202404499053955, 14.126758575439453, -4.256988525390625, 1.5610899925231934, -3.4100143909454346, -4.155703544616699, 4.730586528778076, 6.669897556304932, 0.7976707220077515, 0.5629874467849731, -4.39634370803833, 4.28968620300293, -10.135019302368164, -5.529465198516846, 19.31957244873047, 16.374704360961914, -7.531468391418457, 14.074410438537598, -5.760571002960205, -8.206214904785156, -3.992284059524536, -6.122642517089844, 1.5743775367736816, -3.4446218013763428, -10.594480514526367, 0.3791224956512451, -3.8310532569885254, 14.259718894958496, 0.11618183553218842, 0.02865811064839363, 1.9946056604385376, -10.41299057006836, -9.870197296142578, 12.559317588806152, 1.876396656036377, -10.65749740600586, -5.341012477874756, -3.903834581375122, 0.763166606426239, -4.274230003356934, -2.5770137310028076, -6.607476234436035, -2.9758551120758057, -1.6462938785552979, 1.5515257120132446, -6.377762317657471, -1.5488691329956055, 8.114020347595215, -6.18315315246582, -3.1098921298980713, -2.6808550357818604, -4.551391124725342, 0.7811132073402405, -3.7354555130004883, -7.854059219360352, -2.0633139610290527, -2.4963808059692383, -6.2303571701049805, 10.122818946838379, -2.7375476360321045, -7.579342365264893, -6.668163776397705, 8.417819023132324, -2.1850931644439697, -5.349859714508057, -6.685070037841797, 9.07615852355957, -4.093591213226318, -4.438785552978516, -3.5561013221740723, -5.429746627807617, -2.7369279861450195, -4.531976699829102, 1.4344207048416138, 1.5253440141677856, -4.618987083435059, -6.723967552185059, -10.729602813720703, -6.738567352294922, -5.647631645202637, 10.546168327331543, -5.301575660705566, -6.713551998138428, 19.22708511352539, -4.098203182220459, -6.457285404205322, -9.232566833496094, 7.564992427825928, -0.19332939386367798, -7.499970436096191, -8.845766067504883, -5.047853469848633, 1.4621978998184204, -6.420597076416016, -2.7874646186828613, -6.601350784301758, -6.014033794403076, -5.167177677154541, 0.7098694443702698, -3.7650208473205566, 0.8180567622184753, -6.265058994293213, -5.480927467346191, 1.1556106805801392, 2.1223437786102295, 1.5576982498168945, -2.4103755950927734, -5.534885406494141, -4.049249649047852, -2.7426397800445557, -5.352949619293213, -7.497469902038574, 18.633663177490234, -3.116762638092041, 0.9380239248275757, -6.416053771972656, -5.680218696594238, 1.5548757314682007, -0.6692802309989929, -6.079007148742676, 18.774658203125, -3.1651451587677, -4.390070915222168, -6.5247673988342285, 10.805473327636719, 0.9104264378547668, -4.057698726654053, 18.8570556640625, 1.5435872077941895, -6.625450611114502, -6.45131254196167, 0.9835926294326782, -6.669487476348877, -8.056291580200195, 1.829079031944275, 4.441497802734375, -7.285597801208496, -3.3934481143951416, -5.406051158905029, -5.99855899810791, 4.825399398803711, 8.837471961975098, 19.306869506835938, -6.7431817054748535, -9.60931396484375, 4.655357360839844, -10.514267921447754, 1.7778033018112183, 4.577287197113037, -5.499475955963135, -3.460494041442871, -4.34043025970459, -3.7243356704711914, 1.5862128734588623, -2.860600709915161, -6.698453903198242, -5.535872936248779, 11.082334518432617, -6.872957229614258, -4.974302768707275, 5.370755672454834, -6.925411224365234, -10.276925086975098, 11.041149139404297, -6.432868480682373, 17.603710174560547, -0.477655827999115, -5.2492594718933105, -0.20422445237636566, 0.38917696475982666, -5.112228870391846, 14.207324028015137, -5.271012783050537, -4.074735641479492, -2.498695135116577, -2.501065969467163, -4.086663246154785, -6.5269904136657715, -6.497518062591553, 16.4710636138916, 0.39028099179267883, -5.2291460037231445, 18.729839324951172, 3.25363826751709, 17.189058303833008, 11.666548728942871, 13.092763900756836, -6.270648002624512, 1.639726161956787, 2.5419249534606934, 16.208261489868164, -5.260089874267578, -6.740783214569092, 1.7877962589263916, 11.88723373413086, 1.6520668268203735, -3.9673068523406982, 1.8771973848342896, 8.96238899230957, -5.086960315704346, -6.147862911224365, 1.8750944137573242, -6.376742839813232, -6.620565414428711, 0.14310598373413086, 2.029125690460205, 1.9288924932479858, -0.10596218705177307, -6.294011116027832, 6.969745635986328, -4.585479736328125, -5.051762580871582, 1.8319287300109863, 6.589854717254639, 2.2232940196990967, 1.7597852945327759, 1.925244688987732, 0.6179267168045044, -6.764092445373535, 6.757685661315918, 1.7651352882385254, 0.7568159699440002, 13.374180793762207, -3.9159703254699707, -4.2110748291015625, 4.332363128662109, -5.154174327850342, -0.9658973217010498, -2.4706952571868896, -6.172765731811523, 0.782242476940155, -6.059308052062988, 3.215015411376953, 2.6181483268737793, 0.876867949962616, -5.916519641876221, -5.613950252532959, -1.0049911737442017, 12.979825973510742, 2.074819326400757, 0.09129653871059418, -0.07400153577327728, 7.042431831359863, -10.090343475341797, 18.40283966064453, -5.840293884277344, -6.612834930419922, -9.057971000671387, 14.232182502746582, 15.945569038391113, -6.072218894958496, -9.202051162719727, -5.968727111816406, 1.8416564464569092, -5.94484806060791, 1.0473980903625488, 18.6070556640625, -4.53225564956665, -2.1722218990325928, 0.9200654029846191, 0.4006481468677521, 1.111472249031067, 10.11568832397461, -1.9279710054397583, -2.5616674423217773, 0.7576785087585449, 4.245182514190674, 17.293243408203125, 2.5806691646575928, -2.6962740421295166, -5.906324863433838, -6.125622272491455, -0.6388360857963562, -6.450065612792969, -0.266065776348114, -5.961028575897217, -0.840451717376709, -6.072798252105713, -6.363218784332275, 4.3857574462890625, 2.6630921363830566, 10.867866516113281, 1.292820930480957, -5.529520511627197, 1.1977763175964355, 2.2942311763763428, 2.061028242111206, -6.444666385650635, 2.7487196922302246, 8.349051475524902, -6.023645401000977, 1.2757536172866821, 2.077516794204712, -2.1874501705169678, 2.8486318588256836, 11.741745948791504, -4.964927673339844, -0.2174527794122696, 1.2904942035675049, -3.9192495346069336, -0.8484500646591187, 14.161966323852539, 0.22690248489379883, -5.96853494644165, -5.287588119506836, -3.7811639308929443, -5.8552117347717285, -0.21683762967586517, -0.6902498006820679, -1.8624948263168335, 2.213642120361328, -5.85125207901001, -0.6781109571456909, 2.3821215629577637, -0.39122605323791504, -0.5054346323013306, -0.7824990153312683, 1.3305655717849731, -3.8078603744506836, -0.9983444213867188, 12.17560863494873, -0.9028293490409851, 11.57589340209961, 4.432906150817871, -0.7044769525527954, -1.1965855360031128, 1.573997974395752, -0.8271816968917847, -0.08195284008979797, -1.0520193576812744, -0.2874167263507843, -7.011996269226074, -3.4674901962280273, 0.24992750585079193, -4.927130699157715, -0.44272515177726746, -1.0582798719406128, -0.21298770606517792, -0.9119197130203247, -0.638122022151947, 0.19721552729606628, -1.1106467247009277, -6.8489909172058105, -5.481913089752197, 0.39703911542892456, 10.699090957641602, -0.9599117636680603, 2.3375189304351807, -0.8542783856391907, -3.845906972885132, -1.0223047733306885, -10.222307205200195, -0.492180734872818, -0.6880026459693909, 0.1869928538799286, -1.013656735420227, -0.7788345813751221, -1.0426632165908813, -10.359602928161621, 13.972199440002441, -4.556917667388916, -0.1221519485116005, 2.7518582344055176, 0.6238642930984497, -1.3862638473510742, -5.279314041137695, 2.0850110054016113, -1.3916455507278442, -5.272826671600342, -1.3897614479064941, -1.7034944295883179, -4.917563438415527, -1.6618763208389282, -3.1269984245300293, -1.8007783889770508, -5.491330146789551, 2.1872758865356445, -5.4919633865356445, -1.87284255027771, -2.0169248580932617, -3.1042490005493164, -5.7268385887146, -5.38585090637207, -9.714959144592285, -5.73160982131958, -2.2900094985961914, -2.2205862998962402, -4.508284568786621, -2.3238797187805176, 2.292534828186035, -2.387540817260742, 2.377232074737549, -1.9409514665603638, -4.912274360656738], \"z\": [9.537643432617188, 9.612641334533691, 9.93395709991455, 7.210457801818848, 0.8099328875541687, 10.14404582977295, 9.930024147033691, 9.8737154006958, 0.626426637172699, 6.846534252166748, -4.503550052642822, -5.524913311004639, 9.75394058227539, 9.786179542541504, 9.981328964233398, 10.419400215148926, 0.7669438719749451, 0.852292001247406, 9.862690925598145, 10.448812484741211, 10.382641792297363, 10.114376068115234, 0.27164915204048157, 9.397757530212402, 10.268662452697754, 8.288514137268066, 6.490001201629639, 9.985328674316406, 10.359197616577148, 9.60709285736084, 9.459249496459961, 10.264991760253906, 7.864991664886475, 10.319426536560059, 6.612726211547852, 10.26440143585205, 9.812322616577148, 9.421507835388184, -1.6763893365859985, 9.586878776550293, 1.6690926551818848, 11.15393352508545, 9.402162551879883, 10.048253059387207, 10.2525634765625, 7.286016464233398, 9.535276412963867, 9.612204551696777, -6.462992191314697, -6.9250407218933105, 10.167069435119629, 7.863799571990967, 10.283671379089355, 6.252620697021484, 5.964017391204834, 9.374626159667969, 8.73602294921875, 0.9099922776222229, 6.898848056793213, 10.129931449890137, 9.582655906677246, 9.31147575378418, 5.95668888092041, 6.220583438873291, 8.323562622070312, 6.332359313964844, 0.8754953742027283, 8.086812019348145, 8.539323806762695, -3.0560739040374756, 0.36898308992385864, 8.773563385009766, -6.76651668548584, 8.718465805053711, -7.919625759124756, 9.592073440551758, 5.831097602844238, 8.29163646697998, 7.962699890136719, 9.413544654846191, 10.07463550567627, 6.323434352874756, 8.287027359008789, 7.844478607177734, -8.212278366088867, 7.134254455566406, 9.272743225097656, 8.585864067077637, 6.011059761047363, 6.141900062561035, 7.085302829742432, 8.094415664672852, 71.24775695800781, -1.6713224649429321, 9.46261215209961, 8.725509643554688, 7.459284782409668, 8.70818042755127, 9.800514221191406, -3.952857255935669, -5.522609233856201, 0.705009937286377, 9.15230941772461, 5.5204243659973145, 1.1180164813995361, -4.562660217285156, 8.678827285766602, 9.869086265563965, -4.404716968536377, 8.62367057800293, 8.776877403259277, -6.385230541229248, 7.196016788482666, 6.884864330291748, -4.524004936218262, 9.099661827087402, 9.528191566467285, 10.078537940979004, 6.847382545471191, -1.5366648435592651, 9.700783729553223, 0.7283262014389038, 9.73332405090332, 9.831063270568848, 8.2703275680542, 0.7383107542991638, 9.101168632507324, 8.46114444732666, 8.85267448425293, 9.742624282836914, 7.441315174102783, 5.239108562469482, 9.717863082885742, 5.607608318328857, 9.68897819519043, 9.648558616638184, 8.319955825805664, 8.196596145629883, 0.9447280764579773, 9.653382301330566, 9.844484329223633, -3.676509380340576, 6.629800319671631, 8.134954452514648, -4.283905982971191, -3.931582450866699, 6.600340843200684, 9.012864112854004, 0.4165308177471161, 8.058342933654785, 8.088935852050781, 8.1856689453125, 8.69890308380127, 7.389669418334961, 7.136301040649414, 8.907075881958008, -2.1532435417175293, 7.352713108062744, 9.25524616241455, 5.283176898956299, 9.475687026977539, 9.374110221862793, 8.109295845031738, 5.086155891418457, 7.287746906280518, 7.904170989990234, 8.395463943481445, 0.38791802525520325, 8.689276695251465, 9.64793586730957, 8.930865287780762, 8.24009895324707, 8.765365600585938, -3.715346336364746, 9.529709815979004, 4.7559661865234375, 6.5435404777526855, -101.29925537109375, 6.715073108673096, 6.205617904663086, 8.274669647216797, 5.356746196746826, 6.171688079833984, 0.8726366758346558, 9.493236541748047, 8.52828598022461, 7.904717445373535, 4.993549346923828, -1.7344294786453247, -7.709972858428955, 1.1889138221740723, 6.787806510925293, -7.201780796051025, 8.156850814819336, 8.75844669342041, 4.694798946380615, -5.243528366088867, -3.199090003967285, 0.6119750738143921, 1.067649483680725, 7.4304327964782715, 8.422277450561523, 8.199810028076172, 4.35434103012085, 6.916637420654297, 7.230523586273193, 8.353973388671875, 0.6306739449501038, 8.277999877929688, 1.6751455068588257, 5.4986395835876465, 0.288492351770401, 7.330182075500488, 8.307416915893555, 8.345282554626465, 8.573026657104492, 8.435924530029297, 6.1827802658081055, 7.376185417175293, 8.49551773071289, 6.339463233947754, 7.154625415802002, 8.306751251220703, 7.222387790679932, 5.3484296798706055, 8.469083786010742, 8.227208137512207, 8.37527847290039, 8.158443450927734, 4.2029924392700195, 8.115411758422852, 7.861232757568359, 6.101607322692871, 8.300285339355469, 5.199309349060059, 6.410294055938721, -2.01808500289917, 6.138222694396973, 4.392289638519287, 7.840137958526611, 5.949756622314453, 7.828099727630615, 6.800323486328125, -5.866249084472656, 8.190089225769043, -6.826947212219238, 4.19609260559082, 5.171725273132324, 0.31515753269195557, 6.738379955291748, 7.78630256652832, 8.135643005371094, 1.3497849702835083, 7.500949859619141, 4.080092906951904, 7.938882350921631, 7.969501972198486, 3.6306817531585693, 1.6314115524291992, 1.6990435123443604, 7.492309093475342, 8.755443572998047, -8.778664588928223, 5.366230010986328, 6.490147113800049, -1.7901276350021362, -6.02755880355835, 6.626399993896484, 6.435300350189209, 7.525811195373535, -1.8308923244476318, -3.476384401321411, 7.244806289672852, 0.8150148987770081, 7.526826858520508, 0.4355314373970032, 7.379221439361572, 6.894626617431641, 7.65897798538208, 7.4647016525268555, 7.545498847961426, -3.073737144470215, 6.335505485534668, 7.473412990570068, -6.589622497558594, 7.211299419403076, 7.205469608306885, 7.390045166015625, -6.574387550354004, 4.6653218269348145, 5.2243194580078125, 6.1398515701293945, 7.08101749420166, 3.606041669845581, 5.835261821746826, 7.2121453285217285, 6.962774753570557, 5.9224982261657715, 3.374269962310791, 4.234564304351807, 5.852975368499756, 1.6336599588394165, 5.805847644805908, 6.946197986602783, 6.886995792388916, 5.760219573974609, 5.929023742675781, 5.774731636047363, 7.148049831390381, 5.613412857055664, 6.803311824798584, -3.4274306297302246, 6.753936767578125, 6.07485818862915, 3.512396812438965, 3.9993085861206055, -8.439881324768066, 6.275601863861084, 4.838770866394043, -4.7921061515808105, 6.583162307739258, 6.503159999847412, 6.008967876434326, 3.7135488986968994, 6.326623439788818, 3.620513677597046, 6.387871265411377, 0.7739230990409851, -5.36352014541626, 5.201649188995361, 5.758407115936279, 4.034812927246094, -3.3904688358306885, 0.9286425113677979, 5.244517803192139, -4.030929088592529, -4.268385410308838, -9.791214942932129, -4.721120357513428, 4.59040641784668, 2.9237091541290283, 5.225226402282715, 6.3863844871521, 2.9026756286621094, 4.93267822265625, 5.951633453369141, 5.807692527770996, 5.200399875640869, 5.747534275054932, 5.024496078491211, 4.9874396324157715, 4.462453842163086, 0.9375910758972168, 5.820076942443848, 4.846700191497803, -3.2126431465148926, 5.819031238555908, 3.566243886947632, 5.13820219039917, 5.580042362213135, 4.694307327270508, -4.245355129241943, 5.517162799835205, 5.691027641296387, 5.347332954406738, 3.091336250305176, -1.656473994255066, -4.11565637588501, -7.904681205749512, 4.1213274002075195, 5.411128997802734, 4.45593786239624, 5.403913497924805, 5.483362674713135, -2.6918392181396484, 2.948627233505249, -3.528052806854248, 5.418540954589844, 5.100631237030029, 5.444454669952393, -7.430180072784424, 2.161982774734497, 4.230400562286377, 1.8882215023040771, -8.970314025878906, 3.9604763984680176, 1.2769237756729126, 0.4052274823188782, 2.8179643154144287, -2.5753495693206787, 0.4322359263896942, 2.919834852218628, 5.207224369049072, 4.257273197174072, 2.445319890975952, 4.026169300079346, 5.099605083465576, 5.062567234039307, -5.867434978485107, 3.9241340160369873, 3.9265167713165283, 4.298817157745361, 5.093614101409912, 4.9372239112854, 0.5135182738304138, -8.84300708770752, 0.4243597388267517, 4.988219261169434, 0.8765891194343567, 1.9306787252426147, 3.246556282043457, 3.175964832305908, -8.547858238220215, 4.787923336029053, 3.3253118991851807, 4.7323102951049805, 0.5516725778579712, 3.7771196365356445, 3.1190578937530518, 4.2699713706970215, 3.772512197494507, 1.6616603136062622, 2.2279207706451416, 4.1174468994140625, 3.3873887062072754, 0.6281077861785889, 2.000828266143799, 2.020859718322754, 2.145949363708496, -7.421176910400391, 2.966383934020996, 2.0504398345947266, 2.9306018352508545, -3.1498305797576904, 0.3425883948802948, 0.8563783168792725, 2.026820182800293, 0.5369880199432373, -5.868575572967529, 1.2451156377792358, 2.875581741333008, 1.9878535270690918, 3.150552988052368, 1.2264904975891113, 3.708102226257324, 1.374089241027832, -4.184832572937012, 2.8975682258605957, 4.098103046417236, 0.41432327032089233, 3.6126744747161865, 3.525465250015259, 2.742044448852539, 3.8224024772644043, 3.148303985595703, 0.4076099097728729, 2.6788291931152344, 0.33315569162368774, 3.255626678466797, 3.5957930088043213, 1.9121588468551636, -2.055584669113159, 0.6080032587051392, 0.5191166400909424, 2.4789586067199707, -5.48638391494751, -2.81477952003479, 0.43100374937057495, 2.4193191528320312, -1.5790717601776123, 2.9965786933898926, 0.7620059847831726, 2.2387681007385254, 0.743897020816803, 2.3515772819519043, 1.496965765953064, -7.947144031524658, 2.3247153759002686, 2.819652557373047, 2.1984875202178955, 2.8504199981689453, 0.781308114528656, 0.8813504576683044, 2.1508171558380127, 2.7004737854003906, -5.8921589851379395, 2.072474956512451, 2.135171413421631, -7.0577712059021, -8.40318489074707, 0.459897518157959, 1.7137905359268188, 2.7217891216278076, 1.352845311164856, 1.1960467100143433, 2.478005886077881, 0.23928076028823853, 1.9410078525543213, 2.657919406890869, -6.133017539978027, 0.9307727813720703, 0.9380656480789185, 1.9309195280075073, 2.3054733276367188, 0.4290081262588501, -5.715322017669678, 2.542656183242798, 0.034284453839063644, -10.396866798400879, 2.5031960010528564, 2.306830406188965, 1.6512806415557861, 1.4513083696365356, 1.7020769119262695, -2.888763189315796, -3.017228841781616, 0.273334801197052, -6.804163932800293, -0.10971889644861221, 1.7181566953659058, -4.383763313293457, -1.4048584699630737, 0.07088600099086761, -1.0669108629226685, 0.34898754954338074, 1.4547072649002075, 2.083332061767578, 1.6153336763381958, 0.3767000734806061, -1.3320908546447754, -0.16431429982185364, -3.5215165615081787, -2.4892737865448, 1.4209704399108887, -0.5383890867233276, -7.6164655685424805, 1.161098599433899, -0.5166031718254089, 1.852533221244812, 1.759535312652588, -0.5966929793357849, 1.391998529434204, 1.6997133493423462, 0.3158642053604126, -4.549642562866211, 1.0450363159179688, -0.8522945642471313, -5.156033515930176, 1.93336820602417, 1.2365649938583374, 2.213075637817383, -5.435334205627441, 0.3261692225933075, -4.846680164337158, 0.829806923866272, 0.32888519763946533, -9.387516021728516, -1.2018847465515137, -2.6643226146698, 0.7277145981788635, -8.249159812927246, -1.274122953414917, -1.194689154624939, -1.851765513420105, 0.617726743221283, -1.1444065570831299, 1.3254270553588867, 1.3194392919540405, -1.4708573818206787, 0.9470930099487305, 0.6149920225143433, 1.3956084251403809, 0.587489128112793, -1.4955534934997559, -1.499239206314087, -1.2345024347305298, -1.3714090585708618, -5.150655269622803, 0.49541643261909485, 1.1921645402908325, -1.5293073654174805, 0.4977431297302246, -2.3130435943603516, -1.3978185653686523, -9.28736686706543, -2.937795877456665, 1.0636868476867676, 1.0576733350753784, -1.6118220090866089, 1.0659735202789307, -2.659954786300659, 0.4587552845478058, -9.108863830566406, -1.4845167398452759, 0.43865787982940674, 0.37431585788726807, 1.6084275245666504, -1.5228687524795532, -4.8617377281188965, -1.4175357818603516, -0.03126417472958565, 0.3848400115966797, -1.1090452671051025, -2.3904788494110107, -1.6067076921463013, -1.3698651790618896, 0.1000417098402977, -9.228531837463379, -1.2566083669662476, 0.004820604808628559, -1.0841807126998901, -0.008839001879096031, -5.741013050079346, -6.330248832702637, -0.08697762340307236, -0.08620403707027435, -0.17351685464382172, -5.62933349609375, 1.4825292825698853, -1.2153557538986206, 0.6729081869125366, 0.3303266763687134, -1.9488219022750854, -9.21973705291748, -1.6820683479309082, 0.8869701623916626, -0.39611318707466125, -2.3080875873565674, -0.45312002301216125, -0.43115437030792236, 1.6118035316467285, -0.3450022339820862, -0.4119504392147064, 0.26037466526031494, -0.3576948642730713, -2.657244920730591, -0.6918460130691528, 1.5272541046142578, 1.350674033164978, -8.097651481628418, -0.736829400062561, 1.639034390449524, -1.6854044198989868, -0.964209794998169, -0.6830750703811646, -1.0407512187957764, -1.0018713474273682, -3.773750066757202, -0.9993809461593628, -0.8789582252502441, -0.9307942390441895, -3.2092084884643555, -0.8591464757919312, -6.965076923370361, -2.869154453277588, -0.8584181070327759, -1.1439545154571533, -1.580886721611023, -1.1137566566467285, -1.33351469039917, 0.5957522988319397, -1.2447634935379028, -1.3990753889083862, -3.1362295150756836, -7.524770736694336, -1.3557053804397583, 0.8223744630813599, -4.203950881958008, -7.153966426849365, -1.6162049770355225, -2.521393299102783, -4.249251365661621, -7.300501346588135, -1.8194879293441772, -1.9696173667907715, -1.8058758974075317, -2.6392650604248047, -1.6259199380874634, -2.176290512084961, -1.816056728363037, -1.8797863721847534, -3.1089229583740234, -4.518888473510742, 1.6695973873138428, -4.559905529022217, -3.1400580406188965, -7.628625392913818, -2.808065891265869, -4.547205448150635, 0.4635384678840637, -2.222219467163086, -4.049981117248535, 1.0240983963012695, -6.810070991516113, -2.214980125427246, -2.0528597831726074, 0.9044293165206909, -2.7785470485687256, -2.8264803886413574, -4.084628582000732, -1.8813846111297607, -4.400308132171631, -3.6582775115966797, -2.920339345932007, -2.129216194152832, -2.3983728885650635, -2.1621596813201904, -3.963426351547241, -3.2075717449188232, -2.2548129558563232, -4.916675567626953, -2.3594961166381836, -0.8779498338699341, -3.3459725379943848, -2.581423044204712, -2.375703811645508, -3.2305638790130615, -2.0710885524749756, 0.41337335109710693, -2.4479610919952393, -2.515605926513672, -4.318514823913574, -3.503469467163086, -2.575608253479004, -2.1129417419433594, -4.001921653747559, 0.1789267361164093, -2.5656509399414062, -2.8856515884399414, -4.590425491333008, -7.607058048248291, -2.5675230026245117, -0.8796128034591675, 0.2219494879245758, -2.7451348304748535, -4.914463520050049, -4.541295528411865, -2.6483871936798096, -4.963520526885986, 0.555378794670105, -2.968331813812256, -4.779773235321045, -4.7683210372924805, -0.8072666525840759, -3.778665542602539, -4.234030723571777, -5.8139495849609375, -7.261092185974121, 0.45371386408805847, -5.501012325286865, 1.116919994354248, -4.8833465576171875, 1.558722972869873, -3.2418792247772217, -4.8456854820251465, -4.3742995262146, -3.188467264175415, -3.6445651054382324, -3.4164223670959473, -3.3987903594970703, -3.052361011505127, -5.859161376953125, -4.476143836975098, -7.918647289276123, -6.006051063537598, -11.388906478881836, -5.904375076293945, -6.059034824371338, 1.3849233388900757, -7.6118364334106445, -5.596406936645508, 0.1796056032180786, -4.69304084777832, -4.530620574951172, -2.298908233642578, -3.8903746604919434, -4.527974605560303, -9.628691673278809, -5.01919412612915, -0.808665931224823, -0.8993740081787109, -0.8914907574653625, -4.237626552581787, -6.30097770690918, -6.312082290649414, -0.015709739178419113, -3.9627811908721924, -4.619006633758545, 0.12860101461410522, -5.457614421844482, -0.022682631388306618, -8.180749893188477, -8.427159309387207, -6.244316101074219, -4.334113597869873, -5.779057502746582, 0.19319410622119904, -5.45550012588501, -7.261873722076416, -4.426126956939697, -8.269152641296387, -4.554477691650391, -4.6419148445129395, -4.660484790802002, -7.307068347930908, -5.627841472625732, -6.590721130371094, -4.717667102813721, -6.8595099449157715, -7.119806289672852, -5.418160438537598, -4.794379234313965, -4.791925430297852, -5.497052192687988, -6.924731731414795, -6.517018795013428, -5.4018168449401855, -5.822242259979248, -4.977047443389893, -6.405186176300049, -5.0731024742126465, -3.1382224559783936, -5.100070476531982, -5.6066436767578125, -7.442063331604004, -6.440476417541504, -5.113006114959717, -5.620891094207764, -8.55180835723877, -0.9188032746315002, -5.535737037658691, -4.728357315063477, -6.285636901855469, -6.904541492462158, -0.7573783993721008, -7.9344162940979, -6.176313877105713, -7.512353420257568, -5.725009918212891, -5.823785781860352, -6.613916397094727, -8.205714225769043, -7.991549491882324, -7.622270107269287, -8.438211441040039, -6.118514060974121, -7.179556846618652, -1.9026050567626953, -6.586800575256348, 1.1190077066421509, -0.06729041785001755, -8.4237699508667, -9.185500144958496, 0.8059256672859192, -9.337373733520508, -0.08537262678146362, -8.69517707824707, 0.7559982538223267, -8.625308990478516, -6.797524929046631, -8.721156120300293, -7.185396194458008, -0.11038053780794144, -8.4357271194458, -8.51137638092041, -7.3778839111328125, -7.597271919250488, -7.374159812927246, -7.559319496154785, -8.477872848510742, -8.728951454162598, -7.605051040649414, -5.758892059326172, -0.04307493939995766, -7.378637790679932, -8.76809310913086, -9.118142127990723, -9.239201545715332, -8.29750919342041, -9.628807067871094, -8.277100563049316, -9.371173858642578, -8.711517333984375, -9.443244934082031, -9.627033233642578, -5.80639123916626, -5.8487548828125, -7.886030673980713, -8.427910804748535, -9.52694320678711, -8.301607131958008, -7.9481682777404785, -7.9785590171813965, -7.984753608703613, -7.556251525878906, -7.282408714294434, -9.78587818145752, -8.444000244140625, -8.136348724365234, -9.515124320983887, -5.778136253356934, -7.766231536865234, -9.7514009475708, -9.708816528320312, -8.61143684387207, -9.966007232666016, -10.065645217895508, 0.23773056268692017, -10.33279037475586, -10.09768009185791, -9.96243667602539, -10.010767936706543, -10.07351303100586, -10.336685180664062, -10.39095401763916, -10.317172050476074, -8.4587984085083, -10.125595092773438, -10.557501792907715, -8.389649391174316, -10.573731422424316, -10.61662769317627, -10.694290161132812, -9.080184936523438, -10.301238059997559, -10.838146209716797, -8.178401947021484, -10.9799222946167, -7.986872673034668, -5.831843376159668, -11.13636302947998, -11.133872032165527, -9.029385566711426, -11.338065147399902, -11.105578422546387, -11.271196365356445, -11.381235122680664, -11.125027656555176, -0.9298218488693237, -11.085877418518066, -11.411179542541504, -11.487147331237793, -11.301688194274902, -11.600232124328613, -11.551606178283691, -11.543314933776855, -12.205869674682617, -11.670007705688477, -10.942500114440918, -11.578153610229492, -11.315018653869629, -7.787791728973389, -11.92207145690918, -8.759420394897461, -12.11509895324707, -10.527055740356445, -11.998275756835938, 1.0483602285385132, -12.255111694335938, -12.347832679748535, -11.02122688293457, -12.478476524353027, -12.76880931854248, -12.82259464263916, 1.1700174808502197, 0.1927020400762558, -10.726344108581543, -13.610688209533691, -5.563297748565674, -2.3196113109588623, -13.53320598602295, -10.749451637268066, -9.489917755126953, -13.458765029907227, -10.795524597167969, -13.812504768371582, -13.692380905151367, -11.415781021118164, -13.870145797729492, -12.79662799835205, -13.763535499572754, -11.589049339294434, -9.581870079040527, -11.592020988464355, -14.06316089630127, -13.91731071472168, -12.870196342468262, -11.249220848083496, -10.97582721710205, 0.7405481338500977, -11.324280738830566, -14.095394134521484, -14.247688293457031, -11.226093292236328, -14.220619201660156, -9.629216194152832, -14.20166015625, -9.538320541381836, -14.964540481567383, -11.418725967407227]}],\n",
              "                        {\"coloraxis\": {\"colorbar\": {\"title\": {\"text\": \"Label\"}}, \"colorscale\": [[0.0, \"#0d0887\"], [0.1111111111111111, \"#46039f\"], [0.2222222222222222, \"#7201a8\"], [0.3333333333333333, \"#9c179e\"], [0.4444444444444444, \"#bd3786\"], [0.5555555555555556, \"#d8576b\"], [0.6666666666666666, \"#ed7953\"], [0.7777777777777778, \"#fb9f3a\"], [0.8888888888888888, \"#fdca26\"], [1.0, \"#f0f921\"]]}, \"height\": 800, \"legend\": {\"tracegroupgap\": 0}, \"scene\": {\"domain\": {\"x\": [0.0, 1.0], \"y\": [0.0, 1.0]}, \"xaxis\": {\"title\": {\"text\": \"0\"}}, \"yaxis\": {\"title\": {\"text\": \"1\"}}, \"zaxis\": {\"title\": {\"text\": \"2\"}}}, \"template\": {\"data\": {\"bar\": [{\"error_x\": {\"color\": \"#2a3f5f\"}, \"error_y\": {\"color\": \"#2a3f5f\"}, \"marker\": {\"line\": {\"color\": \"#E5ECF6\", \"width\": 0.5}}, \"type\": \"bar\"}], \"barpolar\": [{\"marker\": {\"line\": {\"color\": \"#E5ECF6\", \"width\": 0.5}}, \"type\": \"barpolar\"}], \"carpet\": [{\"aaxis\": {\"endlinecolor\": \"#2a3f5f\", \"gridcolor\": \"white\", \"linecolor\": \"white\", \"minorgridcolor\": \"white\", \"startlinecolor\": \"#2a3f5f\"}, \"baxis\": {\"endlinecolor\": \"#2a3f5f\", \"gridcolor\": \"white\", \"linecolor\": \"white\", \"minorgridcolor\": \"white\", \"startlinecolor\": \"#2a3f5f\"}, \"type\": \"carpet\"}], \"choropleth\": [{\"colorbar\": {\"outlinewidth\": 0, \"ticks\": \"\"}, \"type\": \"choropleth\"}], \"contour\": [{\"colorbar\": {\"outlinewidth\": 0, \"ticks\": \"\"}, \"colorscale\": [[0.0, \"#0d0887\"], [0.1111111111111111, \"#46039f\"], [0.2222222222222222, \"#7201a8\"], [0.3333333333333333, \"#9c179e\"], [0.4444444444444444, \"#bd3786\"], [0.5555555555555556, \"#d8576b\"], [0.6666666666666666, \"#ed7953\"], [0.7777777777777778, \"#fb9f3a\"], [0.8888888888888888, \"#fdca26\"], [1.0, \"#f0f921\"]], \"type\": \"contour\"}], \"contourcarpet\": [{\"colorbar\": {\"outlinewidth\": 0, \"ticks\": \"\"}, \"type\": \"contourcarpet\"}], \"heatmap\": [{\"colorbar\": {\"outlinewidth\": 0, \"ticks\": \"\"}, \"colorscale\": [[0.0, \"#0d0887\"], [0.1111111111111111, \"#46039f\"], [0.2222222222222222, \"#7201a8\"], [0.3333333333333333, \"#9c179e\"], [0.4444444444444444, \"#bd3786\"], [0.5555555555555556, \"#d8576b\"], [0.6666666666666666, \"#ed7953\"], [0.7777777777777778, \"#fb9f3a\"], [0.8888888888888888, \"#fdca26\"], [1.0, \"#f0f921\"]], \"type\": \"heatmap\"}], \"heatmapgl\": [{\"colorbar\": {\"outlinewidth\": 0, \"ticks\": \"\"}, \"colorscale\": [[0.0, \"#0d0887\"], [0.1111111111111111, \"#46039f\"], [0.2222222222222222, \"#7201a8\"], [0.3333333333333333, \"#9c179e\"], [0.4444444444444444, \"#bd3786\"], [0.5555555555555556, \"#d8576b\"], [0.6666666666666666, \"#ed7953\"], [0.7777777777777778, \"#fb9f3a\"], [0.8888888888888888, \"#fdca26\"], [1.0, \"#f0f921\"]], \"type\": \"heatmapgl\"}], \"histogram\": [{\"marker\": {\"colorbar\": {\"outlinewidth\": 0, \"ticks\": \"\"}}, \"type\": \"histogram\"}], \"histogram2d\": [{\"colorbar\": {\"outlinewidth\": 0, \"ticks\": \"\"}, \"colorscale\": [[0.0, \"#0d0887\"], [0.1111111111111111, \"#46039f\"], [0.2222222222222222, \"#7201a8\"], [0.3333333333333333, \"#9c179e\"], [0.4444444444444444, \"#bd3786\"], [0.5555555555555556, \"#d8576b\"], [0.6666666666666666, \"#ed7953\"], [0.7777777777777778, \"#fb9f3a\"], [0.8888888888888888, \"#fdca26\"], [1.0, \"#f0f921\"]], \"type\": \"histogram2d\"}], \"histogram2dcontour\": [{\"colorbar\": {\"outlinewidth\": 0, \"ticks\": \"\"}, \"colorscale\": [[0.0, \"#0d0887\"], [0.1111111111111111, \"#46039f\"], [0.2222222222222222, \"#7201a8\"], [0.3333333333333333, \"#9c179e\"], [0.4444444444444444, \"#bd3786\"], [0.5555555555555556, \"#d8576b\"], [0.6666666666666666, \"#ed7953\"], [0.7777777777777778, \"#fb9f3a\"], [0.8888888888888888, \"#fdca26\"], [1.0, \"#f0f921\"]], \"type\": \"histogram2dcontour\"}], \"mesh3d\": [{\"colorbar\": {\"outlinewidth\": 0, \"ticks\": \"\"}, \"type\": \"mesh3d\"}], \"parcoords\": [{\"line\": {\"colorbar\": {\"outlinewidth\": 0, \"ticks\": \"\"}}, \"type\": \"parcoords\"}], \"pie\": [{\"automargin\": true, \"type\": \"pie\"}], \"scatter\": [{\"marker\": {\"colorbar\": {\"outlinewidth\": 0, \"ticks\": \"\"}}, \"type\": \"scatter\"}], \"scatter3d\": [{\"line\": {\"colorbar\": {\"outlinewidth\": 0, \"ticks\": \"\"}}, \"marker\": {\"colorbar\": {\"outlinewidth\": 0, \"ticks\": \"\"}}, \"type\": \"scatter3d\"}], \"scattercarpet\": [{\"marker\": {\"colorbar\": {\"outlinewidth\": 0, \"ticks\": \"\"}}, \"type\": \"scattercarpet\"}], \"scattergeo\": [{\"marker\": {\"colorbar\": {\"outlinewidth\": 0, \"ticks\": \"\"}}, \"type\": \"scattergeo\"}], \"scattergl\": [{\"marker\": {\"colorbar\": {\"outlinewidth\": 0, \"ticks\": \"\"}}, \"type\": \"scattergl\"}], \"scattermapbox\": [{\"marker\": {\"colorbar\": {\"outlinewidth\": 0, \"ticks\": \"\"}}, \"type\": \"scattermapbox\"}], \"scatterpolar\": [{\"marker\": {\"colorbar\": {\"outlinewidth\": 0, \"ticks\": \"\"}}, \"type\": \"scatterpolar\"}], \"scatterpolargl\": [{\"marker\": {\"colorbar\": {\"outlinewidth\": 0, \"ticks\": \"\"}}, \"type\": \"scatterpolargl\"}], \"scatterternary\": [{\"marker\": {\"colorbar\": {\"outlinewidth\": 0, \"ticks\": \"\"}}, \"type\": \"scatterternary\"}], \"surface\": [{\"colorbar\": {\"outlinewidth\": 0, \"ticks\": \"\"}, \"colorscale\": [[0.0, \"#0d0887\"], [0.1111111111111111, \"#46039f\"], [0.2222222222222222, \"#7201a8\"], [0.3333333333333333, \"#9c179e\"], [0.4444444444444444, \"#bd3786\"], [0.5555555555555556, \"#d8576b\"], [0.6666666666666666, \"#ed7953\"], [0.7777777777777778, \"#fb9f3a\"], [0.8888888888888888, \"#fdca26\"], [1.0, \"#f0f921\"]], \"type\": \"surface\"}], \"table\": [{\"cells\": {\"fill\": {\"color\": \"#EBF0F8\"}, \"line\": {\"color\": \"white\"}}, \"header\": {\"fill\": {\"color\": \"#C8D4E3\"}, \"line\": {\"color\": \"white\"}}, \"type\": \"table\"}]}, \"layout\": {\"annotationdefaults\": {\"arrowcolor\": \"#2a3f5f\", \"arrowhead\": 0, \"arrowwidth\": 1}, \"coloraxis\": {\"colorbar\": {\"outlinewidth\": 0, \"ticks\": \"\"}}, \"colorscale\": {\"diverging\": [[0, \"#8e0152\"], [0.1, \"#c51b7d\"], [0.2, \"#de77ae\"], [0.3, \"#f1b6da\"], [0.4, \"#fde0ef\"], [0.5, \"#f7f7f7\"], [0.6, \"#e6f5d0\"], [0.7, \"#b8e186\"], [0.8, \"#7fbc41\"], [0.9, \"#4d9221\"], [1, \"#276419\"]], \"sequential\": [[0.0, \"#0d0887\"], [0.1111111111111111, \"#46039f\"], [0.2222222222222222, \"#7201a8\"], [0.3333333333333333, \"#9c179e\"], [0.4444444444444444, \"#bd3786\"], [0.5555555555555556, \"#d8576b\"], [0.6666666666666666, \"#ed7953\"], [0.7777777777777778, \"#fb9f3a\"], [0.8888888888888888, \"#fdca26\"], [1.0, \"#f0f921\"]], \"sequentialminus\": [[0.0, \"#0d0887\"], [0.1111111111111111, \"#46039f\"], [0.2222222222222222, \"#7201a8\"], [0.3333333333333333, \"#9c179e\"], [0.4444444444444444, \"#bd3786\"], [0.5555555555555556, \"#d8576b\"], [0.6666666666666666, \"#ed7953\"], [0.7777777777777778, \"#fb9f3a\"], [0.8888888888888888, \"#fdca26\"], [1.0, \"#f0f921\"]]}, \"colorway\": [\"#636efa\", \"#EF553B\", \"#00cc96\", \"#ab63fa\", \"#FFA15A\", \"#19d3f3\", \"#FF6692\", \"#B6E880\", \"#FF97FF\", \"#FECB52\"], \"font\": {\"color\": \"#2a3f5f\"}, \"geo\": {\"bgcolor\": \"white\", \"lakecolor\": \"white\", \"landcolor\": \"#E5ECF6\", \"showlakes\": true, \"showland\": true, \"subunitcolor\": \"white\"}, \"hoverlabel\": {\"align\": \"left\"}, \"hovermode\": \"closest\", \"mapbox\": {\"style\": \"light\"}, \"paper_bgcolor\": \"white\", \"plot_bgcolor\": \"#E5ECF6\", \"polar\": {\"angularaxis\": {\"gridcolor\": \"white\", \"linecolor\": \"white\", \"ticks\": \"\"}, \"bgcolor\": \"#E5ECF6\", \"radialaxis\": {\"gridcolor\": \"white\", \"linecolor\": \"white\", \"ticks\": \"\"}}, \"scene\": {\"xaxis\": {\"backgroundcolor\": \"#E5ECF6\", \"gridcolor\": \"white\", \"gridwidth\": 2, \"linecolor\": \"white\", \"showbackground\": true, \"ticks\": \"\", \"zerolinecolor\": \"white\"}, \"yaxis\": {\"backgroundcolor\": \"#E5ECF6\", \"gridcolor\": \"white\", \"gridwidth\": 2, \"linecolor\": \"white\", \"showbackground\": true, \"ticks\": \"\", \"zerolinecolor\": \"white\"}, \"zaxis\": {\"backgroundcolor\": \"#E5ECF6\", \"gridcolor\": \"white\", \"gridwidth\": 2, \"linecolor\": \"white\", \"showbackground\": true, \"ticks\": \"\", \"zerolinecolor\": \"white\"}}, \"shapedefaults\": {\"line\": {\"color\": \"#2a3f5f\"}}, \"ternary\": {\"aaxis\": {\"gridcolor\": \"white\", \"linecolor\": \"white\", \"ticks\": \"\"}, \"baxis\": {\"gridcolor\": \"white\", \"linecolor\": \"white\", \"ticks\": \"\"}, \"bgcolor\": \"#E5ECF6\", \"caxis\": {\"gridcolor\": \"white\", \"linecolor\": \"white\", \"ticks\": \"\"}}, \"title\": {\"x\": 0.05}, \"xaxis\": {\"automargin\": true, \"gridcolor\": \"white\", \"linecolor\": \"white\", \"ticks\": \"\", \"title\": {\"standoff\": 15}, \"zerolinecolor\": \"white\", \"zerolinewidth\": 2}, \"yaxis\": {\"automargin\": true, \"gridcolor\": \"white\", \"linecolor\": \"white\", \"ticks\": \"\", \"title\": {\"standoff\": 15}, \"zerolinecolor\": \"white\", \"zerolinewidth\": 2}}}, \"title\": {\"text\": \"3d TSNE Plot for Outliers\"}, \"width\": 900},\n",
              "                        {\"responsive\": true}\n",
              "                    ).then(function(){\n",
              "                            \n",
              "var gd = document.getElementById('51497485-7645-412b-8073-c4bce1b3f4ee');\n",
              "var x = new MutationObserver(function (mutations, observer) {{\n",
              "        var display = window.getComputedStyle(gd).display;\n",
              "        if (!display || display === 'none') {{\n",
              "            console.log([gd, 'removed!']);\n",
              "            Plotly.purge(gd);\n",
              "            observer.disconnect();\n",
              "        }}\n",
              "}});\n",
              "\n",
              "// Listen for the removal of the full notebook cells\n",
              "var notebookContainer = gd.closest('#notebook-container');\n",
              "if (notebookContainer) {{\n",
              "    x.observe(notebookContainer, {childList: true});\n",
              "}}\n",
              "\n",
              "// Listen for the clearing of the current output cell\n",
              "var outputEl = gd.closest('.output');\n",
              "if (outputEl) {{\n",
              "    x.observe(outputEl, {childList: true});\n",
              "}}\n",
              "\n",
              "                        })\n",
              "                };\n",
              "                });\n",
              "            </script>\n",
              "        </div>"
            ],
            "application/vnd.plotly.v1+json": {
              "data": [
                {
                  "hovertemplate": "0=%{x}<br>1=%{y}<br>2=%{z}<br>Feature=%{customdata[0]}<br>Label=%{marker.color}",
                  "showlegend": false,
                  "legendgroup": "",
                  "name": "",
                  "customdata": [
                    [
                      2987000
                    ],
                    [
                      2987001
                    ],
                    [
                      2987002
                    ],
                    [
                      2987003
                    ],
                    [
                      2987004
                    ],
                    [
                      2987005
                    ],
                    [
                      2987006
                    ],
                    [
                      2987007
                    ],
                    [
                      2987008
                    ],
                    [
                      2987009
                    ],
                    [
                      2987010
                    ],
                    [
                      2987011
                    ],
                    [
                      2987012
                    ],
                    [
                      2987013
                    ],
                    [
                      2987014
                    ],
                    [
                      2987015
                    ],
                    [
                      2987016
                    ],
                    [
                      2987017
                    ],
                    [
                      2987018
                    ],
                    [
                      2987019
                    ],
                    [
                      2987020
                    ],
                    [
                      2987021
                    ],
                    [
                      2987022
                    ],
                    [
                      2987023
                    ],
                    [
                      2987024
                    ],
                    [
                      2987025
                    ],
                    [
                      2987026
                    ],
                    [
                      2987027
                    ],
                    [
                      2987028
                    ],
                    [
                      2987029
                    ],
                    [
                      2987030
                    ],
                    [
                      2987031
                    ],
                    [
                      2987032
                    ],
                    [
                      2987033
                    ],
                    [
                      2987034
                    ],
                    [
                      2987035
                    ],
                    [
                      2987036
                    ],
                    [
                      2987037
                    ],
                    [
                      2987038
                    ],
                    [
                      2987039
                    ],
                    [
                      2987040
                    ],
                    [
                      2987041
                    ],
                    [
                      2987042
                    ],
                    [
                      2987043
                    ],
                    [
                      2987044
                    ],
                    [
                      2987045
                    ],
                    [
                      2987046
                    ],
                    [
                      2987047
                    ],
                    [
                      2987048
                    ],
                    [
                      2987049
                    ],
                    [
                      2987050
                    ],
                    [
                      2987051
                    ],
                    [
                      2987052
                    ],
                    [
                      2987053
                    ],
                    [
                      2987054
                    ],
                    [
                      2987055
                    ],
                    [
                      2987056
                    ],
                    [
                      2987057
                    ],
                    [
                      2987058
                    ],
                    [
                      2987059
                    ],
                    [
                      2987060
                    ],
                    [
                      2987061
                    ],
                    [
                      2987062
                    ],
                    [
                      2987063
                    ],
                    [
                      2987064
                    ],
                    [
                      2987065
                    ],
                    [
                      2987066
                    ],
                    [
                      2987067
                    ],
                    [
                      2987068
                    ],
                    [
                      2987069
                    ],
                    [
                      2987070
                    ],
                    [
                      2987071
                    ],
                    [
                      2987072
                    ],
                    [
                      2987073
                    ],
                    [
                      2987074
                    ],
                    [
                      2987075
                    ],
                    [
                      2987076
                    ],
                    [
                      2987077
                    ],
                    [
                      2987078
                    ],
                    [
                      2987079
                    ],
                    [
                      2987080
                    ],
                    [
                      2987081
                    ],
                    [
                      2987082
                    ],
                    [
                      2987083
                    ],
                    [
                      2987084
                    ],
                    [
                      2987085
                    ],
                    [
                      2987086
                    ],
                    [
                      2987087
                    ],
                    [
                      2987088
                    ],
                    [
                      2987089
                    ],
                    [
                      2987090
                    ],
                    [
                      2987091
                    ],
                    [
                      2987092
                    ],
                    [
                      2987093
                    ],
                    [
                      2987094
                    ],
                    [
                      2987095
                    ],
                    [
                      2987096
                    ],
                    [
                      2987097
                    ],
                    [
                      2987098
                    ],
                    [
                      2987099
                    ],
                    [
                      2987100
                    ],
                    [
                      2987101
                    ],
                    [
                      2987102
                    ],
                    [
                      2987103
                    ],
                    [
                      2987104
                    ],
                    [
                      2987105
                    ],
                    [
                      2987106
                    ],
                    [
                      2987107
                    ],
                    [
                      2987108
                    ],
                    [
                      2987109
                    ],
                    [
                      2987110
                    ],
                    [
                      2987111
                    ],
                    [
                      2987112
                    ],
                    [
                      2987113
                    ],
                    [
                      2987114
                    ],
                    [
                      2987115
                    ],
                    [
                      2987116
                    ],
                    [
                      2987117
                    ],
                    [
                      2987118
                    ],
                    [
                      2987119
                    ],
                    [
                      2987120
                    ],
                    [
                      2987121
                    ],
                    [
                      2987122
                    ],
                    [
                      2987123
                    ],
                    [
                      2987124
                    ],
                    [
                      2987125
                    ],
                    [
                      2987126
                    ],
                    [
                      2987127
                    ],
                    [
                      2987128
                    ],
                    [
                      2987129
                    ],
                    [
                      2987130
                    ],
                    [
                      2987131
                    ],
                    [
                      2987132
                    ],
                    [
                      2987133
                    ],
                    [
                      2987134
                    ],
                    [
                      2987135
                    ],
                    [
                      2987136
                    ],
                    [
                      2987137
                    ],
                    [
                      2987138
                    ],
                    [
                      2987139
                    ],
                    [
                      2987140
                    ],
                    [
                      2987141
                    ],
                    [
                      2987142
                    ],
                    [
                      2987143
                    ],
                    [
                      2987144
                    ],
                    [
                      2987145
                    ],
                    [
                      2987146
                    ],
                    [
                      2987147
                    ],
                    [
                      2987148
                    ],
                    [
                      2987149
                    ],
                    [
                      2987150
                    ],
                    [
                      2987151
                    ],
                    [
                      2987152
                    ],
                    [
                      2987153
                    ],
                    [
                      2987154
                    ],
                    [
                      2987155
                    ],
                    [
                      2987156
                    ],
                    [
                      2987157
                    ],
                    [
                      2987158
                    ],
                    [
                      2987159
                    ],
                    [
                      2987160
                    ],
                    [
                      2987161
                    ],
                    [
                      2987162
                    ],
                    [
                      2987163
                    ],
                    [
                      2987164
                    ],
                    [
                      2987165
                    ],
                    [
                      2987166
                    ],
                    [
                      2987167
                    ],
                    [
                      2987168
                    ],
                    [
                      2987169
                    ],
                    [
                      2987170
                    ],
                    [
                      2987171
                    ],
                    [
                      2987172
                    ],
                    [
                      2987173
                    ],
                    [
                      2987174
                    ],
                    [
                      2987175
                    ],
                    [
                      2987176
                    ],
                    [
                      2987177
                    ],
                    [
                      2987178
                    ],
                    [
                      2987179
                    ],
                    [
                      2987180
                    ],
                    [
                      2987181
                    ],
                    [
                      2987182
                    ],
                    [
                      2987183
                    ],
                    [
                      2987184
                    ],
                    [
                      2987185
                    ],
                    [
                      2987186
                    ],
                    [
                      2987187
                    ],
                    [
                      2987188
                    ],
                    [
                      2987189
                    ],
                    [
                      2987190
                    ],
                    [
                      2987191
                    ],
                    [
                      2987192
                    ],
                    [
                      2987193
                    ],
                    [
                      2987194
                    ],
                    [
                      2987195
                    ],
                    [
                      2987196
                    ],
                    [
                      2987197
                    ],
                    [
                      2987198
                    ],
                    [
                      2987199
                    ],
                    [
                      2987200
                    ],
                    [
                      2987201
                    ],
                    [
                      2987202
                    ],
                    [
                      2987203
                    ],
                    [
                      2987204
                    ],
                    [
                      2987205
                    ],
                    [
                      2987206
                    ],
                    [
                      2987207
                    ],
                    [
                      2987208
                    ],
                    [
                      2987209
                    ],
                    [
                      2987210
                    ],
                    [
                      2987211
                    ],
                    [
                      2987212
                    ],
                    [
                      2987213
                    ],
                    [
                      2987214
                    ],
                    [
                      2987215
                    ],
                    [
                      2987216
                    ],
                    [
                      2987217
                    ],
                    [
                      2987218
                    ],
                    [
                      2987219
                    ],
                    [
                      2987220
                    ],
                    [
                      2987221
                    ],
                    [
                      2987222
                    ],
                    [
                      2987223
                    ],
                    [
                      2987224
                    ],
                    [
                      2987225
                    ],
                    [
                      2987226
                    ],
                    [
                      2987227
                    ],
                    [
                      2987228
                    ],
                    [
                      2987229
                    ],
                    [
                      2987230
                    ],
                    [
                      2987231
                    ],
                    [
                      2987232
                    ],
                    [
                      2987233
                    ],
                    [
                      2987234
                    ],
                    [
                      2987235
                    ],
                    [
                      2987236
                    ],
                    [
                      2987237
                    ],
                    [
                      2987238
                    ],
                    [
                      2987239
                    ],
                    [
                      2987240
                    ],
                    [
                      2987241
                    ],
                    [
                      2987242
                    ],
                    [
                      2987243
                    ],
                    [
                      2987244
                    ],
                    [
                      2987245
                    ],
                    [
                      2987246
                    ],
                    [
                      2987247
                    ],
                    [
                      2987248
                    ],
                    [
                      2987249
                    ],
                    [
                      2987250
                    ],
                    [
                      2987251
                    ],
                    [
                      2987252
                    ],
                    [
                      2987253
                    ],
                    [
                      2987254
                    ],
                    [
                      2987255
                    ],
                    [
                      2987256
                    ],
                    [
                      2987257
                    ],
                    [
                      2987258
                    ],
                    [
                      2987259
                    ],
                    [
                      2987260
                    ],
                    [
                      2987261
                    ],
                    [
                      2987262
                    ],
                    [
                      2987263
                    ],
                    [
                      2987264
                    ],
                    [
                      2987265
                    ],
                    [
                      2987266
                    ],
                    [
                      2987267
                    ],
                    [
                      2987268
                    ],
                    [
                      2987269
                    ],
                    [
                      2987270
                    ],
                    [
                      2987271
                    ],
                    [
                      2987272
                    ],
                    [
                      2987273
                    ],
                    [
                      2987274
                    ],
                    [
                      2987275
                    ],
                    [
                      2987276
                    ],
                    [
                      2987277
                    ],
                    [
                      2987278
                    ],
                    [
                      2987279
                    ],
                    [
                      2987280
                    ],
                    [
                      2987281
                    ],
                    [
                      2987282
                    ],
                    [
                      2987283
                    ],
                    [
                      2987284
                    ],
                    [
                      2987285
                    ],
                    [
                      2987286
                    ],
                    [
                      2987287
                    ],
                    [
                      2987288
                    ],
                    [
                      2987289
                    ],
                    [
                      2987290
                    ],
                    [
                      2987291
                    ],
                    [
                      2987292
                    ],
                    [
                      2987293
                    ],
                    [
                      2987294
                    ],
                    [
                      2987295
                    ],
                    [
                      2987296
                    ],
                    [
                      2987297
                    ],
                    [
                      2987298
                    ],
                    [
                      2987299
                    ],
                    [
                      2987300
                    ],
                    [
                      2987301
                    ],
                    [
                      2987302
                    ],
                    [
                      2987303
                    ],
                    [
                      2987304
                    ],
                    [
                      2987305
                    ],
                    [
                      2987306
                    ],
                    [
                      2987307
                    ],
                    [
                      2987308
                    ],
                    [
                      2987309
                    ],
                    [
                      2987310
                    ],
                    [
                      2987311
                    ],
                    [
                      2987312
                    ],
                    [
                      2987313
                    ],
                    [
                      2987314
                    ],
                    [
                      2987315
                    ],
                    [
                      2987316
                    ],
                    [
                      2987317
                    ],
                    [
                      2987318
                    ],
                    [
                      2987319
                    ],
                    [
                      2987320
                    ],
                    [
                      2987321
                    ],
                    [
                      2987322
                    ],
                    [
                      2987323
                    ],
                    [
                      2987324
                    ],
                    [
                      2987325
                    ],
                    [
                      2987326
                    ],
                    [
                      2987327
                    ],
                    [
                      2987328
                    ],
                    [
                      2987329
                    ],
                    [
                      2987330
                    ],
                    [
                      2987331
                    ],
                    [
                      2987332
                    ],
                    [
                      2987333
                    ],
                    [
                      2987334
                    ],
                    [
                      2987335
                    ],
                    [
                      2987336
                    ],
                    [
                      2987337
                    ],
                    [
                      2987338
                    ],
                    [
                      2987339
                    ],
                    [
                      2987340
                    ],
                    [
                      2987341
                    ],
                    [
                      2987342
                    ],
                    [
                      2987343
                    ],
                    [
                      2987344
                    ],
                    [
                      2987345
                    ],
                    [
                      2987346
                    ],
                    [
                      2987347
                    ],
                    [
                      2987348
                    ],
                    [
                      2987349
                    ],
                    [
                      2987350
                    ],
                    [
                      2987351
                    ],
                    [
                      2987352
                    ],
                    [
                      2987353
                    ],
                    [
                      2987354
                    ],
                    [
                      2987355
                    ],
                    [
                      2987356
                    ],
                    [
                      2987357
                    ],
                    [
                      2987358
                    ],
                    [
                      2987359
                    ],
                    [
                      2987360
                    ],
                    [
                      2987361
                    ],
                    [
                      2987362
                    ],
                    [
                      2987363
                    ],
                    [
                      2987364
                    ],
                    [
                      2987365
                    ],
                    [
                      2987366
                    ],
                    [
                      2987367
                    ],
                    [
                      2987368
                    ],
                    [
                      2987369
                    ],
                    [
                      2987370
                    ],
                    [
                      2987371
                    ],
                    [
                      2987372
                    ],
                    [
                      2987373
                    ],
                    [
                      2987374
                    ],
                    [
                      2987375
                    ],
                    [
                      2987376
                    ],
                    [
                      2987377
                    ],
                    [
                      2987378
                    ],
                    [
                      2987379
                    ],
                    [
                      2987380
                    ],
                    [
                      2987381
                    ],
                    [
                      2987382
                    ],
                    [
                      2987383
                    ],
                    [
                      2987384
                    ],
                    [
                      2987385
                    ],
                    [
                      2987386
                    ],
                    [
                      2987387
                    ],
                    [
                      2987388
                    ],
                    [
                      2987389
                    ],
                    [
                      2987390
                    ],
                    [
                      2987391
                    ],
                    [
                      2987392
                    ],
                    [
                      2987393
                    ],
                    [
                      2987394
                    ],
                    [
                      2987395
                    ],
                    [
                      2987396
                    ],
                    [
                      2987397
                    ],
                    [
                      2987398
                    ],
                    [
                      2987399
                    ],
                    [
                      2987400
                    ],
                    [
                      2987401
                    ],
                    [
                      2987402
                    ],
                    [
                      2987403
                    ],
                    [
                      2987404
                    ],
                    [
                      2987405
                    ],
                    [
                      2987406
                    ],
                    [
                      2987407
                    ],
                    [
                      2987408
                    ],
                    [
                      2987409
                    ],
                    [
                      2987410
                    ],
                    [
                      2987411
                    ],
                    [
                      2987412
                    ],
                    [
                      2987413
                    ],
                    [
                      2987414
                    ],
                    [
                      2987415
                    ],
                    [
                      2987416
                    ],
                    [
                      2987417
                    ],
                    [
                      2987418
                    ],
                    [
                      2987419
                    ],
                    [
                      2987420
                    ],
                    [
                      2987421
                    ],
                    [
                      2987422
                    ],
                    [
                      2987423
                    ],
                    [
                      2987424
                    ],
                    [
                      2987425
                    ],
                    [
                      2987426
                    ],
                    [
                      2987427
                    ],
                    [
                      2987428
                    ],
                    [
                      2987429
                    ],
                    [
                      2987430
                    ],
                    [
                      2987431
                    ],
                    [
                      2987432
                    ],
                    [
                      2987433
                    ],
                    [
                      2987434
                    ],
                    [
                      2987435
                    ],
                    [
                      2987436
                    ],
                    [
                      2987437
                    ],
                    [
                      2987438
                    ],
                    [
                      2987439
                    ],
                    [
                      2987440
                    ],
                    [
                      2987441
                    ],
                    [
                      2987442
                    ],
                    [
                      2987443
                    ],
                    [
                      2987444
                    ],
                    [
                      2987445
                    ],
                    [
                      2987446
                    ],
                    [
                      2987447
                    ],
                    [
                      2987448
                    ],
                    [
                      2987449
                    ],
                    [
                      2987450
                    ],
                    [
                      2987451
                    ],
                    [
                      2987452
                    ],
                    [
                      2987453
                    ],
                    [
                      2987454
                    ],
                    [
                      2987455
                    ],
                    [
                      2987456
                    ],
                    [
                      2987457
                    ],
                    [
                      2987458
                    ],
                    [
                      2987459
                    ],
                    [
                      2987460
                    ],
                    [
                      2987461
                    ],
                    [
                      2987462
                    ],
                    [
                      2987463
                    ],
                    [
                      2987464
                    ],
                    [
                      2987465
                    ],
                    [
                      2987466
                    ],
                    [
                      2987467
                    ],
                    [
                      2987468
                    ],
                    [
                      2987469
                    ],
                    [
                      2987470
                    ],
                    [
                      2987471
                    ],
                    [
                      2987472
                    ],
                    [
                      2987473
                    ],
                    [
                      2987474
                    ],
                    [
                      2987475
                    ],
                    [
                      2987476
                    ],
                    [
                      2987477
                    ],
                    [
                      2987478
                    ],
                    [
                      2987479
                    ],
                    [
                      2987480
                    ],
                    [
                      2987481
                    ],
                    [
                      2987482
                    ],
                    [
                      2987483
                    ],
                    [
                      2987484
                    ],
                    [
                      2987485
                    ],
                    [
                      2987486
                    ],
                    [
                      2987487
                    ],
                    [
                      2987488
                    ],
                    [
                      2987489
                    ],
                    [
                      2987490
                    ],
                    [
                      2987491
                    ],
                    [
                      2987492
                    ],
                    [
                      2987493
                    ],
                    [
                      2987494
                    ],
                    [
                      2987495
                    ],
                    [
                      2987496
                    ],
                    [
                      2987497
                    ],
                    [
                      2987498
                    ],
                    [
                      2987499
                    ],
                    [
                      2987500
                    ],
                    [
                      2987501
                    ],
                    [
                      2987502
                    ],
                    [
                      2987503
                    ],
                    [
                      2987504
                    ],
                    [
                      2987505
                    ],
                    [
                      2987506
                    ],
                    [
                      2987507
                    ],
                    [
                      2987508
                    ],
                    [
                      2987509
                    ],
                    [
                      2987510
                    ],
                    [
                      2987511
                    ],
                    [
                      2987512
                    ],
                    [
                      2987513
                    ],
                    [
                      2987514
                    ],
                    [
                      2987515
                    ],
                    [
                      2987516
                    ],
                    [
                      2987517
                    ],
                    [
                      2987518
                    ],
                    [
                      2987519
                    ],
                    [
                      2987520
                    ],
                    [
                      2987521
                    ],
                    [
                      2987522
                    ],
                    [
                      2987523
                    ],
                    [
                      2987524
                    ],
                    [
                      2987525
                    ],
                    [
                      2987526
                    ],
                    [
                      2987527
                    ],
                    [
                      2987528
                    ],
                    [
                      2987529
                    ],
                    [
                      2987530
                    ],
                    [
                      2987531
                    ],
                    [
                      2987532
                    ],
                    [
                      2987533
                    ],
                    [
                      2987534
                    ],
                    [
                      2987535
                    ],
                    [
                      2987536
                    ],
                    [
                      2987537
                    ],
                    [
                      2987538
                    ],
                    [
                      2987539
                    ],
                    [
                      2987540
                    ],
                    [
                      2987541
                    ],
                    [
                      2987542
                    ],
                    [
                      2987543
                    ],
                    [
                      2987544
                    ],
                    [
                      2987545
                    ],
                    [
                      2987546
                    ],
                    [
                      2987547
                    ],
                    [
                      2987548
                    ],
                    [
                      2987549
                    ],
                    [
                      2987550
                    ],
                    [
                      2987551
                    ],
                    [
                      2987552
                    ],
                    [
                      2987553
                    ],
                    [
                      2987554
                    ],
                    [
                      2987555
                    ],
                    [
                      2987556
                    ],
                    [
                      2987557
                    ],
                    [
                      2987558
                    ],
                    [
                      2987559
                    ],
                    [
                      2987560
                    ],
                    [
                      2987561
                    ],
                    [
                      2987562
                    ],
                    [
                      2987563
                    ],
                    [
                      2987564
                    ],
                    [
                      2987565
                    ],
                    [
                      2987566
                    ],
                    [
                      2987567
                    ],
                    [
                      2987568
                    ],
                    [
                      2987569
                    ],
                    [
                      2987570
                    ],
                    [
                      2987571
                    ],
                    [
                      2987572
                    ],
                    [
                      2987573
                    ],
                    [
                      2987574
                    ],
                    [
                      2987575
                    ],
                    [
                      2987576
                    ],
                    [
                      2987577
                    ],
                    [
                      2987578
                    ],
                    [
                      2987579
                    ],
                    [
                      2987580
                    ],
                    [
                      2987581
                    ],
                    [
                      2987582
                    ],
                    [
                      2987583
                    ],
                    [
                      2987584
                    ],
                    [
                      2987585
                    ],
                    [
                      2987586
                    ],
                    [
                      2987587
                    ],
                    [
                      2987588
                    ],
                    [
                      2987589
                    ],
                    [
                      2987590
                    ],
                    [
                      2987591
                    ],
                    [
                      2987592
                    ],
                    [
                      2987593
                    ],
                    [
                      2987594
                    ],
                    [
                      2987595
                    ],
                    [
                      2987596
                    ],
                    [
                      2987597
                    ],
                    [
                      2987598
                    ],
                    [
                      2987599
                    ],
                    [
                      2987600
                    ],
                    [
                      2987601
                    ],
                    [
                      2987602
                    ],
                    [
                      2987603
                    ],
                    [
                      2987604
                    ],
                    [
                      2987605
                    ],
                    [
                      2987606
                    ],
                    [
                      2987607
                    ],
                    [
                      2987608
                    ],
                    [
                      2987609
                    ],
                    [
                      2987610
                    ],
                    [
                      2987611
                    ],
                    [
                      2987612
                    ],
                    [
                      2987613
                    ],
                    [
                      2987614
                    ],
                    [
                      2987615
                    ],
                    [
                      2987616
                    ],
                    [
                      2987617
                    ],
                    [
                      2987618
                    ],
                    [
                      2987619
                    ],
                    [
                      2987620
                    ],
                    [
                      2987621
                    ],
                    [
                      2987622
                    ],
                    [
                      2987623
                    ],
                    [
                      2987624
                    ],
                    [
                      2987625
                    ],
                    [
                      2987626
                    ],
                    [
                      2987627
                    ],
                    [
                      2987628
                    ],
                    [
                      2987629
                    ],
                    [
                      2987630
                    ],
                    [
                      2987631
                    ],
                    [
                      2987632
                    ],
                    [
                      2987633
                    ],
                    [
                      2987634
                    ],
                    [
                      2987635
                    ],
                    [
                      2987636
                    ],
                    [
                      2987637
                    ],
                    [
                      2987638
                    ],
                    [
                      2987639
                    ],
                    [
                      2987640
                    ],
                    [
                      2987641
                    ],
                    [
                      2987642
                    ],
                    [
                      2987643
                    ],
                    [
                      2987644
                    ],
                    [
                      2987645
                    ],
                    [
                      2987646
                    ],
                    [
                      2987647
                    ],
                    [
                      2987648
                    ],
                    [
                      2987649
                    ],
                    [
                      2987650
                    ],
                    [
                      2987651
                    ],
                    [
                      2987652
                    ],
                    [
                      2987653
                    ],
                    [
                      2987654
                    ],
                    [
                      2987655
                    ],
                    [
                      2987656
                    ],
                    [
                      2987657
                    ],
                    [
                      2987658
                    ],
                    [
                      2987659
                    ],
                    [
                      2987660
                    ],
                    [
                      2987661
                    ],
                    [
                      2987662
                    ],
                    [
                      2987663
                    ],
                    [
                      2987664
                    ],
                    [
                      2987665
                    ],
                    [
                      2987666
                    ],
                    [
                      2987667
                    ],
                    [
                      2987668
                    ],
                    [
                      2987669
                    ],
                    [
                      2987670
                    ],
                    [
                      2987671
                    ],
                    [
                      2987672
                    ],
                    [
                      2987673
                    ],
                    [
                      2987674
                    ],
                    [
                      2987675
                    ],
                    [
                      2987676
                    ],
                    [
                      2987677
                    ],
                    [
                      2987678
                    ],
                    [
                      2987679
                    ],
                    [
                      2987680
                    ],
                    [
                      2987681
                    ],
                    [
                      2987682
                    ],
                    [
                      2987683
                    ],
                    [
                      2987684
                    ],
                    [
                      2987685
                    ],
                    [
                      2987686
                    ],
                    [
                      2987687
                    ],
                    [
                      2987688
                    ],
                    [
                      2987689
                    ],
                    [
                      2987690
                    ],
                    [
                      2987691
                    ],
                    [
                      2987692
                    ],
                    [
                      2987693
                    ],
                    [
                      2987694
                    ],
                    [
                      2987695
                    ],
                    [
                      2987696
                    ],
                    [
                      2987697
                    ],
                    [
                      2987698
                    ],
                    [
                      2987699
                    ],
                    [
                      2987700
                    ],
                    [
                      2987701
                    ],
                    [
                      2987702
                    ],
                    [
                      2987703
                    ],
                    [
                      2987704
                    ],
                    [
                      2987705
                    ],
                    [
                      2987706
                    ],
                    [
                      2987707
                    ],
                    [
                      2987708
                    ],
                    [
                      2987709
                    ],
                    [
                      2987710
                    ],
                    [
                      2987711
                    ],
                    [
                      2987712
                    ],
                    [
                      2987713
                    ],
                    [
                      2987714
                    ],
                    [
                      2987715
                    ],
                    [
                      2987716
                    ],
                    [
                      2987717
                    ],
                    [
                      2987718
                    ],
                    [
                      2987719
                    ],
                    [
                      2987720
                    ],
                    [
                      2987721
                    ],
                    [
                      2987722
                    ],
                    [
                      2987723
                    ],
                    [
                      2987724
                    ],
                    [
                      2987725
                    ],
                    [
                      2987726
                    ],
                    [
                      2987727
                    ],
                    [
                      2987728
                    ],
                    [
                      2987729
                    ],
                    [
                      2987730
                    ],
                    [
                      2987731
                    ],
                    [
                      2987732
                    ],
                    [
                      2987733
                    ],
                    [
                      2987734
                    ],
                    [
                      2987735
                    ],
                    [
                      2987736
                    ],
                    [
                      2987737
                    ],
                    [
                      2987738
                    ],
                    [
                      2987739
                    ],
                    [
                      2987740
                    ],
                    [
                      2987741
                    ],
                    [
                      2987742
                    ],
                    [
                      2987743
                    ],
                    [
                      2987744
                    ],
                    [
                      2987745
                    ],
                    [
                      2987746
                    ],
                    [
                      2987747
                    ],
                    [
                      2987748
                    ],
                    [
                      2987749
                    ],
                    [
                      2987750
                    ],
                    [
                      2987751
                    ],
                    [
                      2987752
                    ],
                    [
                      2987753
                    ],
                    [
                      2987754
                    ],
                    [
                      2987755
                    ],
                    [
                      2987756
                    ],
                    [
                      2987757
                    ],
                    [
                      2987758
                    ],
                    [
                      2987759
                    ],
                    [
                      2987760
                    ],
                    [
                      2987761
                    ],
                    [
                      2987762
                    ],
                    [
                      2987763
                    ],
                    [
                      2987764
                    ],
                    [
                      2987765
                    ],
                    [
                      2987766
                    ],
                    [
                      2987767
                    ],
                    [
                      2987768
                    ],
                    [
                      2987769
                    ],
                    [
                      2987770
                    ],
                    [
                      2987771
                    ],
                    [
                      2987772
                    ],
                    [
                      2987773
                    ],
                    [
                      2987774
                    ],
                    [
                      2987775
                    ],
                    [
                      2987776
                    ],
                    [
                      2987777
                    ],
                    [
                      2987778
                    ],
                    [
                      2987779
                    ],
                    [
                      2987780
                    ],
                    [
                      2987781
                    ],
                    [
                      2987782
                    ],
                    [
                      2987783
                    ],
                    [
                      2987784
                    ],
                    [
                      2987785
                    ],
                    [
                      2987786
                    ],
                    [
                      2987787
                    ],
                    [
                      2987788
                    ],
                    [
                      2987789
                    ],
                    [
                      2987790
                    ],
                    [
                      2987791
                    ],
                    [
                      2987792
                    ],
                    [
                      2987793
                    ],
                    [
                      2987794
                    ],
                    [
                      2987795
                    ],
                    [
                      2987796
                    ],
                    [
                      2987797
                    ],
                    [
                      2987798
                    ],
                    [
                      2987799
                    ],
                    [
                      2987800
                    ],
                    [
                      2987801
                    ],
                    [
                      2987802
                    ],
                    [
                      2987803
                    ],
                    [
                      2987804
                    ],
                    [
                      2987805
                    ],
                    [
                      2987806
                    ],
                    [
                      2987807
                    ],
                    [
                      2987808
                    ],
                    [
                      2987809
                    ],
                    [
                      2987810
                    ],
                    [
                      2987811
                    ],
                    [
                      2987812
                    ],
                    [
                      2987813
                    ],
                    [
                      2987814
                    ],
                    [
                      2987815
                    ],
                    [
                      2987816
                    ],
                    [
                      2987817
                    ],
                    [
                      2987818
                    ],
                    [
                      2987819
                    ],
                    [
                      2987820
                    ],
                    [
                      2987821
                    ],
                    [
                      2987822
                    ],
                    [
                      2987823
                    ],
                    [
                      2987824
                    ],
                    [
                      2987825
                    ],
                    [
                      2987826
                    ],
                    [
                      2987827
                    ],
                    [
                      2987828
                    ],
                    [
                      2987829
                    ],
                    [
                      2987830
                    ],
                    [
                      2987831
                    ],
                    [
                      2987832
                    ],
                    [
                      2987833
                    ],
                    [
                      2987834
                    ],
                    [
                      2987835
                    ],
                    [
                      2987836
                    ],
                    [
                      2987837
                    ],
                    [
                      2987838
                    ],
                    [
                      2987839
                    ],
                    [
                      2987840
                    ],
                    [
                      2987841
                    ],
                    [
                      2987842
                    ],
                    [
                      2987843
                    ],
                    [
                      2987844
                    ],
                    [
                      2987845
                    ],
                    [
                      2987846
                    ],
                    [
                      2987847
                    ],
                    [
                      2987848
                    ],
                    [
                      2987849
                    ],
                    [
                      2987850
                    ],
                    [
                      2987851
                    ],
                    [
                      2987852
                    ],
                    [
                      2987853
                    ],
                    [
                      2987854
                    ],
                    [
                      2987855
                    ],
                    [
                      2987856
                    ],
                    [
                      2987857
                    ],
                    [
                      2987858
                    ],
                    [
                      2987859
                    ],
                    [
                      2987860
                    ],
                    [
                      2987861
                    ],
                    [
                      2987862
                    ],
                    [
                      2987863
                    ],
                    [
                      2987864
                    ],
                    [
                      2987865
                    ],
                    [
                      2987866
                    ],
                    [
                      2987867
                    ],
                    [
                      2987868
                    ],
                    [
                      2987869
                    ],
                    [
                      2987870
                    ],
                    [
                      2987871
                    ],
                    [
                      2987872
                    ],
                    [
                      2987873
                    ],
                    [
                      2987874
                    ],
                    [
                      2987875
                    ],
                    [
                      2987876
                    ],
                    [
                      2987877
                    ],
                    [
                      2987878
                    ],
                    [
                      2987879
                    ],
                    [
                      2987880
                    ],
                    [
                      2987881
                    ],
                    [
                      2987882
                    ],
                    [
                      2987883
                    ],
                    [
                      2987884
                    ],
                    [
                      2987885
                    ],
                    [
                      2987886
                    ],
                    [
                      2987887
                    ],
                    [
                      2987888
                    ],
                    [
                      2987889
                    ],
                    [
                      2987890
                    ],
                    [
                      2987891
                    ],
                    [
                      2987892
                    ],
                    [
                      2987893
                    ],
                    [
                      2987894
                    ],
                    [
                      2987895
                    ],
                    [
                      2987896
                    ],
                    [
                      2987897
                    ],
                    [
                      2987898
                    ],
                    [
                      2987899
                    ],
                    [
                      2987900
                    ],
                    [
                      2987901
                    ],
                    [
                      2987902
                    ],
                    [
                      2987903
                    ],
                    [
                      2987904
                    ],
                    [
                      2987905
                    ],
                    [
                      2987906
                    ],
                    [
                      2987907
                    ],
                    [
                      2987908
                    ],
                    [
                      2987909
                    ],
                    [
                      2987910
                    ],
                    [
                      2987911
                    ],
                    [
                      2987912
                    ],
                    [
                      2987913
                    ],
                    [
                      2987914
                    ],
                    [
                      2987915
                    ],
                    [
                      2987916
                    ],
                    [
                      2987917
                    ],
                    [
                      2987918
                    ],
                    [
                      2987919
                    ],
                    [
                      2987920
                    ],
                    [
                      2987921
                    ],
                    [
                      2987922
                    ],
                    [
                      2987923
                    ],
                    [
                      2987924
                    ],
                    [
                      2987925
                    ],
                    [
                      2987926
                    ],
                    [
                      2987927
                    ],
                    [
                      2987928
                    ],
                    [
                      2987929
                    ],
                    [
                      2987930
                    ],
                    [
                      2987931
                    ],
                    [
                      2987932
                    ],
                    [
                      2987933
                    ],
                    [
                      2987934
                    ],
                    [
                      2987935
                    ],
                    [
                      2987936
                    ],
                    [
                      2987937
                    ],
                    [
                      2987938
                    ],
                    [
                      2987939
                    ],
                    [
                      2987940
                    ],
                    [
                      2987941
                    ],
                    [
                      2987942
                    ],
                    [
                      2987943
                    ],
                    [
                      2987944
                    ],
                    [
                      2987945
                    ],
                    [
                      2987946
                    ],
                    [
                      2987947
                    ],
                    [
                      2987948
                    ],
                    [
                      2987949
                    ],
                    [
                      2987950
                    ],
                    [
                      2987951
                    ],
                    [
                      2987952
                    ],
                    [
                      2987953
                    ],
                    [
                      2987954
                    ],
                    [
                      2987955
                    ],
                    [
                      2987956
                    ],
                    [
                      2987957
                    ],
                    [
                      2987958
                    ],
                    [
                      2987959
                    ],
                    [
                      2987960
                    ],
                    [
                      2987961
                    ],
                    [
                      2987962
                    ],
                    [
                      2987963
                    ],
                    [
                      2987964
                    ],
                    [
                      2987965
                    ],
                    [
                      2987966
                    ],
                    [
                      2987967
                    ],
                    [
                      2987968
                    ],
                    [
                      2987969
                    ],
                    [
                      2987970
                    ],
                    [
                      2987971
                    ],
                    [
                      2987972
                    ],
                    [
                      2987973
                    ],
                    [
                      2987974
                    ],
                    [
                      2987975
                    ],
                    [
                      2987976
                    ],
                    [
                      2987977
                    ],
                    [
                      2987978
                    ],
                    [
                      2987979
                    ],
                    [
                      2987980
                    ],
                    [
                      2987981
                    ],
                    [
                      2987982
                    ],
                    [
                      2987983
                    ],
                    [
                      2987984
                    ],
                    [
                      2987985
                    ],
                    [
                      2987986
                    ],
                    [
                      2987987
                    ],
                    [
                      2987988
                    ],
                    [
                      2987989
                    ],
                    [
                      2987990
                    ],
                    [
                      2987991
                    ],
                    [
                      2987992
                    ],
                    [
                      2987993
                    ],
                    [
                      2987994
                    ],
                    [
                      2987995
                    ],
                    [
                      2987996
                    ],
                    [
                      2987997
                    ],
                    [
                      2987998
                    ],
                    [
                      2987999
                    ]
                  ],
                  "scene": "scene",
                  "y": [
                    -0.27437782287597656,
                    4.774738311767578,
                    3.6698694229125977,
                    -2.312681198120117,
                    16.76266860961914,
                    2.7613558769226074,
                    -0.08837440609931946,
                    -0.10918451100587845,
                    15.653947830200195,
                    -1.3897508382797241,
                    2.6308507919311523,
                    5.355565547943115,
                    4.157502174377441,
                    -0.17820101976394653,
                    -0.07261760532855988,
                    1.9717954397201538,
                    18.82011604309082,
                    17.51168441772461,
                    3.6234681606292725,
                    2.0465943813323975,
                    1.272047519683838,
                    0.026855118572711945,
                    14.269194602966309,
                    4.960147857666016,
                    0.27152976393699646,
                    -1.622019648551941,
                    -1.5756021738052368,
                    -0.1145450547337532,
                    0.9144447445869446,
                    -0.32818400859832764,
                    -0.3963274657726288,
                    2.091151237487793,
                    2.879962205886841,
                    0.7714444398880005,
                    -1.5584746599197388,
                    0.2848283648490906,
                    3.3987390995025635,
                    -0.4284791052341461,
                    -2.547299861907959,
                    -0.4248722493648529,
                    -9.644325256347656,
                    0.3600803017616272,
                    -0.4754132926464081,
                    -0.08871950954198837,
                    0.3556835353374481,
                    -1.2893911600112915,
                    -0.4848040044307709,
                    3.7100846767425537,
                    7.255413055419922,
                    8.438796997070312,
                    0.06326647102832794,
                    2.880131244659424,
                    1.0806150436401367,
                    -1.7409178018569946,
                    -1.7250561714172363,
                    4.19019079208374,
                    5.6816301345825195,
                    16.25655746459961,
                    -1.4018340110778809,
                    -0.005859793163836002,
                    5.552995204925537,
                    -0.7055537104606628,
                    -1.7873893976211548,
                    -2.00565242767334,
                    5.444508075714111,
                    -1.3060029745101929,
                    17.898319244384766,
                    5.946254730224609,
                    -0.8794726729393005,
                    -0.33548611402511597,
                    14.997865676879883,
                    5.262844085693359,
                    7.970853805541992,
                    5.809779644012451,
                    12.157090187072754,
                    3.1836001873016357,
                    -1.8391649723052979,
                    5.463520526885986,
                    -0.5594560503959656,
                    3.331113815307617,
                    1.069003701210022,
                    -1.2241719961166382,
                    -2.439086437225342,
                    -1.2093268632888794,
                    12.428925514221191,
                    -1.448938250541687,
                    -1.002829909324646,
                    5.326836109161377,
                    -2.2869977951049805,
                    -1.7334567308425903,
                    -1.4816169738769531,
                    -1.1754013299942017,
                    13.462227821350098,
                    -2.394855499267578,
                    2.4644415378570557,
                    4.735780715942383,
                    -1.3446266651153564,
                    4.717861175537109,
                    1.4438055753707886,
                    2.7928812503814697,
                    10.015165328979492,
                    17.809282302856445,
                    3.367609977722168,
                    -2.046144485473633,
                    18.864591598510742,
                    2.6946895122528076,
                    -1.3571381568908691,
                    -0.5660302639007568,
                    3.6737217903137207,
                    4.5735883712768555,
                    5.501937389373779,
                    7.077880382537842,
                    -1.4432647228240967,
                    -1.6553126573562622,
                    2.607614278793335,
                    -1.3480055332183838,
                    -1.0321696996688843,
                    -1.1271859407424927,
                    -1.6897588968276978,
                    -2.899888038635254,
                    -0.8110311031341553,
                    18.598026275634766,
                    -0.7469174861907959,
                    0.9654396772384644,
                    -1.5176193714141846,
                    18.207265853881836,
                    -1.4089577198028564,
                    4.512546062469482,
                    3.2147581577301025,
                    -0.2991650402545929,
                    -0.7564943432807922,
                    -2.276411294937134,
                    -0.5191473960876465,
                    -0.3995852470397949,
                    -0.398330956697464,
                    5.5775580406188965,
                    4.674749374389648,
                    5.118975639343262,
                    17.37259864807129,
                    -0.7283543944358826,
                    -1.4688178300857544,
                    2.1308465003967285,
                    -1.8768078088760376,
                    5.111764907836914,
                    3.433748483657837,
                    2.749767541885376,
                    -1.909205436706543,
                    -1.5293713808059692,
                    15.251687049865723,
                    -1.7255916595458984,
                    -1.7550698518753052,
                    -1.829197645187378,
                    -4.32132625579834,
                    -1.7790242433547974,
                    -1.8173696994781494,
                    0.9204723238945007,
                    -1.007176399230957,
                    -1.8875761032104492,
                    -1.3527089357376099,
                    -2.5998952388763428,
                    -0.6802188158035278,
                    -1.2329668998718262,
                    -2.765671730041504,
                    -2.416917085647583,
                    -1.9450384378433228,
                    4.840703964233398,
                    -1.9078987836837769,
                    15.187143325805664,
                    -4.319790363311768,
                    -0.724845826625824,
                    -1.786147117614746,
                    3.3572499752044678,
                    0.03760338947176933,
                    2.2799155712127686,
                    -1.7795745134353638,
                    -2.6490347385406494,
                    -2.155215263366699,
                    -4.3451128005981445,
                    -2.0943944454193115,
                    -2.2116317749023438,
                    2.4141411781311035,
                    -2.7429330348968506,
                    -2.2684574127197266,
                    16.716962814331055,
                    -0.7314420938491821,
                    0.44534188508987427,
                    3.542285919189453,
                    -2.7691102027893066,
                    -3.5945687294006348,
                    10.84625244140625,
                    -7.706519603729248,
                    -2.2530999183654785,
                    8.960847854614258,
                    2.1359245777130127,
                    -3.8081274032592773,
                    -2.8645825386047363,
                    4.856705188751221,
                    0.43885287642478943,
                    17.795631408691406,
                    -8.466184616088867,
                    -2.4029955863952637,
                    -4.1331305503845215,
                    1.3287146091461182,
                    -2.9127628803253174,
                    -2.400075912475586,
                    4.943113327026367,
                    0.00713817123323679,
                    16.204198837280273,
                    0.6886005997657776,
                    -10.241474151611328,
                    -0.4227471351623535,
                    14.394766807556152,
                    4.080318450927734,
                    -0.25374215841293335,
                    1.3055542707443237,
                    -1.8087440729141235,
                    -2.5385897159576416,
                    -2.5344362258911133,
                    -3.178187131881714,
                    -2.5600788593292236,
                    -2.4912850856781006,
                    -2.6284191608428955,
                    -0.1892322450876236,
                    4.010737895965576,
                    -2.798280715942383,
                    -2.2243900299072266,
                    -0.16963033378124237,
                    -4.092406749725342,
                    -0.8061501383781433,
                    -3.0974793434143066,
                    0.2897942364215851,
                    1.801353096961975,
                    -2.6274468898773193,
                    1.1991019248962402,
                    -3.03869366645813,
                    -2.7800207138061523,
                    -1.3163686990737915,
                    -2.8566794395446777,
                    -3.145634651184082,
                    -3.033155918121338,
                    -1.999709129333496,
                    0.7451520562171936,
                    4.326252460479736,
                    5.28229284286499,
                    -2.2650532722473145,
                    7.813351631164551,
                    -3.2322018146514893,
                    -3.0189225673675537,
                    14.562761306762695,
                    -2.96811580657959,
                    -1.1723089218139648,
                    -2.9629766941070557,
                    -9.105157852172852,
                    1.9728678464889526,
                    -3.2730116844177246,
                    -2.538543939590454,
                    -2.74412202835083,
                    -3.1447670459747314,
                    -9.773652076721191,
                    -10.280901908874512,
                    -3.2436819076538086,
                    -3.710247278213501,
                    13.915987014770508,
                    -3.01739764213562,
                    4.38671350479126,
                    -2.6361594200134277,
                    6.110507011413574,
                    -3.2567527294158936,
                    -3.114201784133911,
                    1.196022629737854,
                    -2.0674781799316406,
                    1.4596413373947144,
                    -3.338167428970337,
                    17.439617156982422,
                    -3.130645751953125,
                    15.776583671569824,
                    -3.3470280170440674,
                    2.358734607696533,
                    0.3159063160419464,
                    -3.082019090652466,
                    0.5127742290496826,
                    0.7579432129859924,
                    3.387834310531616,
                    0.8562316298484802,
                    7.871860504150391,
                    -3.352509021759033,
                    -1.4146836996078491,
                    -1.8209614753723145,
                    7.300907135009766,
                    -3.574150323867798,
                    -3.4289159774780273,
                    3.1322450637817383,
                    -2.3150320053100586,
                    -3.706509590148926,
                    4.38685941696167,
                    -0.5032331943511963,
                    -3.1766645908355713,
                    3.4777023792266846,
                    -3.7005839347839355,
                    -3.7001614570617676,
                    3.984616994857788,
                    -9.915284156799316,
                    3.9889252185821533,
                    -4.087896823883057,
                    -2.282633066177368,
                    3.999514579772949,
                    -3.559493064880371,
                    -3.699044704437256,
                    0.9816895127296448,
                    4.097536563873291,
                    -1.6304680109024048,
                    0.7702745795249939,
                    -3.390864372253418,
                    2.1972134113311768,
                    -3.849569082260132,
                    -3.8393476009368896,
                    13.171323776245117,
                    -3.7698612213134766,
                    -3.7399184703826904,
                    4.214059829711914,
                    -1.7136175632476807,
                    -3.1551129817962646,
                    -3.719506025314331,
                    -4.016913890838623,
                    -3.7077596187591553,
                    -3.962270975112915,
                    -3.1393160820007324,
                    16.474491119384766,
                    5.00020170211792,
                    3.6597366333007812,
                    -3.692812204360962,
                    -3.956516742706299,
                    1.0581951141357422,
                    18.795900344848633,
                    3.2069172859191895,
                    2.951993227005005,
                    3.403069257736206,
                    13.843307495117188,
                    4.320656776428223,
                    -3.8984293937683105,
                    -4.114030361175537,
                    2.970391035079956,
                    -1.1572660207748413,
                    -4.140811920166016,
                    4.074213027954102,
                    -3.3407082557678223,
                    -3.8875911235809326,
                    -3.9534335136413574,
                    -3.789372444152832,
                    2.7970430850982666,
                    2.88545823097229,
                    -3.966947555541992,
                    -7.681888103485107,
                    -1.674204707145691,
                    3.1164650917053223,
                    1.3290400505065918,
                    -3.0801613330841064,
                    -4.285754203796387,
                    -4.240459442138672,
                    -3.903613805770874,
                    3.2723500728607178,
                    3.3626248836517334,
                    -3.859631299972534,
                    -3.328730583190918,
                    -3.9690825939178467,
                    -4.359364986419678,
                    -4.083466529846191,
                    3.1123533248901367,
                    11.302553176879883,
                    4.11573600769043,
                    -3.5614242553710938,
                    2.7473878860473633,
                    -2.1364009380340576,
                    -1.8912533521652222,
                    0.15446415543556213,
                    -4.464534759521484,
                    2.422323703765869,
                    -2.428964614868164,
                    -3.933553457260132,
                    -2.8176021575927734,
                    9.680429458618164,
                    -4.37739896774292,
                    3.209977626800537,
                    -4.188915252685547,
                    13.863687515258789,
                    4.023918151855469,
                    -9.216713905334473,
                    16.910676956176758,
                    -4.5426859855651855,
                    -0.1486002802848816,
                    17.414289474487305,
                    -4.570766925811768,
                    -2.6953532695770264,
                    2.5439186096191406,
                    -5.592835903167725,
                    3.578312397003174,
                    -2.2366859912872314,
                    -1.916667103767395,
                    5.757420063018799,
                    2.819502353668213,
                    1.0594907999038696,
                    -4.245264053344727,
                    -2.5009279251098633,
                    -2.2406742572784424,
                    16.606290817260742,
                    13.967143058776855,
                    15.468764305114746,
                    -1.5538678169250488,
                    18.971940994262695,
                    -4.714822769165039,
                    -4.522700309753418,
                    3.5386204719543457,
                    13.3739595413208,
                    -2.260870933532715,
                    -4.494568347930908,
                    -2.2251973152160645,
                    16.351375579833984,
                    1.128041386604309,
                    3.3250608444213867,
                    -3.9580259323120117,
                    1.2237374782562256,
                    -4.776622772216797,
                    -4.910976409912109,
                    -4.041605472564697,
                    2.0944676399230957,
                    16.359237670898438,
                    -5.661424160003662,
                    -5.125229835510254,
                    -4.962326526641846,
                    9.619284629821777,
                    3.2034666538238525,
                    -4.997311115264893,
                    -4.598437786102295,
                    0.22022482752799988,
                    16.503873825073242,
                    18.94841957092285,
                    -5.000840187072754,
                    18.148706436157227,
                    4.988572120666504,
                    -9.23304271697998,
                    -3.0493311882019043,
                    -5.002895832061768,
                    2.2165722846984863,
                    -9.184760093688965,
                    -5.001312255859375,
                    -5.067775249481201,
                    3.241480827331543,
                    -4.579785346984863,
                    -2.702974796295166,
                    17.47014617919922,
                    -1.554199457168579,
                    -1.6031705141067505,
                    2.4698381423950195,
                    -2.194228172302246,
                    -4.3776702880859375,
                    16.644685745239258,
                    0.5245963931083679,
                    16.748157501220703,
                    3.8719704151153564,
                    -1.5399564504623413,
                    -5.0252251625061035,
                    -1.1237086057662964,
                    18.349594116210938,
                    18.223155975341797,
                    2.6370697021484375,
                    4.205157279968262,
                    1.0535436868667603,
                    18.259798049926758,
                    3.2961654663085938,
                    -4.114738464355469,
                    -4.3167405128479,
                    -5.043343544006348,
                    -4.799769878387451,
                    -5.158139228820801,
                    2.416544198989868,
                    -5.147395610809326,
                    11.454089164733887,
                    1.8164628744125366,
                    -4.649107456207275,
                    -4.7487263679504395,
                    -4.247961044311523,
                    -5.278111457824707,
                    19.3024845123291,
                    2.3044886589050293,
                    -4.403286933898926,
                    10.30024528503418,
                    2.4569311141967773,
                    -4.736025333404541,
                    8.246293067932129,
                    12.415671348571777,
                    18.289955139160156,
                    -4.969926357269287,
                    -1.2423195838928223,
                    -6.506006240844727,
                    -5.130453109741211,
                    -2.361604928970337,
                    -5.347570419311523,
                    -4.751193523406982,
                    -2.1563796997070312,
                    6.182573318481445,
                    -5.267911911010742,
                    -7.779707908630371,
                    2.2374675273895264,
                    -3.597390651702881,
                    16.86349868774414,
                    10.127852439880371,
                    -1.7951343059539795,
                    -6.801921367645264,
                    14.079596519470215,
                    2.5899465084075928,
                    -1.5442229509353638,
                    -4.820855140686035,
                    -4.969449043273926,
                    1.443030595779419,
                    0.24352174997329712,
                    0.8003395795822144,
                    -4.699430465698242,
                    7.5731964111328125,
                    -5.515162467956543,
                    -3.678230047225952,
                    3.632646083831787,
                    -4.1892852783203125,
                    -6.888648509979248,
                    -2.4493656158447266,
                    15.439310073852539,
                    2.0247862339019775,
                    -2.4313278198242188,
                    -4.169562339782715,
                    15.456789016723633,
                    -3.047065019607544,
                    -5.571440696716309,
                    2.4945967197418213,
                    -0.28873762488365173,
                    -4.047889709472656,
                    -5.675238609313965,
                    11.274190902709961,
                    -4.837848663330078,
                    -6.103018760681152,
                    -2.278407573699951,
                    -2.1735968589782715,
                    -5.9279866218566895,
                    -3.9792120456695557,
                    -2.233808755874634,
                    14.60731315612793,
                    3.971630573272705,
                    1.8594326972961426,
                    -5.810000419616699,
                    6.667139530181885,
                    -1.571653962135315,
                    -3.6565420627593994,
                    0.318972110748291,
                    5.125678539276123,
                    14.678191184997559,
                    2.0655689239501953,
                    -4.88251256942749,
                    14.741562843322754,
                    14.172447204589844,
                    -6.095188617706299,
                    0.7416800260543823,
                    -4.8815693855285645,
                    12.686760902404785,
                    -5.054671764373779,
                    -5.786211967468262,
                    -1.3087822198867798,
                    1.866163969039917,
                    -5.881251335144043,
                    -1.511626958847046,
                    -1.7262603044509888,
                    -6.101560115814209,
                    -3.499807119369507,
                    -4.32684850692749,
                    -9.792946815490723,
                    1.1931958198547363,
                    -6.12954044342041,
                    -6.087687015533447,
                    -5.932643413543701,
                    -2.991246223449707,
                    6.663321018218994,
                    0.737817108631134,
                    -9.34814167022705,
                    -6.171995162963867,
                    1.8099002838134766,
                    0.16103899478912354,
                    -5.941675186157227,
                    14.174914360046387,
                    1.2043882608413696,
                    -2.540419816970825,
                    -1.7467591762542725,
                    -6.075405120849609,
                    -2.3027429580688477,
                    -0.03540094196796417,
                    -3.97976016998291,
                    13.871256828308105,
                    -5.942925930023193,
                    -3.9533069133758545,
                    -4.109888076782227,
                    -10.563815116882324,
                    -5.917904853820801,
                    2.284226655960083,
                    -5.7910847663879395,
                    -5.0909528732299805,
                    17.468608856201172,
                    -3.9086430072784424,
                    0.36535924673080444,
                    -5.8903489112854,
                    -3.6925623416900635,
                    -4.202404499053955,
                    14.126758575439453,
                    -4.256988525390625,
                    1.5610899925231934,
                    -3.4100143909454346,
                    -4.155703544616699,
                    4.730586528778076,
                    6.669897556304932,
                    0.7976707220077515,
                    0.5629874467849731,
                    -4.39634370803833,
                    4.28968620300293,
                    -10.135019302368164,
                    -5.529465198516846,
                    19.31957244873047,
                    16.374704360961914,
                    -7.531468391418457,
                    14.074410438537598,
                    -5.760571002960205,
                    -8.206214904785156,
                    -3.992284059524536,
                    -6.122642517089844,
                    1.5743775367736816,
                    -3.4446218013763428,
                    -10.594480514526367,
                    0.3791224956512451,
                    -3.8310532569885254,
                    14.259718894958496,
                    0.11618183553218842,
                    0.02865811064839363,
                    1.9946056604385376,
                    -10.41299057006836,
                    -9.870197296142578,
                    12.559317588806152,
                    1.876396656036377,
                    -10.65749740600586,
                    -5.341012477874756,
                    -3.903834581375122,
                    0.763166606426239,
                    -4.274230003356934,
                    -2.5770137310028076,
                    -6.607476234436035,
                    -2.9758551120758057,
                    -1.6462938785552979,
                    1.5515257120132446,
                    -6.377762317657471,
                    -1.5488691329956055,
                    8.114020347595215,
                    -6.18315315246582,
                    -3.1098921298980713,
                    -2.6808550357818604,
                    -4.551391124725342,
                    0.7811132073402405,
                    -3.7354555130004883,
                    -7.854059219360352,
                    -2.0633139610290527,
                    -2.4963808059692383,
                    -6.2303571701049805,
                    10.122818946838379,
                    -2.7375476360321045,
                    -7.579342365264893,
                    -6.668163776397705,
                    8.417819023132324,
                    -2.1850931644439697,
                    -5.349859714508057,
                    -6.685070037841797,
                    9.07615852355957,
                    -4.093591213226318,
                    -4.438785552978516,
                    -3.5561013221740723,
                    -5.429746627807617,
                    -2.7369279861450195,
                    -4.531976699829102,
                    1.4344207048416138,
                    1.5253440141677856,
                    -4.618987083435059,
                    -6.723967552185059,
                    -10.729602813720703,
                    -6.738567352294922,
                    -5.647631645202637,
                    10.546168327331543,
                    -5.301575660705566,
                    -6.713551998138428,
                    19.22708511352539,
                    -4.098203182220459,
                    -6.457285404205322,
                    -9.232566833496094,
                    7.564992427825928,
                    -0.19332939386367798,
                    -7.499970436096191,
                    -8.845766067504883,
                    -5.047853469848633,
                    1.4621978998184204,
                    -6.420597076416016,
                    -2.7874646186828613,
                    -6.601350784301758,
                    -6.014033794403076,
                    -5.167177677154541,
                    0.7098694443702698,
                    -3.7650208473205566,
                    0.8180567622184753,
                    -6.265058994293213,
                    -5.480927467346191,
                    1.1556106805801392,
                    2.1223437786102295,
                    1.5576982498168945,
                    -2.4103755950927734,
                    -5.534885406494141,
                    -4.049249649047852,
                    -2.7426397800445557,
                    -5.352949619293213,
                    -7.497469902038574,
                    18.633663177490234,
                    -3.116762638092041,
                    0.9380239248275757,
                    -6.416053771972656,
                    -5.680218696594238,
                    1.5548757314682007,
                    -0.6692802309989929,
                    -6.079007148742676,
                    18.774658203125,
                    -3.1651451587677,
                    -4.390070915222168,
                    -6.5247673988342285,
                    10.805473327636719,
                    0.9104264378547668,
                    -4.057698726654053,
                    18.8570556640625,
                    1.5435872077941895,
                    -6.625450611114502,
                    -6.45131254196167,
                    0.9835926294326782,
                    -6.669487476348877,
                    -8.056291580200195,
                    1.829079031944275,
                    4.441497802734375,
                    -7.285597801208496,
                    -3.3934481143951416,
                    -5.406051158905029,
                    -5.99855899810791,
                    4.825399398803711,
                    8.837471961975098,
                    19.306869506835938,
                    -6.7431817054748535,
                    -9.60931396484375,
                    4.655357360839844,
                    -10.514267921447754,
                    1.7778033018112183,
                    4.577287197113037,
                    -5.499475955963135,
                    -3.460494041442871,
                    -4.34043025970459,
                    -3.7243356704711914,
                    1.5862128734588623,
                    -2.860600709915161,
                    -6.698453903198242,
                    -5.535872936248779,
                    11.082334518432617,
                    -6.872957229614258,
                    -4.974302768707275,
                    5.370755672454834,
                    -6.925411224365234,
                    -10.276925086975098,
                    11.041149139404297,
                    -6.432868480682373,
                    17.603710174560547,
                    -0.477655827999115,
                    -5.2492594718933105,
                    -0.20422445237636566,
                    0.38917696475982666,
                    -5.112228870391846,
                    14.207324028015137,
                    -5.271012783050537,
                    -4.074735641479492,
                    -2.498695135116577,
                    -2.501065969467163,
                    -4.086663246154785,
                    -6.5269904136657715,
                    -6.497518062591553,
                    16.4710636138916,
                    0.39028099179267883,
                    -5.2291460037231445,
                    18.729839324951172,
                    3.25363826751709,
                    17.189058303833008,
                    11.666548728942871,
                    13.092763900756836,
                    -6.270648002624512,
                    1.639726161956787,
                    2.5419249534606934,
                    16.208261489868164,
                    -5.260089874267578,
                    -6.740783214569092,
                    1.7877962589263916,
                    11.88723373413086,
                    1.6520668268203735,
                    -3.9673068523406982,
                    1.8771973848342896,
                    8.96238899230957,
                    -5.086960315704346,
                    -6.147862911224365,
                    1.8750944137573242,
                    -6.376742839813232,
                    -6.620565414428711,
                    0.14310598373413086,
                    2.029125690460205,
                    1.9288924932479858,
                    -0.10596218705177307,
                    -6.294011116027832,
                    6.969745635986328,
                    -4.585479736328125,
                    -5.051762580871582,
                    1.8319287300109863,
                    6.589854717254639,
                    2.2232940196990967,
                    1.7597852945327759,
                    1.925244688987732,
                    0.6179267168045044,
                    -6.764092445373535,
                    6.757685661315918,
                    1.7651352882385254,
                    0.7568159699440002,
                    13.374180793762207,
                    -3.9159703254699707,
                    -4.2110748291015625,
                    4.332363128662109,
                    -5.154174327850342,
                    -0.9658973217010498,
                    -2.4706952571868896,
                    -6.172765731811523,
                    0.782242476940155,
                    -6.059308052062988,
                    3.215015411376953,
                    2.6181483268737793,
                    0.876867949962616,
                    -5.916519641876221,
                    -5.613950252532959,
                    -1.0049911737442017,
                    12.979825973510742,
                    2.074819326400757,
                    0.09129653871059418,
                    -0.07400153577327728,
                    7.042431831359863,
                    -10.090343475341797,
                    18.40283966064453,
                    -5.840293884277344,
                    -6.612834930419922,
                    -9.057971000671387,
                    14.232182502746582,
                    15.945569038391113,
                    -6.072218894958496,
                    -9.202051162719727,
                    -5.968727111816406,
                    1.8416564464569092,
                    -5.94484806060791,
                    1.0473980903625488,
                    18.6070556640625,
                    -4.53225564956665,
                    -2.1722218990325928,
                    0.9200654029846191,
                    0.4006481468677521,
                    1.111472249031067,
                    10.11568832397461,
                    -1.9279710054397583,
                    -2.5616674423217773,
                    0.7576785087585449,
                    4.245182514190674,
                    17.293243408203125,
                    2.5806691646575928,
                    -2.6962740421295166,
                    -5.906324863433838,
                    -6.125622272491455,
                    -0.6388360857963562,
                    -6.450065612792969,
                    -0.266065776348114,
                    -5.961028575897217,
                    -0.840451717376709,
                    -6.072798252105713,
                    -6.363218784332275,
                    4.3857574462890625,
                    2.6630921363830566,
                    10.867866516113281,
                    1.292820930480957,
                    -5.529520511627197,
                    1.1977763175964355,
                    2.2942311763763428,
                    2.061028242111206,
                    -6.444666385650635,
                    2.7487196922302246,
                    8.349051475524902,
                    -6.023645401000977,
                    1.2757536172866821,
                    2.077516794204712,
                    -2.1874501705169678,
                    2.8486318588256836,
                    11.741745948791504,
                    -4.964927673339844,
                    -0.2174527794122696,
                    1.2904942035675049,
                    -3.9192495346069336,
                    -0.8484500646591187,
                    14.161966323852539,
                    0.22690248489379883,
                    -5.96853494644165,
                    -5.287588119506836,
                    -3.7811639308929443,
                    -5.8552117347717285,
                    -0.21683762967586517,
                    -0.6902498006820679,
                    -1.8624948263168335,
                    2.213642120361328,
                    -5.85125207901001,
                    -0.6781109571456909,
                    2.3821215629577637,
                    -0.39122605323791504,
                    -0.5054346323013306,
                    -0.7824990153312683,
                    1.3305655717849731,
                    -3.8078603744506836,
                    -0.9983444213867188,
                    12.17560863494873,
                    -0.9028293490409851,
                    11.57589340209961,
                    4.432906150817871,
                    -0.7044769525527954,
                    -1.1965855360031128,
                    1.573997974395752,
                    -0.8271816968917847,
                    -0.08195284008979797,
                    -1.0520193576812744,
                    -0.2874167263507843,
                    -7.011996269226074,
                    -3.4674901962280273,
                    0.24992750585079193,
                    -4.927130699157715,
                    -0.44272515177726746,
                    -1.0582798719406128,
                    -0.21298770606517792,
                    -0.9119197130203247,
                    -0.638122022151947,
                    0.19721552729606628,
                    -1.1106467247009277,
                    -6.8489909172058105,
                    -5.481913089752197,
                    0.39703911542892456,
                    10.699090957641602,
                    -0.9599117636680603,
                    2.3375189304351807,
                    -0.8542783856391907,
                    -3.845906972885132,
                    -1.0223047733306885,
                    -10.222307205200195,
                    -0.492180734872818,
                    -0.6880026459693909,
                    0.1869928538799286,
                    -1.013656735420227,
                    -0.7788345813751221,
                    -1.0426632165908813,
                    -10.359602928161621,
                    13.972199440002441,
                    -4.556917667388916,
                    -0.1221519485116005,
                    2.7518582344055176,
                    0.6238642930984497,
                    -1.3862638473510742,
                    -5.279314041137695,
                    2.0850110054016113,
                    -1.3916455507278442,
                    -5.272826671600342,
                    -1.3897614479064941,
                    -1.7034944295883179,
                    -4.917563438415527,
                    -1.6618763208389282,
                    -3.1269984245300293,
                    -1.8007783889770508,
                    -5.491330146789551,
                    2.1872758865356445,
                    -5.4919633865356445,
                    -1.87284255027771,
                    -2.0169248580932617,
                    -3.1042490005493164,
                    -5.7268385887146,
                    -5.38585090637207,
                    -9.714959144592285,
                    -5.73160982131958,
                    -2.2900094985961914,
                    -2.2205862998962402,
                    -4.508284568786621,
                    -2.3238797187805176,
                    2.292534828186035,
                    -2.387540817260742,
                    2.377232074737549,
                    -1.9409514665603638,
                    -4.912274360656738
                  ],
                  "hoverlabel": {
                    "namelength": 0
                  },
                  "mode": "markers",
                  "marker": {
                    "color": [
                      0,
                      0,
                      0,
                      0,
                      0,
                      0,
                      0,
                      0,
                      0,
                      0,
                      0,
                      0,
                      0,
                      0,
                      0,
                      0,
                      0,
                      0,
                      0,
                      0,
                      0,
                      0,
                      1,
                      0,
                      0,
                      0,
                      0,
                      0,
                      0,
                      0,
                      0,
                      0,
                      0,
                      0,
                      0,
                      0,
                      0,
                      0,
                      0,
                      0,
                      0,
                      0,
                      0,
                      0,
                      0,
                      0,
                      0,
                      0,
                      0,
                      0,
                      0,
                      0,
                      0,
                      0,
                      0,
                      0,
                      0,
                      0,
                      0,
                      0,
                      0,
                      0,
                      0,
                      0,
                      0,
                      0,
                      0,
                      0,
                      0,
                      0,
                      0,
                      0,
                      0,
                      0,
                      1,
                      0,
                      0,
                      0,
                      0,
                      0,
                      0,
                      0,
                      0,
                      0,
                      1,
                      0,
                      0,
                      0,
                      0,
                      0,
                      0,
                      0,
                      0,
                      0,
                      0,
                      0,
                      0,
                      0,
                      0,
                      0,
                      1,
                      0,
                      0,
                      0,
                      0,
                      0,
                      0,
                      0,
                      0,
                      0,
                      0,
                      0,
                      0,
                      0,
                      0,
                      0,
                      0,
                      0,
                      0,
                      0,
                      0,
                      0,
                      0,
                      0,
                      0,
                      0,
                      0,
                      0,
                      0,
                      0,
                      0,
                      0,
                      0,
                      0,
                      0,
                      0,
                      0,
                      0,
                      0,
                      0,
                      0,
                      0,
                      0,
                      0,
                      0,
                      0,
                      0,
                      0,
                      0,
                      0,
                      0,
                      0,
                      0,
                      0,
                      0,
                      0,
                      0,
                      0,
                      0,
                      0,
                      0,
                      0,
                      0,
                      0,
                      0,
                      0,
                      0,
                      0,
                      0,
                      0,
                      0,
                      0,
                      0,
                      0,
                      0,
                      0,
                      0,
                      0,
                      0,
                      0,
                      0,
                      0,
                      0,
                      0,
                      0,
                      0,
                      0,
                      0,
                      0,
                      0,
                      0,
                      0,
                      0,
                      0,
                      0,
                      0,
                      0,
                      0,
                      0,
                      0,
                      0,
                      0,
                      0,
                      0,
                      0,
                      0,
                      0,
                      0,
                      0,
                      0,
                      0,
                      0,
                      0,
                      0,
                      0,
                      0,
                      0,
                      0,
                      0,
                      0,
                      0,
                      0,
                      0,
                      0,
                      0,
                      0,
                      0,
                      0,
                      0,
                      0,
                      0,
                      0,
                      0,
                      0,
                      0,
                      0,
                      0,
                      0,
                      0,
                      0,
                      0,
                      0,
                      0,
                      0,
                      0,
                      0,
                      0,
                      0,
                      0,
                      0,
                      0,
                      0,
                      0,
                      0,
                      0,
                      0,
                      0,
                      0,
                      0,
                      0,
                      0,
                      0,
                      1,
                      0,
                      0,
                      0,
                      0,
                      0,
                      0,
                      0,
                      0,
                      0,
                      0,
                      0,
                      0,
                      0,
                      0,
                      0,
                      0,
                      0,
                      0,
                      0,
                      0,
                      0,
                      0,
                      0,
                      0,
                      0,
                      0,
                      0,
                      0,
                      0,
                      0,
                      0,
                      0,
                      0,
                      0,
                      0,
                      0,
                      0,
                      0,
                      0,
                      0,
                      0,
                      0,
                      0,
                      0,
                      0,
                      0,
                      0,
                      0,
                      0,
                      0,
                      0,
                      0,
                      0,
                      1,
                      0,
                      0,
                      1,
                      0,
                      0,
                      0,
                      0,
                      0,
                      0,
                      0,
                      0,
                      0,
                      0,
                      0,
                      0,
                      0,
                      0,
                      0,
                      0,
                      0,
                      1,
                      1,
                      0,
                      0,
                      0,
                      0,
                      0,
                      0,
                      0,
                      0,
                      0,
                      0,
                      0,
                      0,
                      0,
                      0,
                      0,
                      0,
                      0,
                      0,
                      0,
                      0,
                      0,
                      0,
                      0,
                      0,
                      0,
                      0,
                      0,
                      0,
                      0,
                      0,
                      0,
                      0,
                      0,
                      0,
                      0,
                      0,
                      0,
                      0,
                      0,
                      0,
                      0,
                      1,
                      0,
                      0,
                      0,
                      1,
                      0,
                      0,
                      0,
                      0,
                      0,
                      0,
                      0,
                      0,
                      0,
                      0,
                      0,
                      0,
                      0,
                      0,
                      0,
                      0,
                      0,
                      0,
                      0,
                      0,
                      1,
                      0,
                      0,
                      0,
                      0,
                      0,
                      0,
                      1,
                      0,
                      0,
                      0,
                      0,
                      0,
                      0,
                      0,
                      0,
                      0,
                      0,
                      0,
                      0,
                      0,
                      0,
                      0,
                      0,
                      0,
                      0,
                      0,
                      0,
                      0,
                      0,
                      0,
                      0,
                      0,
                      0,
                      0,
                      0,
                      0,
                      0,
                      0,
                      0,
                      0,
                      0,
                      0,
                      0,
                      0,
                      0,
                      0,
                      0,
                      0,
                      0,
                      0,
                      0,
                      0,
                      0,
                      0,
                      0,
                      0,
                      0,
                      0,
                      0,
                      0,
                      0,
                      0,
                      0,
                      0,
                      0,
                      0,
                      0,
                      0,
                      0,
                      0,
                      0,
                      0,
                      0,
                      0,
                      0,
                      0,
                      0,
                      0,
                      0,
                      1,
                      0,
                      0,
                      0,
                      1,
                      0,
                      0,
                      0,
                      0,
                      0,
                      0,
                      0,
                      0,
                      0,
                      0,
                      0,
                      0,
                      0,
                      0,
                      0,
                      1,
                      0,
                      0,
                      1,
                      0,
                      0,
                      0,
                      0,
                      0,
                      0,
                      0,
                      0,
                      0,
                      0,
                      0,
                      0,
                      0,
                      0,
                      0,
                      0,
                      0,
                      0,
                      0,
                      0,
                      0,
                      0,
                      0,
                      0,
                      0,
                      0,
                      0,
                      0,
                      0,
                      0,
                      0,
                      0,
                      0,
                      0,
                      0,
                      1,
                      0,
                      0,
                      0,
                      0,
                      0,
                      0,
                      0,
                      1,
                      0,
                      0,
                      0,
                      1,
                      0,
                      0,
                      0,
                      1,
                      0,
                      0,
                      0,
                      0,
                      0,
                      0,
                      0,
                      0,
                      0,
                      0,
                      0,
                      0,
                      0,
                      0,
                      0,
                      0,
                      0,
                      0,
                      0,
                      0,
                      0,
                      0,
                      0,
                      1,
                      0,
                      0,
                      0,
                      0,
                      0,
                      0,
                      0,
                      1,
                      0,
                      0,
                      0,
                      1,
                      0,
                      0,
                      0,
                      0,
                      0,
                      0,
                      0,
                      0,
                      0,
                      0,
                      1,
                      0,
                      0,
                      0,
                      0,
                      0,
                      0,
                      0,
                      0,
                      0,
                      0,
                      0,
                      0,
                      0,
                      0,
                      0,
                      1,
                      0,
                      0,
                      0,
                      0,
                      0,
                      0,
                      1,
                      0,
                      0,
                      1,
                      0,
                      0,
                      0,
                      0,
                      0,
                      1,
                      0,
                      1,
                      0,
                      0,
                      0,
                      0,
                      0,
                      0,
                      0,
                      0,
                      0,
                      0,
                      0,
                      0,
                      0,
                      0,
                      0,
                      0,
                      0,
                      0,
                      0,
                      0,
                      0,
                      0,
                      1,
                      0,
                      0,
                      0,
                      0,
                      0,
                      0,
                      0,
                      0,
                      0,
                      0,
                      0,
                      0,
                      0,
                      0,
                      0,
                      0,
                      0,
                      0,
                      1,
                      0,
                      0,
                      0,
                      0,
                      0,
                      0,
                      0,
                      0,
                      0,
                      0,
                      0,
                      0,
                      0,
                      0,
                      0,
                      0,
                      0,
                      0,
                      0,
                      0,
                      0,
                      0,
                      0,
                      0,
                      0,
                      0,
                      0,
                      0,
                      0,
                      0,
                      0,
                      0,
                      0,
                      0,
                      0,
                      0,
                      0,
                      0,
                      0,
                      0,
                      0,
                      0,
                      0,
                      0,
                      0,
                      0,
                      0,
                      0,
                      0,
                      0,
                      0,
                      0,
                      0,
                      0,
                      0,
                      0,
                      0,
                      1,
                      0,
                      0,
                      0,
                      0,
                      0,
                      0,
                      0,
                      0,
                      0,
                      1,
                      1,
                      0,
                      1,
                      0,
                      0,
                      0,
                      0,
                      0,
                      0,
                      0,
                      0,
                      1,
                      0,
                      0,
                      0,
                      0,
                      0,
                      0,
                      0,
                      0,
                      0,
                      0,
                      0,
                      0,
                      0,
                      1,
                      0,
                      0,
                      0,
                      0,
                      0,
                      0,
                      0,
                      0,
                      0,
                      0,
                      0,
                      0,
                      0,
                      1,
                      1,
                      0,
                      0,
                      0,
                      0,
                      0,
                      0,
                      0,
                      0,
                      0,
                      0,
                      0,
                      0,
                      0,
                      0,
                      0,
                      0,
                      0,
                      0,
                      0,
                      0,
                      0,
                      0,
                      0,
                      0,
                      0,
                      0,
                      0,
                      0,
                      0,
                      0,
                      0,
                      0,
                      0,
                      0,
                      0,
                      1,
                      0,
                      0,
                      1,
                      0,
                      0,
                      0,
                      0,
                      0,
                      0,
                      0,
                      0,
                      0,
                      0,
                      0,
                      0,
                      1,
                      0,
                      0,
                      0,
                      0,
                      0,
                      0,
                      0,
                      0,
                      0,
                      1,
                      0,
                      0,
                      0,
                      0,
                      0,
                      0,
                      0,
                      0,
                      0,
                      0,
                      0,
                      0,
                      0,
                      1,
                      0,
                      0,
                      0,
                      0,
                      0,
                      0,
                      0,
                      0,
                      0,
                      0,
                      0,
                      0,
                      0,
                      0,
                      0,
                      0,
                      0,
                      0,
                      0,
                      0,
                      0,
                      0,
                      0,
                      0,
                      0,
                      0,
                      0,
                      0,
                      0,
                      0,
                      0,
                      0,
                      1,
                      0,
                      0,
                      0,
                      0,
                      0,
                      1,
                      0,
                      0,
                      0,
                      0,
                      0,
                      0,
                      0,
                      0,
                      0,
                      0,
                      0,
                      0,
                      0,
                      0,
                      0,
                      0,
                      0,
                      0,
                      1,
                      0,
                      1,
                      0,
                      0,
                      0,
                      0,
                      0,
                      0,
                      0,
                      0,
                      0,
                      0,
                      0,
                      0,
                      0,
                      0,
                      0,
                      0,
                      0,
                      0,
                      0,
                      0,
                      0,
                      0,
                      0,
                      0,
                      0,
                      0,
                      0,
                      0,
                      0,
                      0,
                      0,
                      0,
                      0,
                      0,
                      0,
                      0,
                      1,
                      0,
                      0,
                      0,
                      0,
                      0,
                      0,
                      0,
                      0,
                      0,
                      0,
                      0,
                      0,
                      0,
                      0,
                      0,
                      0,
                      0,
                      0,
                      0,
                      0,
                      0,
                      0,
                      0,
                      0,
                      0,
                      0,
                      0,
                      0,
                      0,
                      0,
                      0,
                      0,
                      0,
                      0
                    ],
                    "opacity": 0.7,
                    "symbol": "circle",
                    "coloraxis": "coloraxis"
                  },
                  "x": [
                    7.550800323486328,
                    -2.484679698944092,
                    -1.510237455368042,
                    13.183670043945312,
                    -2.528773784637451,
                    -0.5556994080543518,
                    6.28996467590332,
                    6.622552394866943,
                    -0.7824262976646423,
                    12.71983528137207,
                    4.025535583496094,
                    4.528707504272461,
                    -1.9770594835281372,
                    6.7591233253479,
                    5.8625874519348145,
                    0.5358896255493164,
                    -6.119266986846924,
                    -3.042736768722534,
                    -1.582192301750183,
                    0.507268488407135,
                    1.3174376487731934,
                    5.326204299926758,
                    1.6077384948730469,
                    -2.768759250640869,
                    3.615485191345215,
                    10.490365028381348,
                    12.865010261535645,
                    5.167439937591553,
                    1.7847695350646973,
                    6.786933898925781,
                    7.14811897277832,
                    0.13319166004657745,
                    1.802866816520691,
                    1.9315686225891113,
                    12.548384666442871,
                    3.0911428928375244,
                    -1.5828818082809448,
                    7.09445858001709,
                    -18.672815322875977,
                    6.44061803817749,
                    -7.225373268127441,
                    2.2562155723571777,
                    6.894017219543457,
                    4.30204439163208,
                    2.624347686767578,
                    11.265417098999023,
                    6.362760066986084,
                    -1.9552128314971924,
                    5.62651252746582,
                    6.207337379455566,
                    3.364654779434204,
                    1.8031336069107056,
                    1.1345809698104858,
                    12.927206993103027,
                    12.96603012084961,
                    -2.255155563354492,
                    -2.711195468902588,
                    -1.1759910583496094,
                    11.722821235656738,
                    3.011080265045166,
                    -4.156511306762695,
                    6.29094934463501,
                    12.786554336547852,
                    12.846019744873047,
                    -1.4282469749450684,
                    12.096461296081543,
                    -3.38865327835083,
                    -2.0453779697418213,
                    8.083297729492188,
                    -16.731388092041016,
                    0.7205826044082642,
                    -3.3837573528289795,
                    6.017357349395752,
                    -2.7647807598114014,
                    7.408782005310059,
                    -1.7920364141464233,
                    12.7225980758667,
                    -1.380117654800415,
                    9.350433349609375,
                    -2.066638469696045,
                    0.4700177013874054,
                    12.067970275878906,
                    10.112863540649414,
                    8.993800163269043,
                    7.525539875030518,
                    10.508166313171387,
                    5.342947959899902,
                    -3.54341983795166,
                    12.817310333251953,
                    11.934206008911133,
                    10.450421333312988,
                    8.231420516967773,
                    -143.7728729248047,
                    -18.53611183166504,
                    -1.6674385070800781,
                    -3.2733426094055176,
                    9.59520435333252,
                    -3.2415084838867188,
                    -0.6947798132896423,
                    -14.63286018371582,
                    5.357361793518066,
                    -4.004846096038818,
                    -2.3952178955078125,
                    12.676576614379883,
                    -5.005136013031006,
                    3.980931043624878,
                    6.204631805419922,
                    2.3690850734710693,
                    -13.657916069030762,
                    -3.3203225135803223,
                    -3.986490488052368,
                    5.478531360626221,
                    9.82509994506836,
                    10.278579711914062,
                    3.971980571746826,
                    4.749587535858154,
                    3.5198748111724854,
                    2.725386142730713,
                    10.245501518249512,
                    -19.08089828491211,
                    2.5919010639190674,
                    -5.820500373840332,
                    2.2555782794952393,
                    -1.055168628692627,
                    6.305840015411377,
                    -5.185098171234131,
                    4.538323402404785,
                    -3.4055817127227783,
                    -2.696547508239746,
                    1.212554693222046,
                    6.661242961883545,
                    12.390914916992188,
                    1.4369819164276123,
                    8.522615432739258,
                    1.2363239526748657,
                    -4.322659969329834,
                    -3.5841400623321533,
                    -3.821422576904297,
                    -2.4005777835845947,
                    1.751828670501709,
                    2.814242362976074,
                    -15.165409088134766,
                    10.092171669006348,
                    -3.822916030883789,
                    -13.963982582092285,
                    -14.667154312133789,
                    10.074350357055664,
                    4.4852728843688965,
                    0.4658445119857788,
                    6.24741268157959,
                    6.07455587387085,
                    5.897801876068115,
                    9.389582633972168,
                    7.904098987579346,
                    8.424674034118652,
                    -1.6898090839385986,
                    -17.456714630126953,
                    7.725525856018066,
                    2.5748183727264404,
                    11.39406681060791,
                    1.0929312705993652,
                    2.021303653717041,
                    10.088866233825684,
                    11.459847450256348,
                    7.159859657287598,
                    -3.9726719856262207,
                    5.1349358558654785,
                    0.44767671823501587,
                    9.404990196228027,
                    -1.1219817399978638,
                    3.913912534713745,
                    -3.347348690032959,
                    -1.0649701356887817,
                    -15.070371627807617,
                    1.7977596521377563,
                    12.052773475646973,
                    8.842692375183105,
                    7.364498615264893,
                    7.882256507873535,
                    9.309542655944824,
                    -3.114093780517578,
                    10.574426651000977,
                    9.290982246398926,
                    -1.6905015707015991,
                    -1.0455518960952759,
                    -1.86018967628479,
                    -3.6632463932037354,
                    10.915380477905273,
                    -18.90379524230957,
                    6.893239498138428,
                    -4.518949031829834,
                    7.3254570960998535,
                    6.37904691696167,
                    -3.1452748775482178,
                    4.198518753051758,
                    11.253684997558594,
                    4.332569599151611,
                    -16.63751220703125,
                    -4.050203323364258,
                    -5.244161605834961,
                    5.751123905181885,
                    3.9667105674743652,
                    -2.76537823677063,
                    11.798091888427734,
                    6.625755786895752,
                    -4.452465534210205,
                    -1.6960121393203735,
                    -1.5541300773620605,
                    -3.052971363067627,
                    -8.5100679397583,
                    8.573285102844238,
                    1.466891884803772,
                    -4.185122966766357,
                    -1.4751423597335815,
                    -3.265136957168579,
                    1.1339399814605713,
                    2.088391065597534,
                    8.028776168823242,
                    5.425644874572754,
                    2.055948257446289,
                    7.6702961921691895,
                    5.588191032409668,
                    -1.5625560283660889,
                    -4.2366228103637695,
                    9.631810188293457,
                    1.4901502132415771,
                    -1.6517670154571533,
                    4.034665584564209,
                    -0.998491108417511,
                    11.560131072998047,
                    -2.1997389793395996,
                    -3.281756639480591,
                    7.8333234786987305,
                    -3.3730359077453613,
                    9.865001678466797,
                    6.89445161819458,
                    -17.50899314880371,
                    7.390762805938721,
                    10.853581428527832,
                    2.5452425479888916,
                    6.268505096435547,
                    -2.6675045490264893,
                    -4.55365514755249,
                    4.2705078125,
                    1.1068331003189087,
                    5.878854274749756,
                    10.901718139648438,
                    9.124653816223145,
                    1.2759498357772827,
                    5.475517749786377,
                    -0.9305758476257324,
                    1.915746808052063,
                    -6.326645851135254,
                    -3.6232047080993652,
                    10.97923469543457,
                    1.3151767253875732,
                    1.2614073753356934,
                    11.823213577270508,
                    -7.88784646987915,
                    -8.471135139465332,
                    2.6634156703948975,
                    1.694893717765808,
                    8.419119834899902,
                    8.317007064819336,
                    -4.733122825622559,
                    -18.168031692504883,
                    4.784770965576172,
                    5.270947456359863,
                    5.517590045928955,
                    -3.2568418979644775,
                    -17.910327911376953,
                    -15.75079345703125,
                    2.9919111728668213,
                    -2.4885802268981934,
                    1.7509832382202148,
                    -1.0228915214538574,
                    2.2771241664886475,
                    -4.102126121520996,
                    -3.318331718444824,
                    1.5518529415130615,
                    -2.8774073123931885,
                    -16.676450729370117,
                    -4.675734519958496,
                    -3.083977222442627,
                    5.642720699310303,
                    2.2196693420410156,
                    -1.2032371759414673,
                    -1.1794373989105225,
                    5.559519290924072,
                    8.19201374053955,
                    7.15138578414917,
                    -4.7276763916015625,
                    -0.0530557706952095,
                    10.217016220092773,
                    -5.01483154296875,
                    -2.140918493270874,
                    1.3116052150726318,
                    -4.895553112030029,
                    10.617951393127441,
                    8.689315795898438,
                    -4.978115081787109,
                    -7.760745048522949,
                    -5.008734226226807,
                    3.0839614868164062,
                    -0.28837019205093384,
                    -5.045373916625977,
                    4.990045547485352,
                    4.92138671875,
                    -3.378246545791626,
                    -5.062546730041504,
                    -1.2793830633163452,
                    -15.697829246520996,
                    1.4897851943969727,
                    -4.903631687164307,
                    9.830702781677246,
                    8.688078880310059,
                    8.002939224243164,
                    3.2210476398468018,
                    6.7651047706604,
                    -14.279226303100586,
                    -1.3411980867385864,
                    0.7897402048110962,
                    4.032675743103027,
                    8.718607902526855,
                    2.1769180297851562,
                    9.09245491027832,
                    0.730815052986145,
                    -0.7952684760093689,
                    4.288980960845947,
                    -5.089247703552246,
                    4.688801288604736,
                    8.022472381591797,
                    -16.051734924316406,
                    -4.636270046234131,
                    -5.54490327835083,
                    -14.471882820129395,
                    -13.999842643737793,
                    8.719818115234375,
                    -12.633764266967773,
                    6.633231163024902,
                    9.904128074645996,
                    -5.337558269500732,
                    -3.1427700519561768,
                    9.852896690368652,
                    -5.222383975982666,
                    0.7292497754096985,
                    1.5582786798477173,
                    4.843353748321533,
                    2.027848482131958,
                    -5.0854644775390625,
                    -5.12751579284668,
                    6.595878601074219,
                    -4.188607692718506,
                    -1.9880852699279785,
                    -5.193410873413086,
                    -16.286205291748047,
                    0.21205322444438934,
                    7.785113334655762,
                    4.216184616088867,
                    1.54280424118042,
                    -5.392322063446045,
                    -14.042540550231934,
                    1.8205134868621826,
                    0.629734218120575,
                    2.5352466106414795,
                    8.470179557800293,
                    -19.002870559692383,
                    -14.31788444519043,
                    7.070108413696289,
                    -5.079219818115234,
                    1.0050009489059448,
                    -5.225231170654297,
                    -1.5497452020645142,
                    -1.9486089944839478,
                    -17.08350944519043,
                    8.301501274108887,
                    -15.613605499267578,
                    -1.124355673789978,
                    1.978752613067627,
                    -0.47406911849975586,
                    6.59053373336792,
                    9.806900024414062,
                    -5.250118732452393,
                    10.074074745178223,
                    8.662338256835938,
                    -5.098815441131592,
                    -6.4138360023498535,
                    -2.648174285888672,
                    8.228757858276367,
                    -17.107765197753906,
                    -3.2070374488830566,
                    7.817560195922852,
                    -0.8391152620315552,
                    -5.215190887451172,
                    9.41508960723877,
                    -5.2982659339904785,
                    -2.4376819133758545,
                    -2.007215976715088,
                    4.4752516746521,
                    -5.193604946136475,
                    -4.734503746032715,
                    3.0953989028930664,
                    -1.168407678604126,
                    -1.5963187217712402,
                    -1.9125908613204956,
                    8.27725601196289,
                    0.2719023823738098,
                    -2.6189141273498535,
                    -4.750988483428955,
                    9.132152557373047,
                    4.942406177520752,
                    -6.012755393981934,
                    8.146310806274414,
                    -1.5899754762649536,
                    4.216864585876465,
                    -1.626937747001648,
                    -0.9475115537643433,
                    -4.802998065948486,
                    -5.920104026794434,
                    1.5918534994125366,
                    -4.787802219390869,
                    8.991599082946777,
                    7.361259460449219,
                    1.6945505142211914,
                    -5.838567733764648,
                    -0.6987740993499756,
                    7.814404010772705,
                    7.633455276489258,
                    6.961225986480713,
                    6.570774555206299,
                    -5.061067581176758,
                    6.90406608581543,
                    4.059161186218262,
                    -15.886431694030762,
                    -1.9445856809616089,
                    -5.570992946624756,
                    6.884597301483154,
                    -4.323260307312012,
                    3.9920594692230225,
                    -6.369105815887451,
                    1.523874282836914,
                    6.646662712097168,
                    -6.512722969055176,
                    -6.370006084442139,
                    2.2899391651153564,
                    8.402504920959473,
                    -14.17529582977295,
                    3.437979221343994,
                    -1.3203238248825073,
                    -3.1093454360961914,
                    -3.2148239612579346,
                    -2.5139920711517334,
                    -5.124752044677734,
                    -1.8059173822402954,
                    2.327420234680176,
                    -1.573164939880371,
                    -4.978736877441406,
                    -2.281019926071167,
                    -2.814870834350586,
                    -3.232980251312256,
                    6.234558582305908,
                    -17.327280044555664,
                    -4.439971923828125,
                    -4.5009965896606445,
                    -5.184650897979736,
                    3.726288318634033,
                    -16.550291061401367,
                    -4.902234077453613,
                    -5.128104209899902,
                    -19.244064331054688,
                    2.1082093715667725,
                    8.961084365844727,
                    4.5693359375,
                    8.502299308776855,
                    -5.277711391448975,
                    6.501367568969727,
                    7.158468246459961,
                    -4.989861965179443,
                    2.3260107040405273,
                    3.9805073738098145,
                    1.793413758277893,
                    7.4151930809021,
                    -5.666318416595459,
                    -5.082678318023682,
                    2.2653555870056152,
                    5.690420627593994,
                    -5.100215911865234,
                    3.6297104358673096,
                    6.00789737701416,
                    7.723917484283447,
                    -4.622162818908691,
                    5.181689262390137,
                    -2.846327781677246,
                    7.853822231292725,
                    6.252297401428223,
                    -1.0212527513504028,
                    8.29551887512207,
                    3.701709508895874,
                    -1.9345687627792358,
                    4.672369956970215,
                    6.602829456329346,
                    -4.424821376800537,
                    -5.0731658935546875,
                    1.186156988143921,
                    -1.7179127931594849,
                    5.521738529205322,
                    -2.3200600147247314,
                    9.08039379119873,
                    8.321554183959961,
                    -6.751344680786133,
                    -2.6410577297210693,
                    3.75105881690979,
                    4.6889967918396,
                    -4.677508354187012,
                    -16.382543563842773,
                    -15.91411018371582,
                    6.190413951873779,
                    5.4635138511657715,
                    7.191797256469727,
                    0.455030232667923,
                    -13.70398998260498,
                    -18.968414306640625,
                    9.115701675415039,
                    -18.224132537841797,
                    0.17757049202919006,
                    -4.937527179718018,
                    -1.4477578401565552,
                    2.3537650108337402,
                    0.27226880192756653,
                    -18.777130126953125,
                    6.920587062835693,
                    -15.679506301879883,
                    -16.841022491455078,
                    1.1018452644348145,
                    7.118000030517578,
                    7.194119453430176,
                    3.339838743209839,
                    7.113973617553711,
                    -1.6673784255981445,
                    -1.941367506980896,
                    7.1057024002075195,
                    1.1669316291809082,
                    -1.8817559480667114,
                    1.2207906246185303,
                    -13.1925048828125,
                    -4.839835166931152,
                    7.42102575302124,
                    4.2919793128967285,
                    -0.6866441369056702,
                    0.3191508948802948,
                    -5.080809116363525,
                    4.160911560058594,
                    1.1508231163024902,
                    3.092545747756958,
                    3.2489161491394043,
                    1.061885952949524,
                    8.62867546081543,
                    7.824038982391357,
                    -16.130741119384766,
                    3.1582956314086914,
                    7.860523700714111,
                    6.410579681396484,
                    7.010493278503418,
                    -17.515512466430664,
                    -4.821714401245117,
                    6.783260345458984,
                    -2.5817556381225586,
                    -2.3920936584472656,
                    7.650415420532227,
                    -0.055087119340896606,
                    1.469136118888855,
                    -7.232222557067871,
                    -4.430819988250732,
                    7.654696464538574,
                    7.6238694190979,
                    6.780551910400391,
                    -18.521665573120117,
                    4.291765213012695,
                    -4.137541770935059,
                    -6.5687336921691895,
                    7.65806770324707,
                    -4.789363861083984,
                    -17.027271270751953,
                    6.687519550323486,
                    8.32981014251709,
                    -15.843886375427246,
                    -1.4734808206558228,
                    -2.384082317352295,
                    7.028179168701172,
                    -1.6819180250167847,
                    -16.335689544677734,
                    0.5916916131973267,
                    8.708255767822266,
                    6.114227294921875,
                    0.5506760478019714,
                    0.8215048313140869,
                    -9.181527137756348,
                    6.088651180267334,
                    3.2143852710723877,
                    5.3534016609191895,
                    3.269534111022949,
                    -2.362152338027954,
                    -19.616769790649414,
                    -16.553974151611328,
                    5.619935035705566,
                    -19.418527603149414,
                    0.8951786160469055,
                    8.693208694458008,
                    -18.972373962402344,
                    -4.608293056488037,
                    -19.281368255615234,
                    0.7256032228469849,
                    3.763519525527954,
                    5.016142845153809,
                    -4.1303606033325195,
                    -3.981139659881592,
                    1.1773618459701538,
                    3.5840060710906982,
                    -7.857305526733398,
                    3.9831740856170654,
                    -5.881153106689453,
                    -0.6414845585823059,
                    1.4484893083572388,
                    8.24537181854248,
                    4.544239044189453,
                    -4.886030673980713,
                    0.3190176486968994,
                    5.711137294769287,
                    -4.570573329925537,
                    -0.503348708152771,
                    -9.275219917297363,
                    -3.8422603607177734,
                    -0.04156585410237312,
                    1.6202422380447388,
                    -3.674914836883545,
                    -15.989933967590332,
                    -4.809749603271484,
                    -8.773752212524414,
                    -7.291347980499268,
                    7.891139507293701,
                    -4.729157447814941,
                    -9.45108413696289,
                    2.811314821243286,
                    -19.56361961364746,
                    -4.038715362548828,
                    0.5704948306083679,
                    -1.8924747705459595,
                    6.358554363250732,
                    -18.940176010131836,
                    -2.615100622177124,
                    -4.496625900268555,
                    5.6444854736328125,
                    -2.71567964553833,
                    5.5710673332214355,
                    4.895341873168945,
                    -1.4636332988739014,
                    -1.8748595714569092,
                    0.8768655061721802,
                    -3.9756879806518555,
                    -0.3292614817619324,
                    -4.1303391456604,
                    -2.2280914783477783,
                    -1.7393341064453125,
                    4.714025497436523,
                    6.7720160484313965,
                    -1.8876783847808838,
                    -4.2947611808776855,
                    5.949338912963867,
                    5.895697593688965,
                    -1.9948139190673828,
                    2.2308084964752197,
                    5.969977855682373,
                    6.3080153465271,
                    0.05142580717802048,
                    0.5181043744087219,
                    -0.6750651001930237,
                    2.279836893081665,
                    -1.9037582874298096,
                    0.6195145845413208,
                    -4.090919017791748,
                    -4.33659029006958,
                    3.022336721420288,
                    5.865434646606445,
                    -9.664604187011719,
                    5.8959503173828125,
                    2.6027278900146484,
                    6.951608657836914,
                    1.9106011390686035,
                    5.718214511871338,
                    -5.311438083648682,
                    -0.0454564206302166,
                    4.527299880981445,
                    -6.318726062774658,
                    5.281850337982178,
                    -16.5872802734375,
                    1.434116244316101,
                    -5.786983013153076,
                    1.2983691692352295,
                    -15.889031410217285,
                    4.154051780700684,
                    -1.9031623601913452,
                    4.832339763641357,
                    3.182925224304199,
                    1.484862208366394,
                    -3.819117784500122,
                    -0.522281289100647,
                    -3.9652011394500732,
                    3.6903820037841797,
                    1.9306188821792603,
                    -4.074100971221924,
                    3.005502939224243,
                    -4.327980995178223,
                    -18.094268798828125,
                    2.0209484100341797,
                    -0.20571178197860718,
                    -1.6265541315078735,
                    1.7660866975784302,
                    1.4293221235275269,
                    -3.925463914871216,
                    -1.2981816530227661,
                    -3.6032910346984863,
                    3.947845935821533,
                    1.9579148292541504,
                    -4.223727226257324,
                    -16.830928802490234,
                    3.172786235809326,
                    -5.278724193572998,
                    -1.2531695365905762,
                    0.18789198994636536,
                    4.249167442321777,
                    7.056028842926025,
                    -3.520251989364624,
                    -19.039907455444336,
                    -5.545807838439941,
                    -4.2296223640441895,
                    4.625329494476318,
                    3.8563380241394043,
                    -3.815279245376587,
                    4.59611701965332,
                    -4.330509185791016,
                    -4.408303260803223,
                    -12.427690505981445,
                    3.8754000663757324,
                    -18.981807708740234,
                    1.6040024757385254,
                    2.8153979778289795,
                    3.661025047302246,
                    6.146703243255615,
                    -5.472632884979248,
                    5.170043468475342,
                    -6.994247913360596,
                    -12.09740924835205,
                    -9.032809257507324,
                    -3.6565794944763184,
                    -12.220088958740234,
                    1.4927574396133423,
                    -0.9768579602241516,
                    -0.05220523104071617,
                    -1.5745049715042114,
                    -4.2056450843811035,
                    -1.4971617460250854,
                    4.940371990203857,
                    1.5035008192062378,
                    10.887185096740723,
                    4.542150974273682,
                    -3.4178833961486816,
                    3.874586582183838,
                    4.546292304992676,
                    -8.12475299835205,
                    7.287585735321045,
                    3.5890541076660156,
                    -2.250248670578003,
                    -2.58223295211792,
                    0.004183465149253607,
                    -16.09426498413086,
                    -2.8361330032348633,
                    -0.04516434669494629,
                    8.536602973937988,
                    1.0643280744552612,
                    -19.195114135742188,
                    -18.020334243774414,
                    -18.009437561035156,
                    -0.3802799880504608,
                    3.8474977016448975,
                    3.746553659439087,
                    -1.044458270072937,
                    -2.822636842727661,
                    -0.11965557932853699,
                    -4.603255271911621,
                    2.85221791267395,
                    -2.152888774871826,
                    7.4850897789001465,
                    8.104361534118652,
                    3.107468843460083,
                    -3.989797592163086,
                    0.3020966351032257,
                    -0.37016260623931885,
                    1.10645592212677,
                    4.351438522338867,
                    -4.1061787605285645,
                    7.620389938354492,
                    -4.043134689331055,
                    -0.45375555753707886,
                    -4.801202774047852,
                    6.206282138824463,
                    0.8314828872680664,
                    2.8117573261260986,
                    -4.134329319000244,
                    3.317826271057129,
                    3.9943737983703613,
                    -2.835059642791748,
                    -4.273041248321533,
                    -4.183296203613281,
                    -2.6785361766815186,
                    3.1253881454467773,
                    4.767911434173584,
                    0.21539843082427979,
                    0.803417980670929,
                    -4.095055103302002,
                    4.635400295257568,
                    -3.424250841140747,
                    -15.340845108032227,
                    -4.204860210418701,
                    -3.133517026901245,
                    4.388376235961914,
                    4.663193702697754,
                    -4.1675615310668945,
                    -3.2284393310546875,
                    8.24465560913086,
                    -18.69772720336914,
                    -0.08290459960699081,
                    -12.607325553894043,
                    0.9673159122467041,
                    -1.9568324089050293,
                    -17.882461547851562,
                    2.695993661880493,
                    -3.2213056087493896,
                    1.1420162916183472,
                    1.9076471328735352,
                    0.5489966869354248,
                    -3.2769179344177246,
                    2.177156925201416,
                    1.8698502779006958,
                    -1.8315752744674683,
                    8.113543510437012,
                    -4.318899154663086,
                    -2.6444599628448486,
                    -16.53318214416504,
                    4.8095197677612305,
                    -8.08717155456543,
                    -4.063342571258545,
                    2.067744016647339,
                    2.963127374649048,
                    -6.023439884185791,
                    8.464015007019043,
                    -0.5121692419052124,
                    2.3036952018737793,
                    -6.0780930519104,
                    2.171126365661621,
                    -4.084474086761475,
                    2.1208770275115967,
                    -3.412224531173706,
                    -4.571813583374023,
                    0.6748479604721069,
                    -1.0137243270874023,
                    -3.308387517929077,
                    -2.8547232151031494,
                    -3.4628090858459473,
                    6.804442882537842,
                    -1.1446088552474976,
                    -0.7726442813873291,
                    -3.1668572425842285,
                    3.2213809490203857,
                    -1.6139769554138184,
                    -4.049097061157227,
                    -0.688312828540802,
                    1.9724994897842407,
                    2.18660306930542,
                    -1.9463862180709839,
                    2.4652743339538574,
                    -2.2384655475616455,
                    1.9460759162902832,
                    -1.6807349920272827,
                    2.0309276580810547,
                    2.3373467922210693,
                    3.275942325592041,
                    0.7485319972038269,
                    7.308184623718262,
                    -3.647757053375244,
                    1.4750478267669678,
                    -3.611762285232544,
                    -4.697599411010742,
                    -4.397440433502197,
                    0.7231545448303223,
                    -4.045521259307861,
                    5.65217399597168,
                    1.8164379596710205,
                    -3.648172378540039,
                    -4.492375373840332,
                    -0.9707978367805481,
                    1.3809788227081299,
                    7.640786647796631,
                    0.9331905841827393,
                    -1.286882996559143,
                    -3.700014114379883,
                    0.02900993824005127,
                    -1.6265289783477783,
                    1.7333956956863403,
                    -2.9240736961364746,
                    1.7007170915603638,
                    1.1408977508544922,
                    -0.09337390214204788,
                    1.5993051528930664,
                    -1.0717779397964478,
                    -1.7237422466278076,
                    -1.3105026483535767,
                    -4.661623954772949,
                    1.5706149339675903,
                    -1.352362871170044,
                    -4.828917503356934,
                    -1.4595420360565186,
                    -0.9805127382278442,
                    -1.262393832206726,
                    -3.8251075744628906,
                    -0.23986105620861053,
                    -1.4882854223251343,
                    7.960766315460205,
                    -1.9638781547546387,
                    7.705005645751953,
                    3.2353675365448,
                    -0.6355811953544617,
                    -1.320878028869629,
                    -4.070390224456787,
                    -1.2795732021331787,
                    -0.9517011642456055,
                    -1.9755361080169678,
                    -1.8539942502975464,
                    2.089951276779175,
                    -18.10820770263672,
                    -0.5921979546546936,
                    -3.37060546875,
                    -2.0127792358398438,
                    -2.034733295440674,
                    -1.1505441665649414,
                    -1.4759970903396606,
                    -1.7711998224258423,
                    -2.358555555343628,
                    -1.7902512550354004,
                    2.033679246902466,
                    -0.8721988201141357,
                    -3.3823885917663574,
                    7.208873748779297,
                    -1.9328597784042358,
                    -4.844327926635742,
                    -1.2933709621429443,
                    -0.38086003065109253,
                    -2.0097463130950928,
                    -7.71140718460083,
                    -1.8645892143249512,
                    -1.1682974100112915,
                    -3.191105604171753,
                    -1.766930341720581,
                    -2.3779544830322266,
                    -1.547922968864441,
                    -8.296746253967285,
                    1.9418730735778809,
                    0.5422702431678772,
                    -1.7074536085128784,
                    2.196063995361328,
                    -15.454440116882324,
                    -1.4735112190246582,
                    0.9663640856742859,
                    -4.711826324462891,
                    -2.960423231124878,
                    0.9375397562980652,
                    -1.445656657218933,
                    -1.7782201766967773,
                    -3.362917900085449,
                    -1.4901647567749023,
                    -0.7265004515647888,
                    -1.7899913787841797,
                    -0.8384519219398499,
                    -4.842001438140869,
                    -0.8380443453788757,
                    -1.4824031591415405,
                    -1.9046359062194824,
                    -0.7528077363967896,
                    0.3110022246837616,
                    0.9165295958518982,
                    -6.973172664642334,
                    0.1305619329214096,
                    -1.7035273313522339,
                    -1.4514247179031372,
                    0.5638737082481384,
                    -1.6556568145751953,
                    -4.967101097106934,
                    -1.725447177886963,
                    -5.0362091064453125,
                    -1.5915037393569946,
                    -3.357374429702759
                  ],
                  "z": [
                    9.537643432617188,
                    9.612641334533691,
                    9.93395709991455,
                    7.210457801818848,
                    0.8099328875541687,
                    10.14404582977295,
                    9.930024147033691,
                    9.8737154006958,
                    0.626426637172699,
                    6.846534252166748,
                    -4.503550052642822,
                    -5.524913311004639,
                    9.75394058227539,
                    9.786179542541504,
                    9.981328964233398,
                    10.419400215148926,
                    0.7669438719749451,
                    0.852292001247406,
                    9.862690925598145,
                    10.448812484741211,
                    10.382641792297363,
                    10.114376068115234,
                    0.27164915204048157,
                    9.397757530212402,
                    10.268662452697754,
                    8.288514137268066,
                    6.490001201629639,
                    9.985328674316406,
                    10.359197616577148,
                    9.60709285736084,
                    9.459249496459961,
                    10.264991760253906,
                    7.864991664886475,
                    10.319426536560059,
                    6.612726211547852,
                    10.26440143585205,
                    9.812322616577148,
                    9.421507835388184,
                    -1.6763893365859985,
                    9.586878776550293,
                    1.6690926551818848,
                    11.15393352508545,
                    9.402162551879883,
                    10.048253059387207,
                    10.2525634765625,
                    7.286016464233398,
                    9.535276412963867,
                    9.612204551696777,
                    -6.462992191314697,
                    -6.9250407218933105,
                    10.167069435119629,
                    7.863799571990967,
                    10.283671379089355,
                    6.252620697021484,
                    5.964017391204834,
                    9.374626159667969,
                    8.73602294921875,
                    0.9099922776222229,
                    6.898848056793213,
                    10.129931449890137,
                    9.582655906677246,
                    9.31147575378418,
                    5.95668888092041,
                    6.220583438873291,
                    8.323562622070312,
                    6.332359313964844,
                    0.8754953742027283,
                    8.086812019348145,
                    8.539323806762695,
                    -3.0560739040374756,
                    0.36898308992385864,
                    8.773563385009766,
                    -6.76651668548584,
                    8.718465805053711,
                    -7.919625759124756,
                    9.592073440551758,
                    5.831097602844238,
                    8.29163646697998,
                    7.962699890136719,
                    9.413544654846191,
                    10.07463550567627,
                    6.323434352874756,
                    8.287027359008789,
                    7.844478607177734,
                    -8.212278366088867,
                    7.134254455566406,
                    9.272743225097656,
                    8.585864067077637,
                    6.011059761047363,
                    6.141900062561035,
                    7.085302829742432,
                    8.094415664672852,
                    71.24775695800781,
                    -1.6713224649429321,
                    9.46261215209961,
                    8.725509643554688,
                    7.459284782409668,
                    8.70818042755127,
                    9.800514221191406,
                    -3.952857255935669,
                    -5.522609233856201,
                    0.705009937286377,
                    9.15230941772461,
                    5.5204243659973145,
                    1.1180164813995361,
                    -4.562660217285156,
                    8.678827285766602,
                    9.869086265563965,
                    -4.404716968536377,
                    8.62367057800293,
                    8.776877403259277,
                    -6.385230541229248,
                    7.196016788482666,
                    6.884864330291748,
                    -4.524004936218262,
                    9.099661827087402,
                    9.528191566467285,
                    10.078537940979004,
                    6.847382545471191,
                    -1.5366648435592651,
                    9.700783729553223,
                    0.7283262014389038,
                    9.73332405090332,
                    9.831063270568848,
                    8.2703275680542,
                    0.7383107542991638,
                    9.101168632507324,
                    8.46114444732666,
                    8.85267448425293,
                    9.742624282836914,
                    7.441315174102783,
                    5.239108562469482,
                    9.717863082885742,
                    5.607608318328857,
                    9.68897819519043,
                    9.648558616638184,
                    8.319955825805664,
                    8.196596145629883,
                    0.9447280764579773,
                    9.653382301330566,
                    9.844484329223633,
                    -3.676509380340576,
                    6.629800319671631,
                    8.134954452514648,
                    -4.283905982971191,
                    -3.931582450866699,
                    6.600340843200684,
                    9.012864112854004,
                    0.4165308177471161,
                    8.058342933654785,
                    8.088935852050781,
                    8.1856689453125,
                    8.69890308380127,
                    7.389669418334961,
                    7.136301040649414,
                    8.907075881958008,
                    -2.1532435417175293,
                    7.352713108062744,
                    9.25524616241455,
                    5.283176898956299,
                    9.475687026977539,
                    9.374110221862793,
                    8.109295845031738,
                    5.086155891418457,
                    7.287746906280518,
                    7.904170989990234,
                    8.395463943481445,
                    0.38791802525520325,
                    8.689276695251465,
                    9.64793586730957,
                    8.930865287780762,
                    8.24009895324707,
                    8.765365600585938,
                    -3.715346336364746,
                    9.529709815979004,
                    4.7559661865234375,
                    6.5435404777526855,
                    -101.29925537109375,
                    6.715073108673096,
                    6.205617904663086,
                    8.274669647216797,
                    5.356746196746826,
                    6.171688079833984,
                    0.8726366758346558,
                    9.493236541748047,
                    8.52828598022461,
                    7.904717445373535,
                    4.993549346923828,
                    -1.7344294786453247,
                    -7.709972858428955,
                    1.1889138221740723,
                    6.787806510925293,
                    -7.201780796051025,
                    8.156850814819336,
                    8.75844669342041,
                    4.694798946380615,
                    -5.243528366088867,
                    -3.199090003967285,
                    0.6119750738143921,
                    1.067649483680725,
                    7.4304327964782715,
                    8.422277450561523,
                    8.199810028076172,
                    4.35434103012085,
                    6.916637420654297,
                    7.230523586273193,
                    8.353973388671875,
                    0.6306739449501038,
                    8.277999877929688,
                    1.6751455068588257,
                    5.4986395835876465,
                    0.288492351770401,
                    7.330182075500488,
                    8.307416915893555,
                    8.345282554626465,
                    8.573026657104492,
                    8.435924530029297,
                    6.1827802658081055,
                    7.376185417175293,
                    8.49551773071289,
                    6.339463233947754,
                    7.154625415802002,
                    8.306751251220703,
                    7.222387790679932,
                    5.3484296798706055,
                    8.469083786010742,
                    8.227208137512207,
                    8.37527847290039,
                    8.158443450927734,
                    4.2029924392700195,
                    8.115411758422852,
                    7.861232757568359,
                    6.101607322692871,
                    8.300285339355469,
                    5.199309349060059,
                    6.410294055938721,
                    -2.01808500289917,
                    6.138222694396973,
                    4.392289638519287,
                    7.840137958526611,
                    5.949756622314453,
                    7.828099727630615,
                    6.800323486328125,
                    -5.866249084472656,
                    8.190089225769043,
                    -6.826947212219238,
                    4.19609260559082,
                    5.171725273132324,
                    0.31515753269195557,
                    6.738379955291748,
                    7.78630256652832,
                    8.135643005371094,
                    1.3497849702835083,
                    7.500949859619141,
                    4.080092906951904,
                    7.938882350921631,
                    7.969501972198486,
                    3.6306817531585693,
                    1.6314115524291992,
                    1.6990435123443604,
                    7.492309093475342,
                    8.755443572998047,
                    -8.778664588928223,
                    5.366230010986328,
                    6.490147113800049,
                    -1.7901276350021362,
                    -6.02755880355835,
                    6.626399993896484,
                    6.435300350189209,
                    7.525811195373535,
                    -1.8308923244476318,
                    -3.476384401321411,
                    7.244806289672852,
                    0.8150148987770081,
                    7.526826858520508,
                    0.4355314373970032,
                    7.379221439361572,
                    6.894626617431641,
                    7.65897798538208,
                    7.4647016525268555,
                    7.545498847961426,
                    -3.073737144470215,
                    6.335505485534668,
                    7.473412990570068,
                    -6.589622497558594,
                    7.211299419403076,
                    7.205469608306885,
                    7.390045166015625,
                    -6.574387550354004,
                    4.6653218269348145,
                    5.2243194580078125,
                    6.1398515701293945,
                    7.08101749420166,
                    3.606041669845581,
                    5.835261821746826,
                    7.2121453285217285,
                    6.962774753570557,
                    5.9224982261657715,
                    3.374269962310791,
                    4.234564304351807,
                    5.852975368499756,
                    1.6336599588394165,
                    5.805847644805908,
                    6.946197986602783,
                    6.886995792388916,
                    5.760219573974609,
                    5.929023742675781,
                    5.774731636047363,
                    7.148049831390381,
                    5.613412857055664,
                    6.803311824798584,
                    -3.4274306297302246,
                    6.753936767578125,
                    6.07485818862915,
                    3.512396812438965,
                    3.9993085861206055,
                    -8.439881324768066,
                    6.275601863861084,
                    4.838770866394043,
                    -4.7921061515808105,
                    6.583162307739258,
                    6.503159999847412,
                    6.008967876434326,
                    3.7135488986968994,
                    6.326623439788818,
                    3.620513677597046,
                    6.387871265411377,
                    0.7739230990409851,
                    -5.36352014541626,
                    5.201649188995361,
                    5.758407115936279,
                    4.034812927246094,
                    -3.3904688358306885,
                    0.9286425113677979,
                    5.244517803192139,
                    -4.030929088592529,
                    -4.268385410308838,
                    -9.791214942932129,
                    -4.721120357513428,
                    4.59040641784668,
                    2.9237091541290283,
                    5.225226402282715,
                    6.3863844871521,
                    2.9026756286621094,
                    4.93267822265625,
                    5.951633453369141,
                    5.807692527770996,
                    5.200399875640869,
                    5.747534275054932,
                    5.024496078491211,
                    4.9874396324157715,
                    4.462453842163086,
                    0.9375910758972168,
                    5.820076942443848,
                    4.846700191497803,
                    -3.2126431465148926,
                    5.819031238555908,
                    3.566243886947632,
                    5.13820219039917,
                    5.580042362213135,
                    4.694307327270508,
                    -4.245355129241943,
                    5.517162799835205,
                    5.691027641296387,
                    5.347332954406738,
                    3.091336250305176,
                    -1.656473994255066,
                    -4.11565637588501,
                    -7.904681205749512,
                    4.1213274002075195,
                    5.411128997802734,
                    4.45593786239624,
                    5.403913497924805,
                    5.483362674713135,
                    -2.6918392181396484,
                    2.948627233505249,
                    -3.528052806854248,
                    5.418540954589844,
                    5.100631237030029,
                    5.444454669952393,
                    -7.430180072784424,
                    2.161982774734497,
                    4.230400562286377,
                    1.8882215023040771,
                    -8.970314025878906,
                    3.9604763984680176,
                    1.2769237756729126,
                    0.4052274823188782,
                    2.8179643154144287,
                    -2.5753495693206787,
                    0.4322359263896942,
                    2.919834852218628,
                    5.207224369049072,
                    4.257273197174072,
                    2.445319890975952,
                    4.026169300079346,
                    5.099605083465576,
                    5.062567234039307,
                    -5.867434978485107,
                    3.9241340160369873,
                    3.9265167713165283,
                    4.298817157745361,
                    5.093614101409912,
                    4.9372239112854,
                    0.5135182738304138,
                    -8.84300708770752,
                    0.4243597388267517,
                    4.988219261169434,
                    0.8765891194343567,
                    1.9306787252426147,
                    3.246556282043457,
                    3.175964832305908,
                    -8.547858238220215,
                    4.787923336029053,
                    3.3253118991851807,
                    4.7323102951049805,
                    0.5516725778579712,
                    3.7771196365356445,
                    3.1190578937530518,
                    4.2699713706970215,
                    3.772512197494507,
                    1.6616603136062622,
                    2.2279207706451416,
                    4.1174468994140625,
                    3.3873887062072754,
                    0.6281077861785889,
                    2.000828266143799,
                    2.020859718322754,
                    2.145949363708496,
                    -7.421176910400391,
                    2.966383934020996,
                    2.0504398345947266,
                    2.9306018352508545,
                    -3.1498305797576904,
                    0.3425883948802948,
                    0.8563783168792725,
                    2.026820182800293,
                    0.5369880199432373,
                    -5.868575572967529,
                    1.2451156377792358,
                    2.875581741333008,
                    1.9878535270690918,
                    3.150552988052368,
                    1.2264904975891113,
                    3.708102226257324,
                    1.374089241027832,
                    -4.184832572937012,
                    2.8975682258605957,
                    4.098103046417236,
                    0.41432327032089233,
                    3.6126744747161865,
                    3.525465250015259,
                    2.742044448852539,
                    3.8224024772644043,
                    3.148303985595703,
                    0.4076099097728729,
                    2.6788291931152344,
                    0.33315569162368774,
                    3.255626678466797,
                    3.5957930088043213,
                    1.9121588468551636,
                    -2.055584669113159,
                    0.6080032587051392,
                    0.5191166400909424,
                    2.4789586067199707,
                    -5.48638391494751,
                    -2.81477952003479,
                    0.43100374937057495,
                    2.4193191528320312,
                    -1.5790717601776123,
                    2.9965786933898926,
                    0.7620059847831726,
                    2.2387681007385254,
                    0.743897020816803,
                    2.3515772819519043,
                    1.496965765953064,
                    -7.947144031524658,
                    2.3247153759002686,
                    2.819652557373047,
                    2.1984875202178955,
                    2.8504199981689453,
                    0.781308114528656,
                    0.8813504576683044,
                    2.1508171558380127,
                    2.7004737854003906,
                    -5.8921589851379395,
                    2.072474956512451,
                    2.135171413421631,
                    -7.0577712059021,
                    -8.40318489074707,
                    0.459897518157959,
                    1.7137905359268188,
                    2.7217891216278076,
                    1.352845311164856,
                    1.1960467100143433,
                    2.478005886077881,
                    0.23928076028823853,
                    1.9410078525543213,
                    2.657919406890869,
                    -6.133017539978027,
                    0.9307727813720703,
                    0.9380656480789185,
                    1.9309195280075073,
                    2.3054733276367188,
                    0.4290081262588501,
                    -5.715322017669678,
                    2.542656183242798,
                    0.034284453839063644,
                    -10.396866798400879,
                    2.5031960010528564,
                    2.306830406188965,
                    1.6512806415557861,
                    1.4513083696365356,
                    1.7020769119262695,
                    -2.888763189315796,
                    -3.017228841781616,
                    0.273334801197052,
                    -6.804163932800293,
                    -0.10971889644861221,
                    1.7181566953659058,
                    -4.383763313293457,
                    -1.4048584699630737,
                    0.07088600099086761,
                    -1.0669108629226685,
                    0.34898754954338074,
                    1.4547072649002075,
                    2.083332061767578,
                    1.6153336763381958,
                    0.3767000734806061,
                    -1.3320908546447754,
                    -0.16431429982185364,
                    -3.5215165615081787,
                    -2.4892737865448,
                    1.4209704399108887,
                    -0.5383890867233276,
                    -7.6164655685424805,
                    1.161098599433899,
                    -0.5166031718254089,
                    1.852533221244812,
                    1.759535312652588,
                    -0.5966929793357849,
                    1.391998529434204,
                    1.6997133493423462,
                    0.3158642053604126,
                    -4.549642562866211,
                    1.0450363159179688,
                    -0.8522945642471313,
                    -5.156033515930176,
                    1.93336820602417,
                    1.2365649938583374,
                    2.213075637817383,
                    -5.435334205627441,
                    0.3261692225933075,
                    -4.846680164337158,
                    0.829806923866272,
                    0.32888519763946533,
                    -9.387516021728516,
                    -1.2018847465515137,
                    -2.6643226146698,
                    0.7277145981788635,
                    -8.249159812927246,
                    -1.274122953414917,
                    -1.194689154624939,
                    -1.851765513420105,
                    0.617726743221283,
                    -1.1444065570831299,
                    1.3254270553588867,
                    1.3194392919540405,
                    -1.4708573818206787,
                    0.9470930099487305,
                    0.6149920225143433,
                    1.3956084251403809,
                    0.587489128112793,
                    -1.4955534934997559,
                    -1.499239206314087,
                    -1.2345024347305298,
                    -1.3714090585708618,
                    -5.150655269622803,
                    0.49541643261909485,
                    1.1921645402908325,
                    -1.5293073654174805,
                    0.4977431297302246,
                    -2.3130435943603516,
                    -1.3978185653686523,
                    -9.28736686706543,
                    -2.937795877456665,
                    1.0636868476867676,
                    1.0576733350753784,
                    -1.6118220090866089,
                    1.0659735202789307,
                    -2.659954786300659,
                    0.4587552845478058,
                    -9.108863830566406,
                    -1.4845167398452759,
                    0.43865787982940674,
                    0.37431585788726807,
                    1.6084275245666504,
                    -1.5228687524795532,
                    -4.8617377281188965,
                    -1.4175357818603516,
                    -0.03126417472958565,
                    0.3848400115966797,
                    -1.1090452671051025,
                    -2.3904788494110107,
                    -1.6067076921463013,
                    -1.3698651790618896,
                    0.1000417098402977,
                    -9.228531837463379,
                    -1.2566083669662476,
                    0.004820604808628559,
                    -1.0841807126998901,
                    -0.008839001879096031,
                    -5.741013050079346,
                    -6.330248832702637,
                    -0.08697762340307236,
                    -0.08620403707027435,
                    -0.17351685464382172,
                    -5.62933349609375,
                    1.4825292825698853,
                    -1.2153557538986206,
                    0.6729081869125366,
                    0.3303266763687134,
                    -1.9488219022750854,
                    -9.21973705291748,
                    -1.6820683479309082,
                    0.8869701623916626,
                    -0.39611318707466125,
                    -2.3080875873565674,
                    -0.45312002301216125,
                    -0.43115437030792236,
                    1.6118035316467285,
                    -0.3450022339820862,
                    -0.4119504392147064,
                    0.26037466526031494,
                    -0.3576948642730713,
                    -2.657244920730591,
                    -0.6918460130691528,
                    1.5272541046142578,
                    1.350674033164978,
                    -8.097651481628418,
                    -0.736829400062561,
                    1.639034390449524,
                    -1.6854044198989868,
                    -0.964209794998169,
                    -0.6830750703811646,
                    -1.0407512187957764,
                    -1.0018713474273682,
                    -3.773750066757202,
                    -0.9993809461593628,
                    -0.8789582252502441,
                    -0.9307942390441895,
                    -3.2092084884643555,
                    -0.8591464757919312,
                    -6.965076923370361,
                    -2.869154453277588,
                    -0.8584181070327759,
                    -1.1439545154571533,
                    -1.580886721611023,
                    -1.1137566566467285,
                    -1.33351469039917,
                    0.5957522988319397,
                    -1.2447634935379028,
                    -1.3990753889083862,
                    -3.1362295150756836,
                    -7.524770736694336,
                    -1.3557053804397583,
                    0.8223744630813599,
                    -4.203950881958008,
                    -7.153966426849365,
                    -1.6162049770355225,
                    -2.521393299102783,
                    -4.249251365661621,
                    -7.300501346588135,
                    -1.8194879293441772,
                    -1.9696173667907715,
                    -1.8058758974075317,
                    -2.6392650604248047,
                    -1.6259199380874634,
                    -2.176290512084961,
                    -1.816056728363037,
                    -1.8797863721847534,
                    -3.1089229583740234,
                    -4.518888473510742,
                    1.6695973873138428,
                    -4.559905529022217,
                    -3.1400580406188965,
                    -7.628625392913818,
                    -2.808065891265869,
                    -4.547205448150635,
                    0.4635384678840637,
                    -2.222219467163086,
                    -4.049981117248535,
                    1.0240983963012695,
                    -6.810070991516113,
                    -2.214980125427246,
                    -2.0528597831726074,
                    0.9044293165206909,
                    -2.7785470485687256,
                    -2.8264803886413574,
                    -4.084628582000732,
                    -1.8813846111297607,
                    -4.400308132171631,
                    -3.6582775115966797,
                    -2.920339345932007,
                    -2.129216194152832,
                    -2.3983728885650635,
                    -2.1621596813201904,
                    -3.963426351547241,
                    -3.2075717449188232,
                    -2.2548129558563232,
                    -4.916675567626953,
                    -2.3594961166381836,
                    -0.8779498338699341,
                    -3.3459725379943848,
                    -2.581423044204712,
                    -2.375703811645508,
                    -3.2305638790130615,
                    -2.0710885524749756,
                    0.41337335109710693,
                    -2.4479610919952393,
                    -2.515605926513672,
                    -4.318514823913574,
                    -3.503469467163086,
                    -2.575608253479004,
                    -2.1129417419433594,
                    -4.001921653747559,
                    0.1789267361164093,
                    -2.5656509399414062,
                    -2.8856515884399414,
                    -4.590425491333008,
                    -7.607058048248291,
                    -2.5675230026245117,
                    -0.8796128034591675,
                    0.2219494879245758,
                    -2.7451348304748535,
                    -4.914463520050049,
                    -4.541295528411865,
                    -2.6483871936798096,
                    -4.963520526885986,
                    0.555378794670105,
                    -2.968331813812256,
                    -4.779773235321045,
                    -4.7683210372924805,
                    -0.8072666525840759,
                    -3.778665542602539,
                    -4.234030723571777,
                    -5.8139495849609375,
                    -7.261092185974121,
                    0.45371386408805847,
                    -5.501012325286865,
                    1.116919994354248,
                    -4.8833465576171875,
                    1.558722972869873,
                    -3.2418792247772217,
                    -4.8456854820251465,
                    -4.3742995262146,
                    -3.188467264175415,
                    -3.6445651054382324,
                    -3.4164223670959473,
                    -3.3987903594970703,
                    -3.052361011505127,
                    -5.859161376953125,
                    -4.476143836975098,
                    -7.918647289276123,
                    -6.006051063537598,
                    -11.388906478881836,
                    -5.904375076293945,
                    -6.059034824371338,
                    1.3849233388900757,
                    -7.6118364334106445,
                    -5.596406936645508,
                    0.1796056032180786,
                    -4.69304084777832,
                    -4.530620574951172,
                    -2.298908233642578,
                    -3.8903746604919434,
                    -4.527974605560303,
                    -9.628691673278809,
                    -5.01919412612915,
                    -0.808665931224823,
                    -0.8993740081787109,
                    -0.8914907574653625,
                    -4.237626552581787,
                    -6.30097770690918,
                    -6.312082290649414,
                    -0.015709739178419113,
                    -3.9627811908721924,
                    -4.619006633758545,
                    0.12860101461410522,
                    -5.457614421844482,
                    -0.022682631388306618,
                    -8.180749893188477,
                    -8.427159309387207,
                    -6.244316101074219,
                    -4.334113597869873,
                    -5.779057502746582,
                    0.19319410622119904,
                    -5.45550012588501,
                    -7.261873722076416,
                    -4.426126956939697,
                    -8.269152641296387,
                    -4.554477691650391,
                    -4.6419148445129395,
                    -4.660484790802002,
                    -7.307068347930908,
                    -5.627841472625732,
                    -6.590721130371094,
                    -4.717667102813721,
                    -6.8595099449157715,
                    -7.119806289672852,
                    -5.418160438537598,
                    -4.794379234313965,
                    -4.791925430297852,
                    -5.497052192687988,
                    -6.924731731414795,
                    -6.517018795013428,
                    -5.4018168449401855,
                    -5.822242259979248,
                    -4.977047443389893,
                    -6.405186176300049,
                    -5.0731024742126465,
                    -3.1382224559783936,
                    -5.100070476531982,
                    -5.6066436767578125,
                    -7.442063331604004,
                    -6.440476417541504,
                    -5.113006114959717,
                    -5.620891094207764,
                    -8.55180835723877,
                    -0.9188032746315002,
                    -5.535737037658691,
                    -4.728357315063477,
                    -6.285636901855469,
                    -6.904541492462158,
                    -0.7573783993721008,
                    -7.9344162940979,
                    -6.176313877105713,
                    -7.512353420257568,
                    -5.725009918212891,
                    -5.823785781860352,
                    -6.613916397094727,
                    -8.205714225769043,
                    -7.991549491882324,
                    -7.622270107269287,
                    -8.438211441040039,
                    -6.118514060974121,
                    -7.179556846618652,
                    -1.9026050567626953,
                    -6.586800575256348,
                    1.1190077066421509,
                    -0.06729041785001755,
                    -8.4237699508667,
                    -9.185500144958496,
                    0.8059256672859192,
                    -9.337373733520508,
                    -0.08537262678146362,
                    -8.69517707824707,
                    0.7559982538223267,
                    -8.625308990478516,
                    -6.797524929046631,
                    -8.721156120300293,
                    -7.185396194458008,
                    -0.11038053780794144,
                    -8.4357271194458,
                    -8.51137638092041,
                    -7.3778839111328125,
                    -7.597271919250488,
                    -7.374159812927246,
                    -7.559319496154785,
                    -8.477872848510742,
                    -8.728951454162598,
                    -7.605051040649414,
                    -5.758892059326172,
                    -0.04307493939995766,
                    -7.378637790679932,
                    -8.76809310913086,
                    -9.118142127990723,
                    -9.239201545715332,
                    -8.29750919342041,
                    -9.628807067871094,
                    -8.277100563049316,
                    -9.371173858642578,
                    -8.711517333984375,
                    -9.443244934082031,
                    -9.627033233642578,
                    -5.80639123916626,
                    -5.8487548828125,
                    -7.886030673980713,
                    -8.427910804748535,
                    -9.52694320678711,
                    -8.301607131958008,
                    -7.9481682777404785,
                    -7.9785590171813965,
                    -7.984753608703613,
                    -7.556251525878906,
                    -7.282408714294434,
                    -9.78587818145752,
                    -8.444000244140625,
                    -8.136348724365234,
                    -9.515124320983887,
                    -5.778136253356934,
                    -7.766231536865234,
                    -9.7514009475708,
                    -9.708816528320312,
                    -8.61143684387207,
                    -9.966007232666016,
                    -10.065645217895508,
                    0.23773056268692017,
                    -10.33279037475586,
                    -10.09768009185791,
                    -9.96243667602539,
                    -10.010767936706543,
                    -10.07351303100586,
                    -10.336685180664062,
                    -10.39095401763916,
                    -10.317172050476074,
                    -8.4587984085083,
                    -10.125595092773438,
                    -10.557501792907715,
                    -8.389649391174316,
                    -10.573731422424316,
                    -10.61662769317627,
                    -10.694290161132812,
                    -9.080184936523438,
                    -10.301238059997559,
                    -10.838146209716797,
                    -8.178401947021484,
                    -10.9799222946167,
                    -7.986872673034668,
                    -5.831843376159668,
                    -11.13636302947998,
                    -11.133872032165527,
                    -9.029385566711426,
                    -11.338065147399902,
                    -11.105578422546387,
                    -11.271196365356445,
                    -11.381235122680664,
                    -11.125027656555176,
                    -0.9298218488693237,
                    -11.085877418518066,
                    -11.411179542541504,
                    -11.487147331237793,
                    -11.301688194274902,
                    -11.600232124328613,
                    -11.551606178283691,
                    -11.543314933776855,
                    -12.205869674682617,
                    -11.670007705688477,
                    -10.942500114440918,
                    -11.578153610229492,
                    -11.315018653869629,
                    -7.787791728973389,
                    -11.92207145690918,
                    -8.759420394897461,
                    -12.11509895324707,
                    -10.527055740356445,
                    -11.998275756835938,
                    1.0483602285385132,
                    -12.255111694335938,
                    -12.347832679748535,
                    -11.02122688293457,
                    -12.478476524353027,
                    -12.76880931854248,
                    -12.82259464263916,
                    1.1700174808502197,
                    0.1927020400762558,
                    -10.726344108581543,
                    -13.610688209533691,
                    -5.563297748565674,
                    -2.3196113109588623,
                    -13.53320598602295,
                    -10.749451637268066,
                    -9.489917755126953,
                    -13.458765029907227,
                    -10.795524597167969,
                    -13.812504768371582,
                    -13.692380905151367,
                    -11.415781021118164,
                    -13.870145797729492,
                    -12.79662799835205,
                    -13.763535499572754,
                    -11.589049339294434,
                    -9.581870079040527,
                    -11.592020988464355,
                    -14.06316089630127,
                    -13.91731071472168,
                    -12.870196342468262,
                    -11.249220848083496,
                    -10.97582721710205,
                    0.7405481338500977,
                    -11.324280738830566,
                    -14.095394134521484,
                    -14.247688293457031,
                    -11.226093292236328,
                    -14.220619201660156,
                    -9.629216194152832,
                    -14.20166015625,
                    -9.538320541381836,
                    -14.964540481567383,
                    -11.418725967407227
                  ],
                  "type": "scatter3d"
                }
              ],
              "config": {
                "plotlyServerURL": "https://plot.ly"
              },
              "layout": {
                "title": {
                  "text": "3d TSNE Plot for Outliers"
                },
                "scene": {
                  "domain": {
                    "y": [
                      0,
                      1
                    ],
                    "x": [
                      0,
                      1
                    ]
                  },
                  "zaxis": {
                    "title": {
                      "text": "2"
                    }
                  },
                  "xaxis": {
                    "title": {
                      "text": "0"
                    }
                  },
                  "yaxis": {
                    "title": {
                      "text": "1"
                    }
                  }
                },
                "height": 800,
                "width": 900,
                "template": {
                  "layout": {
                    "shapedefaults": {
                      "line": {
                        "color": "#2a3f5f"
                      }
                    },
                    "polar": {
                      "radialaxis": {
                        "ticks": "",
                        "gridcolor": "white",
                        "linecolor": "white"
                      },
                      "bgcolor": "#E5ECF6",
                      "angularaxis": {
                        "ticks": "",
                        "gridcolor": "white",
                        "linecolor": "white"
                      }
                    },
                    "colorway": [
                      "#636efa",
                      "#EF553B",
                      "#00cc96",
                      "#ab63fa",
                      "#FFA15A",
                      "#19d3f3",
                      "#FF6692",
                      "#B6E880",
                      "#FF97FF",
                      "#FECB52"
                    ],
                    "xaxis": {
                      "automargin": true,
                      "title": {
                        "standoff": 15
                      },
                      "zerolinewidth": 2,
                      "ticks": "",
                      "zerolinecolor": "white",
                      "gridcolor": "white",
                      "linecolor": "white"
                    },
                    "colorscale": {
                      "diverging": [
                        [
                          0,
                          "#8e0152"
                        ],
                        [
                          0.1,
                          "#c51b7d"
                        ],
                        [
                          0.2,
                          "#de77ae"
                        ],
                        [
                          0.3,
                          "#f1b6da"
                        ],
                        [
                          0.4,
                          "#fde0ef"
                        ],
                        [
                          0.5,
                          "#f7f7f7"
                        ],
                        [
                          0.6,
                          "#e6f5d0"
                        ],
                        [
                          0.7,
                          "#b8e186"
                        ],
                        [
                          0.8,
                          "#7fbc41"
                        ],
                        [
                          0.9,
                          "#4d9221"
                        ],
                        [
                          1,
                          "#276419"
                        ]
                      ],
                      "sequential": [
                        [
                          0,
                          "#0d0887"
                        ],
                        [
                          0.1111111111111111,
                          "#46039f"
                        ],
                        [
                          0.2222222222222222,
                          "#7201a8"
                        ],
                        [
                          0.3333333333333333,
                          "#9c179e"
                        ],
                        [
                          0.4444444444444444,
                          "#bd3786"
                        ],
                        [
                          0.5555555555555556,
                          "#d8576b"
                        ],
                        [
                          0.6666666666666666,
                          "#ed7953"
                        ],
                        [
                          0.7777777777777778,
                          "#fb9f3a"
                        ],
                        [
                          0.8888888888888888,
                          "#fdca26"
                        ],
                        [
                          1,
                          "#f0f921"
                        ]
                      ],
                      "sequentialminus": [
                        [
                          0,
                          "#0d0887"
                        ],
                        [
                          0.1111111111111111,
                          "#46039f"
                        ],
                        [
                          0.2222222222222222,
                          "#7201a8"
                        ],
                        [
                          0.3333333333333333,
                          "#9c179e"
                        ],
                        [
                          0.4444444444444444,
                          "#bd3786"
                        ],
                        [
                          0.5555555555555556,
                          "#d8576b"
                        ],
                        [
                          0.6666666666666666,
                          "#ed7953"
                        ],
                        [
                          0.7777777777777778,
                          "#fb9f3a"
                        ],
                        [
                          0.8888888888888888,
                          "#fdca26"
                        ],
                        [
                          1,
                          "#f0f921"
                        ]
                      ]
                    },
                    "paper_bgcolor": "white",
                    "plot_bgcolor": "#E5ECF6",
                    "title": {
                      "x": 0.05
                    },
                    "scene": {
                      "zaxis": {
                        "backgroundcolor": "#E5ECF6",
                        "ticks": "",
                        "gridwidth": 2,
                        "showbackground": true,
                        "zerolinecolor": "white",
                        "gridcolor": "white",
                        "linecolor": "white"
                      },
                      "xaxis": {
                        "backgroundcolor": "#E5ECF6",
                        "ticks": "",
                        "gridwidth": 2,
                        "showbackground": true,
                        "zerolinecolor": "white",
                        "gridcolor": "white",
                        "linecolor": "white"
                      },
                      "yaxis": {
                        "backgroundcolor": "#E5ECF6",
                        "ticks": "",
                        "gridwidth": 2,
                        "showbackground": true,
                        "zerolinecolor": "white",
                        "gridcolor": "white",
                        "linecolor": "white"
                      }
                    },
                    "yaxis": {
                      "automargin": true,
                      "title": {
                        "standoff": 15
                      },
                      "zerolinewidth": 2,
                      "ticks": "",
                      "zerolinecolor": "white",
                      "gridcolor": "white",
                      "linecolor": "white"
                    },
                    "annotationdefaults": {
                      "arrowwidth": 1,
                      "arrowhead": 0,
                      "arrowcolor": "#2a3f5f"
                    },
                    "hoverlabel": {
                      "align": "left"
                    },
                    "ternary": {
                      "bgcolor": "#E5ECF6",
                      "baxis": {
                        "ticks": "",
                        "gridcolor": "white",
                        "linecolor": "white"
                      },
                      "caxis": {
                        "ticks": "",
                        "gridcolor": "white",
                        "linecolor": "white"
                      },
                      "aaxis": {
                        "ticks": "",
                        "gridcolor": "white",
                        "linecolor": "white"
                      }
                    },
                    "mapbox": {
                      "style": "light"
                    },
                    "hovermode": "closest",
                    "font": {
                      "color": "#2a3f5f"
                    },
                    "geo": {
                      "showland": true,
                      "landcolor": "#E5ECF6",
                      "showlakes": true,
                      "bgcolor": "white",
                      "subunitcolor": "white",
                      "lakecolor": "white"
                    },
                    "coloraxis": {
                      "colorbar": {
                        "outlinewidth": 0,
                        "ticks": ""
                      }
                    }
                  },
                  "data": {
                    "mesh3d": [
                      {
                        "colorbar": {
                          "outlinewidth": 0,
                          "ticks": ""
                        },
                        "type": "mesh3d"
                      }
                    ],
                    "scattercarpet": [
                      {
                        "marker": {
                          "colorbar": {
                            "outlinewidth": 0,
                            "ticks": ""
                          }
                        },
                        "type": "scattercarpet"
                      }
                    ],
                    "pie": [
                      {
                        "automargin": true,
                        "type": "pie"
                      }
                    ],
                    "surface": [
                      {
                        "colorbar": {
                          "outlinewidth": 0,
                          "ticks": ""
                        },
                        "type": "surface",
                        "colorscale": [
                          [
                            0,
                            "#0d0887"
                          ],
                          [
                            0.1111111111111111,
                            "#46039f"
                          ],
                          [
                            0.2222222222222222,
                            "#7201a8"
                          ],
                          [
                            0.3333333333333333,
                            "#9c179e"
                          ],
                          [
                            0.4444444444444444,
                            "#bd3786"
                          ],
                          [
                            0.5555555555555556,
                            "#d8576b"
                          ],
                          [
                            0.6666666666666666,
                            "#ed7953"
                          ],
                          [
                            0.7777777777777778,
                            "#fb9f3a"
                          ],
                          [
                            0.8888888888888888,
                            "#fdca26"
                          ],
                          [
                            1,
                            "#f0f921"
                          ]
                        ]
                      }
                    ],
                    "table": [
                      {
                        "header": {
                          "line": {
                            "color": "white"
                          },
                          "fill": {
                            "color": "#C8D4E3"
                          }
                        },
                        "cells": {
                          "line": {
                            "color": "white"
                          },
                          "fill": {
                            "color": "#EBF0F8"
                          }
                        },
                        "type": "table"
                      }
                    ],
                    "scatterpolargl": [
                      {
                        "marker": {
                          "colorbar": {
                            "outlinewidth": 0,
                            "ticks": ""
                          }
                        },
                        "type": "scatterpolargl"
                      }
                    ],
                    "contour": [
                      {
                        "colorbar": {
                          "outlinewidth": 0,
                          "ticks": ""
                        },
                        "type": "contour",
                        "colorscale": [
                          [
                            0,
                            "#0d0887"
                          ],
                          [
                            0.1111111111111111,
                            "#46039f"
                          ],
                          [
                            0.2222222222222222,
                            "#7201a8"
                          ],
                          [
                            0.3333333333333333,
                            "#9c179e"
                          ],
                          [
                            0.4444444444444444,
                            "#bd3786"
                          ],
                          [
                            0.5555555555555556,
                            "#d8576b"
                          ],
                          [
                            0.6666666666666666,
                            "#ed7953"
                          ],
                          [
                            0.7777777777777778,
                            "#fb9f3a"
                          ],
                          [
                            0.8888888888888888,
                            "#fdca26"
                          ],
                          [
                            1,
                            "#f0f921"
                          ]
                        ]
                      }
                    ],
                    "carpet": [
                      {
                        "type": "carpet",
                        "baxis": {
                          "minorgridcolor": "white",
                          "gridcolor": "white",
                          "linecolor": "white",
                          "endlinecolor": "#2a3f5f",
                          "startlinecolor": "#2a3f5f"
                        },
                        "aaxis": {
                          "minorgridcolor": "white",
                          "gridcolor": "white",
                          "linecolor": "white",
                          "endlinecolor": "#2a3f5f",
                          "startlinecolor": "#2a3f5f"
                        }
                      }
                    ],
                    "contourcarpet": [
                      {
                        "colorbar": {
                          "outlinewidth": 0,
                          "ticks": ""
                        },
                        "type": "contourcarpet"
                      }
                    ],
                    "heatmap": [
                      {
                        "colorbar": {
                          "outlinewidth": 0,
                          "ticks": ""
                        },
                        "type": "heatmap",
                        "colorscale": [
                          [
                            0,
                            "#0d0887"
                          ],
                          [
                            0.1111111111111111,
                            "#46039f"
                          ],
                          [
                            0.2222222222222222,
                            "#7201a8"
                          ],
                          [
                            0.3333333333333333,
                            "#9c179e"
                          ],
                          [
                            0.4444444444444444,
                            "#bd3786"
                          ],
                          [
                            0.5555555555555556,
                            "#d8576b"
                          ],
                          [
                            0.6666666666666666,
                            "#ed7953"
                          ],
                          [
                            0.7777777777777778,
                            "#fb9f3a"
                          ],
                          [
                            0.8888888888888888,
                            "#fdca26"
                          ],
                          [
                            1,
                            "#f0f921"
                          ]
                        ]
                      }
                    ],
                    "scattermapbox": [
                      {
                        "marker": {
                          "colorbar": {
                            "outlinewidth": 0,
                            "ticks": ""
                          }
                        },
                        "type": "scattermapbox"
                      }
                    ],
                    "scatter3d": [
                      {
                        "marker": {
                          "colorbar": {
                            "outlinewidth": 0,
                            "ticks": ""
                          }
                        },
                        "line": {
                          "colorbar": {
                            "outlinewidth": 0,
                            "ticks": ""
                          }
                        },
                        "type": "scatter3d"
                      }
                    ],
                    "scattergl": [
                      {
                        "marker": {
                          "colorbar": {
                            "outlinewidth": 0,
                            "ticks": ""
                          }
                        },
                        "type": "scattergl"
                      }
                    ],
                    "scatterternary": [
                      {
                        "marker": {
                          "colorbar": {
                            "outlinewidth": 0,
                            "ticks": ""
                          }
                        },
                        "type": "scatterternary"
                      }
                    ],
                    "histogram": [
                      {
                        "marker": {
                          "colorbar": {
                            "outlinewidth": 0,
                            "ticks": ""
                          }
                        },
                        "type": "histogram"
                      }
                    ],
                    "heatmapgl": [
                      {
                        "colorbar": {
                          "outlinewidth": 0,
                          "ticks": ""
                        },
                        "type": "heatmapgl",
                        "colorscale": [
                          [
                            0,
                            "#0d0887"
                          ],
                          [
                            0.1111111111111111,
                            "#46039f"
                          ],
                          [
                            0.2222222222222222,
                            "#7201a8"
                          ],
                          [
                            0.3333333333333333,
                            "#9c179e"
                          ],
                          [
                            0.4444444444444444,
                            "#bd3786"
                          ],
                          [
                            0.5555555555555556,
                            "#d8576b"
                          ],
                          [
                            0.6666666666666666,
                            "#ed7953"
                          ],
                          [
                            0.7777777777777778,
                            "#fb9f3a"
                          ],
                          [
                            0.8888888888888888,
                            "#fdca26"
                          ],
                          [
                            1,
                            "#f0f921"
                          ]
                        ]
                      }
                    ],
                    "scatterpolar": [
                      {
                        "marker": {
                          "colorbar": {
                            "outlinewidth": 0,
                            "ticks": ""
                          }
                        },
                        "type": "scatterpolar"
                      }
                    ],
                    "histogram2d": [
                      {
                        "colorbar": {
                          "outlinewidth": 0,
                          "ticks": ""
                        },
                        "type": "histogram2d",
                        "colorscale": [
                          [
                            0,
                            "#0d0887"
                          ],
                          [
                            0.1111111111111111,
                            "#46039f"
                          ],
                          [
                            0.2222222222222222,
                            "#7201a8"
                          ],
                          [
                            0.3333333333333333,
                            "#9c179e"
                          ],
                          [
                            0.4444444444444444,
                            "#bd3786"
                          ],
                          [
                            0.5555555555555556,
                            "#d8576b"
                          ],
                          [
                            0.6666666666666666,
                            "#ed7953"
                          ],
                          [
                            0.7777777777777778,
                            "#fb9f3a"
                          ],
                          [
                            0.8888888888888888,
                            "#fdca26"
                          ],
                          [
                            1,
                            "#f0f921"
                          ]
                        ]
                      }
                    ],
                    "scattergeo": [
                      {
                        "marker": {
                          "colorbar": {
                            "outlinewidth": 0,
                            "ticks": ""
                          }
                        },
                        "type": "scattergeo"
                      }
                    ],
                    "bar": [
                      {
                        "marker": {
                          "line": {
                            "color": "#E5ECF6",
                            "width": 0.5
                          }
                        },
                        "type": "bar",
                        "error_x": {
                          "color": "#2a3f5f"
                        },
                        "error_y": {
                          "color": "#2a3f5f"
                        }
                      }
                    ],
                    "choropleth": [
                      {
                        "colorbar": {
                          "outlinewidth": 0,
                          "ticks": ""
                        },
                        "type": "choropleth"
                      }
                    ],
                    "parcoords": [
                      {
                        "line": {
                          "colorbar": {
                            "outlinewidth": 0,
                            "ticks": ""
                          }
                        },
                        "type": "parcoords"
                      }
                    ],
                    "barpolar": [
                      {
                        "marker": {
                          "line": {
                            "color": "#E5ECF6",
                            "width": 0.5
                          }
                        },
                        "type": "barpolar"
                      }
                    ],
                    "histogram2dcontour": [
                      {
                        "colorbar": {
                          "outlinewidth": 0,
                          "ticks": ""
                        },
                        "type": "histogram2dcontour",
                        "colorscale": [
                          [
                            0,
                            "#0d0887"
                          ],
                          [
                            0.1111111111111111,
                            "#46039f"
                          ],
                          [
                            0.2222222222222222,
                            "#7201a8"
                          ],
                          [
                            0.3333333333333333,
                            "#9c179e"
                          ],
                          [
                            0.4444444444444444,
                            "#bd3786"
                          ],
                          [
                            0.5555555555555556,
                            "#d8576b"
                          ],
                          [
                            0.6666666666666666,
                            "#ed7953"
                          ],
                          [
                            0.7777777777777778,
                            "#fb9f3a"
                          ],
                          [
                            0.8888888888888888,
                            "#fdca26"
                          ],
                          [
                            1,
                            "#f0f921"
                          ]
                        ]
                      }
                    ],
                    "scatter": [
                      {
                        "marker": {
                          "colorbar": {
                            "outlinewidth": 0,
                            "ticks": ""
                          }
                        },
                        "type": "scatter"
                      }
                    ]
                  }
                },
                "legend": {
                  "tracegroupgap": 0
                },
                "coloraxis": {
                  "colorbar": {
                    "title": {
                      "text": "Label"
                    }
                  },
                  "colorscale": [
                    [
                      0,
                      "#0d0887"
                    ],
                    [
                      0.1111111111111111,
                      "#46039f"
                    ],
                    [
                      0.2222222222222222,
                      "#7201a8"
                    ],
                    [
                      0.3333333333333333,
                      "#9c179e"
                    ],
                    [
                      0.4444444444444444,
                      "#bd3786"
                    ],
                    [
                      0.5555555555555556,
                      "#d8576b"
                    ],
                    [
                      0.6666666666666666,
                      "#ed7953"
                    ],
                    [
                      0.7777777777777778,
                      "#fb9f3a"
                    ],
                    [
                      0.8888888888888888,
                      "#fdca26"
                    ],
                    [
                      1,
                      "#f0f921"
                    ]
                  ]
                }
              }
            }
          },
          "metadata": {
            "tags": []
          }
        }
      ]
    },
    {
      "cell_type": "code",
      "metadata": {
        "id": "OKvO6oMG76_n",
        "colab_type": "code",
        "outputId": "010b5fcb-76e7-44cc-af28-e4a32fa120de",
        "colab": {
          "base_uri": "https://localhost:8080/",
          "height": 579,
          "referenced_widgets": [
            "6bc29713bef142b1bf63801342873df1",
            "bd3f75291d1c42b0a1acd95747510d42",
            "753915300a7a40c1908ecd2957a87b74",
            "6c287935f46d4e3181231faed18e6d0b",
            "f4e22f2e210c4386b38fa83213bca583"
          ]
        }
      },
      "source": [
        "#tune knn model\n",
        "tuned_knn = tune_model(model = 'knn', supervised_target = 'isFraud')"
      ],
      "execution_count": 0,
      "outputs": [
        {
          "output_type": "display_data",
          "data": {
            "application/vnd.jupyter.widget-view+json": {
              "model_id": "6bc29713bef142b1bf63801342873df1",
              "version_minor": 0,
              "version_major": 2
            },
            "text/plain": [
              "IntProgress(value=0, description='Processing: ', max=25)"
            ]
          },
          "metadata": {
            "tags": []
          }
        },
        {
          "output_type": "display_data",
          "data": {
            "application/vnd.jupyter.widget-view+json": {
              "model_id": "6c287935f46d4e3181231faed18e6d0b",
              "version_minor": 0,
              "version_major": 2
            },
            "text/plain": [
              "Output()"
            ]
          },
          "metadata": {
            "tags": []
          }
        },
        {
          "output_type": "display_data",
          "data": {
            "text/html": [
              "        <script type=\"text/javascript\">\n",
              "        window.PlotlyConfig = {MathJaxConfig: 'local'};\n",
              "        if (window.MathJax) {MathJax.Hub.Config({SVG: {font: \"STIX-Web\"}});}\n",
              "        if (typeof require !== 'undefined') {\n",
              "        require.undef(\"plotly\");\n",
              "        requirejs.config({\n",
              "            paths: {\n",
              "                'plotly': ['https://cdn.plot.ly/plotly-latest.min']\n",
              "            }\n",
              "        });\n",
              "        require(['plotly'], function(Plotly) {\n",
              "            window._Plotly = Plotly;\n",
              "        });\n",
              "        }\n",
              "        </script>\n",
              "        "
            ]
          },
          "metadata": {
            "tags": []
          }
        },
        {
          "output_type": "display_data",
          "data": {
            "text/plain": [
              "''"
            ]
          },
          "metadata": {
            "tags": []
          }
        },
        {
          "output_type": "display_data",
          "data": {
            "text/html": [
              "<div>\n",
              "        \n",
              "        \n",
              "            <div id=\"05ad0093-01ad-4878-84e2-3ad103a1665d\" class=\"plotly-graph-div\" style=\"height:525px; width:100%;\"></div>\n",
              "            <script type=\"text/javascript\">\n",
              "                require([\"plotly\"], function(Plotly) {\n",
              "                    window.PLOTLYENV=window.PLOTLYENV || {};\n",
              "                    \n",
              "                if (document.getElementById(\"05ad0093-01ad-4878-84e2-3ad103a1665d\")) {\n",
              "                    Plotly.newPlot(\n",
              "                        '05ad0093-01ad-4878-84e2-3ad103a1665d',\n",
              "                        [{\"hoverlabel\": {\"namelength\": 0}, \"hovertemplate\": \"Metric=Accuracy<br>Fraction %=%{x}<br>Score=%{y}\", \"legendgroup\": \"Metric=Accuracy\", \"line\": {\"color\": \"#636efa\", \"dash\": \"solid\", \"shape\": \"linear\"}, \"mode\": \"lines\", \"name\": \"Metric=Accuracy\", \"showlegend\": true, \"type\": \"scatter\", \"x\": [0.0, 0.01, 0.02, 0.03, 0.04, 0.05, 0.06, 0.07, 0.08, 0.09, 0.1], \"xaxis\": \"x\", \"y\": [0.985, 0.9838383838383838, 0.986734693877551, 0.98659793814433, 0.9864583333333333, 0.9863157894736843, 0.9840425531914894, 0.986021505376344, 0.9847826086956522, 0.9846153846153847, 0.9866666666666667], \"yaxis\": \"y\"}, {\"hoverlabel\": {\"namelength\": 0}, \"hovertemplate\": \"Metric=AUC<br>Fraction %=%{x}<br>Score=%{y}\", \"legendgroup\": \"Metric=AUC\", \"line\": {\"color\": \"#EF553B\", \"dash\": \"solid\", \"shape\": \"linear\"}, \"mode\": \"lines\", \"name\": \"Metric=AUC\", \"showlegend\": true, \"type\": \"scatter\", \"x\": [0.0, 0.01, 0.02, 0.03, 0.04, 0.05, 0.06, 0.07, 0.08, 0.09, 0.1], \"xaxis\": \"x\", \"y\": [0.7229780033840948, 0.7098803418803419, 0.6975578712910667, 0.6840640222686152, 0.7050808720112518, 0.6656005685856432, 0.6366738505747127, 0.7036129266521423, 0.6415198237885463, 0.7152004454342984, 0.6571884384384385], \"yaxis\": \"y\"}, {\"hoverlabel\": {\"namelength\": 0}, \"hovertemplate\": \"Metric=Recall<br>Fraction %=%{x}<br>Score=%{y}\", \"legendgroup\": \"Metric=Recall\", \"line\": {\"color\": \"#00cc96\", \"dash\": \"solid\", \"shape\": \"linear\"}, \"mode\": \"lines\", \"name\": \"Metric=Recall\", \"showlegend\": true, \"type\": \"scatter\", \"x\": [0.0, 0.01, 0.02, 0.03, 0.04, 0.05, 0.06, 0.07, 0.08, 0.09, 0.1], \"xaxis\": \"x\", \"y\": [0.06666666666666667, 0.06666666666666667, 0.07692307692307693, 0.0, 0.0, 0.0, 0.0, 0.0, 0.0, 0.0, 0.08333333333333333], \"yaxis\": \"y\"}, {\"hoverlabel\": {\"namelength\": 0}, \"hovertemplate\": \"Metric=Precision<br>Fraction %=%{x}<br>Score=%{y}\", \"legendgroup\": \"Metric=Precision\", \"line\": {\"color\": \"#ab63fa\", \"dash\": \"solid\", \"shape\": \"linear\"}, \"mode\": \"lines\", \"name\": \"Metric=Precision\", \"showlegend\": true, \"type\": \"scatter\", \"x\": [0.0, 0.01, 0.02, 0.03, 0.04, 0.05, 0.06, 0.07, 0.08, 0.09, 0.1], \"xaxis\": \"x\", \"y\": [0.5, 0.3333333333333333, 0.5, 0.0, 0.0, 0.0, 0.0, 0.0, 0.0, 0.0, 0.5], \"yaxis\": \"y\"}, {\"hoverlabel\": {\"namelength\": 0}, \"hovertemplate\": \"Metric=F1<br>Fraction %=%{x}<br>Score=%{y}\", \"legendgroup\": \"Metric=F1\", \"line\": {\"color\": \"#FFA15A\", \"dash\": \"solid\", \"shape\": \"linear\"}, \"mode\": \"lines\", \"name\": \"Metric=F1\", \"showlegend\": true, \"type\": \"scatter\", \"x\": [0.0, 0.01, 0.02, 0.03, 0.04, 0.05, 0.06, 0.07, 0.08, 0.09, 0.1], \"xaxis\": \"x\", \"y\": [0.11764705882352941, 0.1111111111111111, 0.13333333333333336, 0.0, 0.0, 0.0, 0.0, 0.0, 0.0, 0.0, 0.14285714285714285], \"yaxis\": \"y\"}, {\"hoverlabel\": {\"namelength\": 0}, \"hovertemplate\": \"Metric=Kappa<br>Fraction %=%{x}<br>Score=%{y}\", \"legendgroup\": \"Metric=Kappa\", \"line\": {\"color\": \"#19d3f3\", \"dash\": \"solid\", \"shape\": \"linear\"}, \"mode\": \"lines\", \"name\": \"Metric=Kappa\", \"showlegend\": true, \"type\": \"scatter\", \"x\": [0.0, 0.01, 0.02, 0.03, 0.04, 0.05, 0.06, 0.07, 0.08, 0.09, 0.1], \"xaxis\": \"x\", \"y\": [0.11452184179456915, 0.1065989847715737, 0.13025669033315135, -0.0019068806610520461, -0.0019267822736028783, -0.001947103683271223, -0.0051325919589393365, -0.0019890601690701892, -0.0037406483790523026, -0.0037819098644815696, 0.13957934990439758], \"yaxis\": \"y\"}],\n",
              "                        {\"legend\": {\"tracegroupgap\": 0}, \"margin\": {\"t\": 60}, \"plot_bgcolor\": \"rgb(245,245,245)\", \"template\": {\"data\": {\"bar\": [{\"error_x\": {\"color\": \"#2a3f5f\"}, \"error_y\": {\"color\": \"#2a3f5f\"}, \"marker\": {\"line\": {\"color\": \"#E5ECF6\", \"width\": 0.5}}, \"type\": \"bar\"}], \"barpolar\": [{\"marker\": {\"line\": {\"color\": \"#E5ECF6\", \"width\": 0.5}}, \"type\": \"barpolar\"}], \"carpet\": [{\"aaxis\": {\"endlinecolor\": \"#2a3f5f\", \"gridcolor\": \"white\", \"linecolor\": \"white\", \"minorgridcolor\": \"white\", \"startlinecolor\": \"#2a3f5f\"}, \"baxis\": {\"endlinecolor\": \"#2a3f5f\", \"gridcolor\": \"white\", \"linecolor\": \"white\", \"minorgridcolor\": \"white\", \"startlinecolor\": \"#2a3f5f\"}, \"type\": \"carpet\"}], \"choropleth\": [{\"colorbar\": {\"outlinewidth\": 0, \"ticks\": \"\"}, \"type\": \"choropleth\"}], \"contour\": [{\"colorbar\": {\"outlinewidth\": 0, \"ticks\": \"\"}, \"colorscale\": [[0.0, \"#0d0887\"], [0.1111111111111111, \"#46039f\"], [0.2222222222222222, \"#7201a8\"], [0.3333333333333333, \"#9c179e\"], [0.4444444444444444, \"#bd3786\"], [0.5555555555555556, \"#d8576b\"], [0.6666666666666666, \"#ed7953\"], [0.7777777777777778, \"#fb9f3a\"], [0.8888888888888888, \"#fdca26\"], [1.0, \"#f0f921\"]], \"type\": \"contour\"}], \"contourcarpet\": [{\"colorbar\": {\"outlinewidth\": 0, \"ticks\": \"\"}, \"type\": \"contourcarpet\"}], \"heatmap\": [{\"colorbar\": {\"outlinewidth\": 0, \"ticks\": \"\"}, \"colorscale\": [[0.0, \"#0d0887\"], [0.1111111111111111, \"#46039f\"], [0.2222222222222222, \"#7201a8\"], [0.3333333333333333, \"#9c179e\"], [0.4444444444444444, \"#bd3786\"], [0.5555555555555556, \"#d8576b\"], [0.6666666666666666, \"#ed7953\"], [0.7777777777777778, \"#fb9f3a\"], [0.8888888888888888, \"#fdca26\"], [1.0, \"#f0f921\"]], \"type\": \"heatmap\"}], \"heatmapgl\": [{\"colorbar\": {\"outlinewidth\": 0, \"ticks\": \"\"}, \"colorscale\": [[0.0, \"#0d0887\"], [0.1111111111111111, \"#46039f\"], [0.2222222222222222, \"#7201a8\"], [0.3333333333333333, \"#9c179e\"], [0.4444444444444444, \"#bd3786\"], [0.5555555555555556, \"#d8576b\"], [0.6666666666666666, \"#ed7953\"], [0.7777777777777778, \"#fb9f3a\"], [0.8888888888888888, \"#fdca26\"], [1.0, \"#f0f921\"]], \"type\": \"heatmapgl\"}], \"histogram\": [{\"marker\": {\"colorbar\": {\"outlinewidth\": 0, \"ticks\": \"\"}}, \"type\": \"histogram\"}], \"histogram2d\": [{\"colorbar\": {\"outlinewidth\": 0, \"ticks\": \"\"}, \"colorscale\": [[0.0, \"#0d0887\"], [0.1111111111111111, \"#46039f\"], [0.2222222222222222, \"#7201a8\"], [0.3333333333333333, \"#9c179e\"], [0.4444444444444444, \"#bd3786\"], [0.5555555555555556, \"#d8576b\"], [0.6666666666666666, \"#ed7953\"], [0.7777777777777778, \"#fb9f3a\"], [0.8888888888888888, \"#fdca26\"], [1.0, \"#f0f921\"]], \"type\": \"histogram2d\"}], \"histogram2dcontour\": [{\"colorbar\": {\"outlinewidth\": 0, \"ticks\": \"\"}, \"colorscale\": [[0.0, \"#0d0887\"], [0.1111111111111111, \"#46039f\"], [0.2222222222222222, \"#7201a8\"], [0.3333333333333333, \"#9c179e\"], [0.4444444444444444, \"#bd3786\"], [0.5555555555555556, \"#d8576b\"], [0.6666666666666666, \"#ed7953\"], [0.7777777777777778, \"#fb9f3a\"], [0.8888888888888888, \"#fdca26\"], [1.0, \"#f0f921\"]], \"type\": \"histogram2dcontour\"}], \"mesh3d\": [{\"colorbar\": {\"outlinewidth\": 0, \"ticks\": \"\"}, \"type\": \"mesh3d\"}], \"parcoords\": [{\"line\": {\"colorbar\": {\"outlinewidth\": 0, \"ticks\": \"\"}}, \"type\": \"parcoords\"}], \"pie\": [{\"automargin\": true, \"type\": \"pie\"}], \"scatter\": [{\"marker\": {\"colorbar\": {\"outlinewidth\": 0, \"ticks\": \"\"}}, \"type\": \"scatter\"}], \"scatter3d\": [{\"line\": {\"colorbar\": {\"outlinewidth\": 0, \"ticks\": \"\"}}, \"marker\": {\"colorbar\": {\"outlinewidth\": 0, \"ticks\": \"\"}}, \"type\": \"scatter3d\"}], \"scattercarpet\": [{\"marker\": {\"colorbar\": {\"outlinewidth\": 0, \"ticks\": \"\"}}, \"type\": \"scattercarpet\"}], \"scattergeo\": [{\"marker\": {\"colorbar\": {\"outlinewidth\": 0, \"ticks\": \"\"}}, \"type\": \"scattergeo\"}], \"scattergl\": [{\"marker\": {\"colorbar\": {\"outlinewidth\": 0, \"ticks\": \"\"}}, \"type\": \"scattergl\"}], \"scattermapbox\": [{\"marker\": {\"colorbar\": {\"outlinewidth\": 0, \"ticks\": \"\"}}, \"type\": \"scattermapbox\"}], \"scatterpolar\": [{\"marker\": {\"colorbar\": {\"outlinewidth\": 0, \"ticks\": \"\"}}, \"type\": \"scatterpolar\"}], \"scatterpolargl\": [{\"marker\": {\"colorbar\": {\"outlinewidth\": 0, \"ticks\": \"\"}}, \"type\": \"scatterpolargl\"}], \"scatterternary\": [{\"marker\": {\"colorbar\": {\"outlinewidth\": 0, \"ticks\": \"\"}}, \"type\": \"scatterternary\"}], \"surface\": [{\"colorbar\": {\"outlinewidth\": 0, \"ticks\": \"\"}, \"colorscale\": [[0.0, \"#0d0887\"], [0.1111111111111111, \"#46039f\"], [0.2222222222222222, \"#7201a8\"], [0.3333333333333333, \"#9c179e\"], [0.4444444444444444, \"#bd3786\"], [0.5555555555555556, \"#d8576b\"], [0.6666666666666666, \"#ed7953\"], [0.7777777777777778, \"#fb9f3a\"], [0.8888888888888888, \"#fdca26\"], [1.0, \"#f0f921\"]], \"type\": \"surface\"}], \"table\": [{\"cells\": {\"fill\": {\"color\": \"#EBF0F8\"}, \"line\": {\"color\": \"white\"}}, \"header\": {\"fill\": {\"color\": \"#C8D4E3\"}, \"line\": {\"color\": \"white\"}}, \"type\": \"table\"}]}, \"layout\": {\"annotationdefaults\": {\"arrowcolor\": \"#2a3f5f\", \"arrowhead\": 0, \"arrowwidth\": 1}, \"coloraxis\": {\"colorbar\": {\"outlinewidth\": 0, \"ticks\": \"\"}}, \"colorscale\": {\"diverging\": [[0, \"#8e0152\"], [0.1, \"#c51b7d\"], [0.2, \"#de77ae\"], [0.3, \"#f1b6da\"], [0.4, \"#fde0ef\"], [0.5, \"#f7f7f7\"], [0.6, \"#e6f5d0\"], [0.7, \"#b8e186\"], [0.8, \"#7fbc41\"], [0.9, \"#4d9221\"], [1, \"#276419\"]], \"sequential\": [[0.0, \"#0d0887\"], [0.1111111111111111, \"#46039f\"], [0.2222222222222222, \"#7201a8\"], [0.3333333333333333, \"#9c179e\"], [0.4444444444444444, \"#bd3786\"], [0.5555555555555556, \"#d8576b\"], [0.6666666666666666, \"#ed7953\"], [0.7777777777777778, \"#fb9f3a\"], [0.8888888888888888, \"#fdca26\"], [1.0, \"#f0f921\"]], \"sequentialminus\": [[0.0, \"#0d0887\"], [0.1111111111111111, \"#46039f\"], [0.2222222222222222, \"#7201a8\"], [0.3333333333333333, \"#9c179e\"], [0.4444444444444444, \"#bd3786\"], [0.5555555555555556, \"#d8576b\"], [0.6666666666666666, \"#ed7953\"], [0.7777777777777778, \"#fb9f3a\"], [0.8888888888888888, \"#fdca26\"], [1.0, \"#f0f921\"]]}, \"colorway\": [\"#636efa\", \"#EF553B\", \"#00cc96\", \"#ab63fa\", \"#FFA15A\", \"#19d3f3\", \"#FF6692\", \"#B6E880\", \"#FF97FF\", \"#FECB52\"], \"font\": {\"color\": \"#2a3f5f\"}, \"geo\": {\"bgcolor\": \"white\", \"lakecolor\": \"white\", \"landcolor\": \"#E5ECF6\", \"showlakes\": true, \"showland\": true, \"subunitcolor\": \"white\"}, \"hoverlabel\": {\"align\": \"left\"}, \"hovermode\": \"closest\", \"mapbox\": {\"style\": \"light\"}, \"paper_bgcolor\": \"white\", \"plot_bgcolor\": \"#E5ECF6\", \"polar\": {\"angularaxis\": {\"gridcolor\": \"white\", \"linecolor\": \"white\", \"ticks\": \"\"}, \"bgcolor\": \"#E5ECF6\", \"radialaxis\": {\"gridcolor\": \"white\", \"linecolor\": \"white\", \"ticks\": \"\"}}, \"scene\": {\"xaxis\": {\"backgroundcolor\": \"#E5ECF6\", \"gridcolor\": \"white\", \"gridwidth\": 2, \"linecolor\": \"white\", \"showbackground\": true, \"ticks\": \"\", \"zerolinecolor\": \"white\"}, \"yaxis\": {\"backgroundcolor\": \"#E5ECF6\", \"gridcolor\": \"white\", \"gridwidth\": 2, \"linecolor\": \"white\", \"showbackground\": true, \"ticks\": \"\", \"zerolinecolor\": \"white\"}, \"zaxis\": {\"backgroundcolor\": \"#E5ECF6\", \"gridcolor\": \"white\", \"gridwidth\": 2, \"linecolor\": \"white\", \"showbackground\": true, \"ticks\": \"\", \"zerolinecolor\": \"white\"}}, \"shapedefaults\": {\"line\": {\"color\": \"#2a3f5f\"}}, \"ternary\": {\"aaxis\": {\"gridcolor\": \"white\", \"linecolor\": \"white\", \"ticks\": \"\"}, \"baxis\": {\"gridcolor\": \"white\", \"linecolor\": \"white\", \"ticks\": \"\"}, \"bgcolor\": \"#E5ECF6\", \"caxis\": {\"gridcolor\": \"white\", \"linecolor\": \"white\", \"ticks\": \"\"}}, \"title\": {\"x\": 0.05}, \"xaxis\": {\"automargin\": true, \"gridcolor\": \"white\", \"linecolor\": \"white\", \"ticks\": \"\", \"title\": {\"standoff\": 15}, \"zerolinecolor\": \"white\", \"zerolinewidth\": 2}, \"yaxis\": {\"automargin\": true, \"gridcolor\": \"white\", \"linecolor\": \"white\", \"ticks\": \"\", \"title\": {\"standoff\": 15}, \"zerolinecolor\": \"white\", \"zerolinewidth\": 2}}}, \"title\": {\"text\": \"Logistic Regression Metrics and Fraction %\", \"x\": 0.45, \"xanchor\": \"center\", \"y\": 0.95, \"yanchor\": \"top\"}, \"xaxis\": {\"anchor\": \"y\", \"domain\": [0.0, 1.0], \"title\": {\"text\": \"Fraction %\"}}, \"yaxis\": {\"anchor\": \"x\", \"domain\": [0.0, 1.0], \"range\": [0, 1], \"title\": {\"text\": \"Score\"}}},\n",
              "                        {\"responsive\": true}\n",
              "                    ).then(function(){\n",
              "                            \n",
              "var gd = document.getElementById('05ad0093-01ad-4878-84e2-3ad103a1665d');\n",
              "var x = new MutationObserver(function (mutations, observer) {{\n",
              "        var display = window.getComputedStyle(gd).display;\n",
              "        if (!display || display === 'none') {{\n",
              "            console.log([gd, 'removed!']);\n",
              "            Plotly.purge(gd);\n",
              "            observer.disconnect();\n",
              "        }}\n",
              "}});\n",
              "\n",
              "// Listen for the removal of the full notebook cells\n",
              "var notebookContainer = gd.closest('#notebook-container');\n",
              "if (notebookContainer) {{\n",
              "    x.observe(notebookContainer, {childList: true});\n",
              "}}\n",
              "\n",
              "// Listen for the clearing of the current output cell\n",
              "var outputEl = gd.closest('.output');\n",
              "if (outputEl) {{\n",
              "    x.observe(outputEl, {childList: true});\n",
              "}}\n",
              "\n",
              "                        })\n",
              "                };\n",
              "                });\n",
              "            </script>\n",
              "        </div>"
            ],
            "application/vnd.plotly.v1+json": {
              "data": [
                {
                  "hovertemplate": "Metric=Accuracy<br>Fraction %=%{x}<br>Score=%{y}",
                  "showlegend": true,
                  "legendgroup": "Metric=Accuracy",
                  "name": "Metric=Accuracy",
                  "yaxis": "y",
                  "hoverlabel": {
                    "namelength": 0
                  },
                  "mode": "lines",
                  "xaxis": "x",
                  "y": [
                    0.985,
                    0.9838383838383838,
                    0.986734693877551,
                    0.98659793814433,
                    0.9864583333333333,
                    0.9863157894736843,
                    0.9840425531914894,
                    0.986021505376344,
                    0.9847826086956522,
                    0.9846153846153847,
                    0.9866666666666667
                  ],
                  "x": [
                    0,
                    0.01,
                    0.02,
                    0.03,
                    0.04,
                    0.05,
                    0.06,
                    0.07,
                    0.08,
                    0.09,
                    0.1
                  ],
                  "line": {
                    "color": "#636efa",
                    "dash": "solid",
                    "shape": "linear"
                  },
                  "type": "scatter"
                },
                {
                  "hovertemplate": "Metric=AUC<br>Fraction %=%{x}<br>Score=%{y}",
                  "showlegend": true,
                  "legendgroup": "Metric=AUC",
                  "name": "Metric=AUC",
                  "yaxis": "y",
                  "hoverlabel": {
                    "namelength": 0
                  },
                  "mode": "lines",
                  "xaxis": "x",
                  "y": [
                    0.7229780033840948,
                    0.7098803418803419,
                    0.6975578712910667,
                    0.6840640222686152,
                    0.7050808720112518,
                    0.6656005685856432,
                    0.6366738505747127,
                    0.7036129266521423,
                    0.6415198237885463,
                    0.7152004454342984,
                    0.6571884384384385
                  ],
                  "x": [
                    0,
                    0.01,
                    0.02,
                    0.03,
                    0.04,
                    0.05,
                    0.06,
                    0.07,
                    0.08,
                    0.09,
                    0.1
                  ],
                  "line": {
                    "color": "#EF553B",
                    "dash": "solid",
                    "shape": "linear"
                  },
                  "type": "scatter"
                },
                {
                  "hovertemplate": "Metric=Recall<br>Fraction %=%{x}<br>Score=%{y}",
                  "showlegend": true,
                  "legendgroup": "Metric=Recall",
                  "name": "Metric=Recall",
                  "yaxis": "y",
                  "hoverlabel": {
                    "namelength": 0
                  },
                  "mode": "lines",
                  "xaxis": "x",
                  "y": [
                    0.06666666666666667,
                    0.06666666666666667,
                    0.07692307692307693,
                    0,
                    0,
                    0,
                    0,
                    0,
                    0,
                    0,
                    0.08333333333333333
                  ],
                  "x": [
                    0,
                    0.01,
                    0.02,
                    0.03,
                    0.04,
                    0.05,
                    0.06,
                    0.07,
                    0.08,
                    0.09,
                    0.1
                  ],
                  "line": {
                    "color": "#00cc96",
                    "dash": "solid",
                    "shape": "linear"
                  },
                  "type": "scatter"
                },
                {
                  "hovertemplate": "Metric=Precision<br>Fraction %=%{x}<br>Score=%{y}",
                  "showlegend": true,
                  "legendgroup": "Metric=Precision",
                  "name": "Metric=Precision",
                  "yaxis": "y",
                  "hoverlabel": {
                    "namelength": 0
                  },
                  "mode": "lines",
                  "xaxis": "x",
                  "y": [
                    0.5,
                    0.3333333333333333,
                    0.5,
                    0,
                    0,
                    0,
                    0,
                    0,
                    0,
                    0,
                    0.5
                  ],
                  "x": [
                    0,
                    0.01,
                    0.02,
                    0.03,
                    0.04,
                    0.05,
                    0.06,
                    0.07,
                    0.08,
                    0.09,
                    0.1
                  ],
                  "line": {
                    "color": "#ab63fa",
                    "dash": "solid",
                    "shape": "linear"
                  },
                  "type": "scatter"
                },
                {
                  "hovertemplate": "Metric=F1<br>Fraction %=%{x}<br>Score=%{y}",
                  "showlegend": true,
                  "legendgroup": "Metric=F1",
                  "name": "Metric=F1",
                  "yaxis": "y",
                  "hoverlabel": {
                    "namelength": 0
                  },
                  "mode": "lines",
                  "xaxis": "x",
                  "y": [
                    0.11764705882352941,
                    0.1111111111111111,
                    0.13333333333333336,
                    0,
                    0,
                    0,
                    0,
                    0,
                    0,
                    0,
                    0.14285714285714285
                  ],
                  "x": [
                    0,
                    0.01,
                    0.02,
                    0.03,
                    0.04,
                    0.05,
                    0.06,
                    0.07,
                    0.08,
                    0.09,
                    0.1
                  ],
                  "line": {
                    "color": "#FFA15A",
                    "dash": "solid",
                    "shape": "linear"
                  },
                  "type": "scatter"
                },
                {
                  "hovertemplate": "Metric=Kappa<br>Fraction %=%{x}<br>Score=%{y}",
                  "showlegend": true,
                  "legendgroup": "Metric=Kappa",
                  "name": "Metric=Kappa",
                  "yaxis": "y",
                  "hoverlabel": {
                    "namelength": 0
                  },
                  "mode": "lines",
                  "xaxis": "x",
                  "y": [
                    0.11452184179456915,
                    0.1065989847715737,
                    0.13025669033315135,
                    -0.0019068806610520461,
                    -0.0019267822736028783,
                    -0.001947103683271223,
                    -0.0051325919589393365,
                    -0.0019890601690701892,
                    -0.0037406483790523026,
                    -0.0037819098644815696,
                    0.13957934990439758
                  ],
                  "x": [
                    0,
                    0.01,
                    0.02,
                    0.03,
                    0.04,
                    0.05,
                    0.06,
                    0.07,
                    0.08,
                    0.09,
                    0.1
                  ],
                  "line": {
                    "color": "#19d3f3",
                    "dash": "solid",
                    "shape": "linear"
                  },
                  "type": "scatter"
                }
              ],
              "config": {
                "plotlyServerURL": "https://plot.ly"
              },
              "layout": {
                "template": {
                  "layout": {
                    "shapedefaults": {
                      "line": {
                        "color": "#2a3f5f"
                      }
                    },
                    "polar": {
                      "radialaxis": {
                        "ticks": "",
                        "gridcolor": "white",
                        "linecolor": "white"
                      },
                      "bgcolor": "#E5ECF6",
                      "angularaxis": {
                        "ticks": "",
                        "gridcolor": "white",
                        "linecolor": "white"
                      }
                    },
                    "colorway": [
                      "#636efa",
                      "#EF553B",
                      "#00cc96",
                      "#ab63fa",
                      "#FFA15A",
                      "#19d3f3",
                      "#FF6692",
                      "#B6E880",
                      "#FF97FF",
                      "#FECB52"
                    ],
                    "xaxis": {
                      "automargin": true,
                      "title": {
                        "standoff": 15
                      },
                      "zerolinewidth": 2,
                      "ticks": "",
                      "zerolinecolor": "white",
                      "gridcolor": "white",
                      "linecolor": "white"
                    },
                    "colorscale": {
                      "diverging": [
                        [
                          0,
                          "#8e0152"
                        ],
                        [
                          0.1,
                          "#c51b7d"
                        ],
                        [
                          0.2,
                          "#de77ae"
                        ],
                        [
                          0.3,
                          "#f1b6da"
                        ],
                        [
                          0.4,
                          "#fde0ef"
                        ],
                        [
                          0.5,
                          "#f7f7f7"
                        ],
                        [
                          0.6,
                          "#e6f5d0"
                        ],
                        [
                          0.7,
                          "#b8e186"
                        ],
                        [
                          0.8,
                          "#7fbc41"
                        ],
                        [
                          0.9,
                          "#4d9221"
                        ],
                        [
                          1,
                          "#276419"
                        ]
                      ],
                      "sequential": [
                        [
                          0,
                          "#0d0887"
                        ],
                        [
                          0.1111111111111111,
                          "#46039f"
                        ],
                        [
                          0.2222222222222222,
                          "#7201a8"
                        ],
                        [
                          0.3333333333333333,
                          "#9c179e"
                        ],
                        [
                          0.4444444444444444,
                          "#bd3786"
                        ],
                        [
                          0.5555555555555556,
                          "#d8576b"
                        ],
                        [
                          0.6666666666666666,
                          "#ed7953"
                        ],
                        [
                          0.7777777777777778,
                          "#fb9f3a"
                        ],
                        [
                          0.8888888888888888,
                          "#fdca26"
                        ],
                        [
                          1,
                          "#f0f921"
                        ]
                      ],
                      "sequentialminus": [
                        [
                          0,
                          "#0d0887"
                        ],
                        [
                          0.1111111111111111,
                          "#46039f"
                        ],
                        [
                          0.2222222222222222,
                          "#7201a8"
                        ],
                        [
                          0.3333333333333333,
                          "#9c179e"
                        ],
                        [
                          0.4444444444444444,
                          "#bd3786"
                        ],
                        [
                          0.5555555555555556,
                          "#d8576b"
                        ],
                        [
                          0.6666666666666666,
                          "#ed7953"
                        ],
                        [
                          0.7777777777777778,
                          "#fb9f3a"
                        ],
                        [
                          0.8888888888888888,
                          "#fdca26"
                        ],
                        [
                          1,
                          "#f0f921"
                        ]
                      ]
                    },
                    "paper_bgcolor": "white",
                    "plot_bgcolor": "#E5ECF6",
                    "title": {
                      "x": 0.05
                    },
                    "scene": {
                      "zaxis": {
                        "backgroundcolor": "#E5ECF6",
                        "ticks": "",
                        "gridwidth": 2,
                        "showbackground": true,
                        "zerolinecolor": "white",
                        "gridcolor": "white",
                        "linecolor": "white"
                      },
                      "xaxis": {
                        "backgroundcolor": "#E5ECF6",
                        "ticks": "",
                        "gridwidth": 2,
                        "showbackground": true,
                        "zerolinecolor": "white",
                        "gridcolor": "white",
                        "linecolor": "white"
                      },
                      "yaxis": {
                        "backgroundcolor": "#E5ECF6",
                        "ticks": "",
                        "gridwidth": 2,
                        "showbackground": true,
                        "zerolinecolor": "white",
                        "gridcolor": "white",
                        "linecolor": "white"
                      }
                    },
                    "yaxis": {
                      "automargin": true,
                      "title": {
                        "standoff": 15
                      },
                      "zerolinewidth": 2,
                      "ticks": "",
                      "zerolinecolor": "white",
                      "gridcolor": "white",
                      "linecolor": "white"
                    },
                    "annotationdefaults": {
                      "arrowwidth": 1,
                      "arrowhead": 0,
                      "arrowcolor": "#2a3f5f"
                    },
                    "hoverlabel": {
                      "align": "left"
                    },
                    "ternary": {
                      "bgcolor": "#E5ECF6",
                      "baxis": {
                        "ticks": "",
                        "gridcolor": "white",
                        "linecolor": "white"
                      },
                      "caxis": {
                        "ticks": "",
                        "gridcolor": "white",
                        "linecolor": "white"
                      },
                      "aaxis": {
                        "ticks": "",
                        "gridcolor": "white",
                        "linecolor": "white"
                      }
                    },
                    "mapbox": {
                      "style": "light"
                    },
                    "hovermode": "closest",
                    "font": {
                      "color": "#2a3f5f"
                    },
                    "geo": {
                      "showland": true,
                      "landcolor": "#E5ECF6",
                      "showlakes": true,
                      "bgcolor": "white",
                      "subunitcolor": "white",
                      "lakecolor": "white"
                    },
                    "coloraxis": {
                      "colorbar": {
                        "outlinewidth": 0,
                        "ticks": ""
                      }
                    }
                  },
                  "data": {
                    "mesh3d": [
                      {
                        "colorbar": {
                          "outlinewidth": 0,
                          "ticks": ""
                        },
                        "type": "mesh3d"
                      }
                    ],
                    "scattercarpet": [
                      {
                        "marker": {
                          "colorbar": {
                            "outlinewidth": 0,
                            "ticks": ""
                          }
                        },
                        "type": "scattercarpet"
                      }
                    ],
                    "pie": [
                      {
                        "automargin": true,
                        "type": "pie"
                      }
                    ],
                    "surface": [
                      {
                        "colorbar": {
                          "outlinewidth": 0,
                          "ticks": ""
                        },
                        "type": "surface",
                        "colorscale": [
                          [
                            0,
                            "#0d0887"
                          ],
                          [
                            0.1111111111111111,
                            "#46039f"
                          ],
                          [
                            0.2222222222222222,
                            "#7201a8"
                          ],
                          [
                            0.3333333333333333,
                            "#9c179e"
                          ],
                          [
                            0.4444444444444444,
                            "#bd3786"
                          ],
                          [
                            0.5555555555555556,
                            "#d8576b"
                          ],
                          [
                            0.6666666666666666,
                            "#ed7953"
                          ],
                          [
                            0.7777777777777778,
                            "#fb9f3a"
                          ],
                          [
                            0.8888888888888888,
                            "#fdca26"
                          ],
                          [
                            1,
                            "#f0f921"
                          ]
                        ]
                      }
                    ],
                    "table": [
                      {
                        "header": {
                          "line": {
                            "color": "white"
                          },
                          "fill": {
                            "color": "#C8D4E3"
                          }
                        },
                        "cells": {
                          "line": {
                            "color": "white"
                          },
                          "fill": {
                            "color": "#EBF0F8"
                          }
                        },
                        "type": "table"
                      }
                    ],
                    "scatterpolargl": [
                      {
                        "marker": {
                          "colorbar": {
                            "outlinewidth": 0,
                            "ticks": ""
                          }
                        },
                        "type": "scatterpolargl"
                      }
                    ],
                    "contour": [
                      {
                        "colorbar": {
                          "outlinewidth": 0,
                          "ticks": ""
                        },
                        "type": "contour",
                        "colorscale": [
                          [
                            0,
                            "#0d0887"
                          ],
                          [
                            0.1111111111111111,
                            "#46039f"
                          ],
                          [
                            0.2222222222222222,
                            "#7201a8"
                          ],
                          [
                            0.3333333333333333,
                            "#9c179e"
                          ],
                          [
                            0.4444444444444444,
                            "#bd3786"
                          ],
                          [
                            0.5555555555555556,
                            "#d8576b"
                          ],
                          [
                            0.6666666666666666,
                            "#ed7953"
                          ],
                          [
                            0.7777777777777778,
                            "#fb9f3a"
                          ],
                          [
                            0.8888888888888888,
                            "#fdca26"
                          ],
                          [
                            1,
                            "#f0f921"
                          ]
                        ]
                      }
                    ],
                    "carpet": [
                      {
                        "type": "carpet",
                        "baxis": {
                          "minorgridcolor": "white",
                          "gridcolor": "white",
                          "linecolor": "white",
                          "endlinecolor": "#2a3f5f",
                          "startlinecolor": "#2a3f5f"
                        },
                        "aaxis": {
                          "minorgridcolor": "white",
                          "gridcolor": "white",
                          "linecolor": "white",
                          "endlinecolor": "#2a3f5f",
                          "startlinecolor": "#2a3f5f"
                        }
                      }
                    ],
                    "contourcarpet": [
                      {
                        "colorbar": {
                          "outlinewidth": 0,
                          "ticks": ""
                        },
                        "type": "contourcarpet"
                      }
                    ],
                    "heatmap": [
                      {
                        "colorbar": {
                          "outlinewidth": 0,
                          "ticks": ""
                        },
                        "type": "heatmap",
                        "colorscale": [
                          [
                            0,
                            "#0d0887"
                          ],
                          [
                            0.1111111111111111,
                            "#46039f"
                          ],
                          [
                            0.2222222222222222,
                            "#7201a8"
                          ],
                          [
                            0.3333333333333333,
                            "#9c179e"
                          ],
                          [
                            0.4444444444444444,
                            "#bd3786"
                          ],
                          [
                            0.5555555555555556,
                            "#d8576b"
                          ],
                          [
                            0.6666666666666666,
                            "#ed7953"
                          ],
                          [
                            0.7777777777777778,
                            "#fb9f3a"
                          ],
                          [
                            0.8888888888888888,
                            "#fdca26"
                          ],
                          [
                            1,
                            "#f0f921"
                          ]
                        ]
                      }
                    ],
                    "scattermapbox": [
                      {
                        "marker": {
                          "colorbar": {
                            "outlinewidth": 0,
                            "ticks": ""
                          }
                        },
                        "type": "scattermapbox"
                      }
                    ],
                    "scatter3d": [
                      {
                        "marker": {
                          "colorbar": {
                            "outlinewidth": 0,
                            "ticks": ""
                          }
                        },
                        "line": {
                          "colorbar": {
                            "outlinewidth": 0,
                            "ticks": ""
                          }
                        },
                        "type": "scatter3d"
                      }
                    ],
                    "scattergl": [
                      {
                        "marker": {
                          "colorbar": {
                            "outlinewidth": 0,
                            "ticks": ""
                          }
                        },
                        "type": "scattergl"
                      }
                    ],
                    "scatterternary": [
                      {
                        "marker": {
                          "colorbar": {
                            "outlinewidth": 0,
                            "ticks": ""
                          }
                        },
                        "type": "scatterternary"
                      }
                    ],
                    "histogram": [
                      {
                        "marker": {
                          "colorbar": {
                            "outlinewidth": 0,
                            "ticks": ""
                          }
                        },
                        "type": "histogram"
                      }
                    ],
                    "heatmapgl": [
                      {
                        "colorbar": {
                          "outlinewidth": 0,
                          "ticks": ""
                        },
                        "type": "heatmapgl",
                        "colorscale": [
                          [
                            0,
                            "#0d0887"
                          ],
                          [
                            0.1111111111111111,
                            "#46039f"
                          ],
                          [
                            0.2222222222222222,
                            "#7201a8"
                          ],
                          [
                            0.3333333333333333,
                            "#9c179e"
                          ],
                          [
                            0.4444444444444444,
                            "#bd3786"
                          ],
                          [
                            0.5555555555555556,
                            "#d8576b"
                          ],
                          [
                            0.6666666666666666,
                            "#ed7953"
                          ],
                          [
                            0.7777777777777778,
                            "#fb9f3a"
                          ],
                          [
                            0.8888888888888888,
                            "#fdca26"
                          ],
                          [
                            1,
                            "#f0f921"
                          ]
                        ]
                      }
                    ],
                    "scatterpolar": [
                      {
                        "marker": {
                          "colorbar": {
                            "outlinewidth": 0,
                            "ticks": ""
                          }
                        },
                        "type": "scatterpolar"
                      }
                    ],
                    "histogram2d": [
                      {
                        "colorbar": {
                          "outlinewidth": 0,
                          "ticks": ""
                        },
                        "type": "histogram2d",
                        "colorscale": [
                          [
                            0,
                            "#0d0887"
                          ],
                          [
                            0.1111111111111111,
                            "#46039f"
                          ],
                          [
                            0.2222222222222222,
                            "#7201a8"
                          ],
                          [
                            0.3333333333333333,
                            "#9c179e"
                          ],
                          [
                            0.4444444444444444,
                            "#bd3786"
                          ],
                          [
                            0.5555555555555556,
                            "#d8576b"
                          ],
                          [
                            0.6666666666666666,
                            "#ed7953"
                          ],
                          [
                            0.7777777777777778,
                            "#fb9f3a"
                          ],
                          [
                            0.8888888888888888,
                            "#fdca26"
                          ],
                          [
                            1,
                            "#f0f921"
                          ]
                        ]
                      }
                    ],
                    "scattergeo": [
                      {
                        "marker": {
                          "colorbar": {
                            "outlinewidth": 0,
                            "ticks": ""
                          }
                        },
                        "type": "scattergeo"
                      }
                    ],
                    "bar": [
                      {
                        "marker": {
                          "line": {
                            "color": "#E5ECF6",
                            "width": 0.5
                          }
                        },
                        "type": "bar",
                        "error_x": {
                          "color": "#2a3f5f"
                        },
                        "error_y": {
                          "color": "#2a3f5f"
                        }
                      }
                    ],
                    "choropleth": [
                      {
                        "colorbar": {
                          "outlinewidth": 0,
                          "ticks": ""
                        },
                        "type": "choropleth"
                      }
                    ],
                    "parcoords": [
                      {
                        "line": {
                          "colorbar": {
                            "outlinewidth": 0,
                            "ticks": ""
                          }
                        },
                        "type": "parcoords"
                      }
                    ],
                    "barpolar": [
                      {
                        "marker": {
                          "line": {
                            "color": "#E5ECF6",
                            "width": 0.5
                          }
                        },
                        "type": "barpolar"
                      }
                    ],
                    "histogram2dcontour": [
                      {
                        "colorbar": {
                          "outlinewidth": 0,
                          "ticks": ""
                        },
                        "type": "histogram2dcontour",
                        "colorscale": [
                          [
                            0,
                            "#0d0887"
                          ],
                          [
                            0.1111111111111111,
                            "#46039f"
                          ],
                          [
                            0.2222222222222222,
                            "#7201a8"
                          ],
                          [
                            0.3333333333333333,
                            "#9c179e"
                          ],
                          [
                            0.4444444444444444,
                            "#bd3786"
                          ],
                          [
                            0.5555555555555556,
                            "#d8576b"
                          ],
                          [
                            0.6666666666666666,
                            "#ed7953"
                          ],
                          [
                            0.7777777777777778,
                            "#fb9f3a"
                          ],
                          [
                            0.8888888888888888,
                            "#fdca26"
                          ],
                          [
                            1,
                            "#f0f921"
                          ]
                        ]
                      }
                    ],
                    "scatter": [
                      {
                        "marker": {
                          "colorbar": {
                            "outlinewidth": 0,
                            "ticks": ""
                          }
                        },
                        "type": "scatter"
                      }
                    ]
                  }
                },
                "title": {
                  "y": 0.95,
                  "text": "Logistic Regression Metrics and Fraction %",
                  "yanchor": "top",
                  "xanchor": "center",
                  "x": 0.45
                },
                "plot_bgcolor": "rgb(245,245,245)",
                "yaxis": {
                  "range": [
                    0,
                    1
                  ],
                  "domain": [
                    0,
                    1
                  ],
                  "anchor": "x",
                  "title": {
                    "text": "Score"
                  }
                },
                "xaxis": {
                  "domain": [
                    0,
                    1
                  ],
                  "anchor": "y",
                  "title": {
                    "text": "Fraction %"
                  }
                },
                "margin": {
                  "t": 60
                },
                "legend": {
                  "tracegroupgap": 0
                }
              }
            }
          },
          "metadata": {
            "tags": []
          }
        },
        {
          "output_type": "stream",
          "text": [
            "Best Model: k-Nearest Neighbors Detector | Fraction %: 0.02 | Accuracy : 0.9867\n"
          ],
          "name": "stdout"
        }
      ]
    },
    {
      "cell_type": "code",
      "metadata": {
        "id": "Mz4CZFmS8XKc",
        "colab_type": "code",
        "colab": {}
      },
      "source": [
        "# Predictions\n",
        "knn_predictions = predict_model(knn, data = anomaly)"
      ],
      "execution_count": 0,
      "outputs": []
    },
    {
      "cell_type": "code",
      "metadata": {
        "id": "R40y-Oyg8oCT",
        "colab_type": "code",
        "colab": {}
      },
      "source": [
        "# Saving the Model\n",
        "save_model(knn, 'knn_model_250420120_v1')\n",
        "# Loading the Model\n",
        "#saved_knn = load_model('knn_model_250420120_v1')"
      ],
      "execution_count": 0,
      "outputs": []
    },
    {
      "cell_type": "code",
      "metadata": {
        "id": "X_FS92pO8tfp",
        "colab_type": "code",
        "colab": {}
      },
      "source": [
        "# Saving the Experiment\n",
        "save_experiment('experiment_250420120_v1')\n",
        "# Loading the Experiment\n",
        "saved_experiment = load_experiment('experiment_250420120_v1')"
      ],
      "execution_count": 0,
      "outputs": []
    }
  ]
}